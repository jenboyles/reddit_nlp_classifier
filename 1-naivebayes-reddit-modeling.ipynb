{
 "cells": [
  {
   "cell_type": "markdown",
   "metadata": {},
   "source": [
    "## Binary Classification Modeling - r/biology & r/biochemistry Predicting with Naive Bayes"
   ]
  },
  {
   "cell_type": "code",
   "execution_count": 19,
   "metadata": {},
   "outputs": [
    {
     "name": "stderr",
     "output_type": "stream",
     "text": [
      "[nltk_data] Downloading package stopwords to\n",
      "[nltk_data]     C:\\Users\\Jen\\AppData\\Roaming\\nltk_data...\n",
      "[nltk_data]   Package stopwords is already up-to-date!\n"
     ]
    }
   ],
   "source": [
    "#imports\n",
    "import pandas as pd\n",
    "import numpy as np\n",
    "import matplotlib.pyplot as plt\n",
    "import warnings\n",
    "\n",
    "from sklearn.feature_extraction.text import CountVectorizer, TfidfVectorizer\n",
    "from sklearn.pipeline import make_pipeline\n",
    "from sklearn.preprocessing import StandardScaler\n",
    "from sklearn.model_selection import train_test_split, GridSearchCV\n",
    "from sklearn.naive_bayes import MultinomialNB\n",
    "from sklearn.metrics import recall_score, f1_score, precision_score, plot_confusion_matrix\n",
    "\n",
    "#lemmatizer\n",
    "import nltk\n",
    "nltk.download('stopwords')\n",
    "from nltk.stem import WordNetLemmatizer\n",
    "# Import stemmer.\n",
    "from nltk.stem.porter import PorterStemmer\n",
    "# Import RegEx Tokenizer\n",
    "from nltk.tokenize import RegexpTokenizer, word_tokenize"
   ]
  },
  {
   "cell_type": "code",
   "execution_count": 2,
   "metadata": {},
   "outputs": [],
   "source": [
    "#get rid of userwarning when running code and getting tokenized words not in the stop words list\n",
    "warnings.filterwarnings(\"ignore\", category=UserWarning)"
   ]
  },
  {
   "cell_type": "code",
   "execution_count": 3,
   "metadata": {},
   "outputs": [],
   "source": [
    "#read in the submissions csv file\n",
    "#get rid of unnamed:0 column wtih index_col\n",
    "submissions = pd.read_csv('datasets/cleaned-submission.csv',index_col=0)"
   ]
  },
  {
   "cell_type": "code",
   "execution_count": 4,
   "metadata": {},
   "outputs": [
    {
     "name": "stdout",
     "output_type": "stream",
     "text": [
      "<class 'pandas.core.frame.DataFrame'>\n",
      "Int64Index: 11007 entries, 0 to 6228\n",
      "Data columns (total 3 columns):\n",
      " #   Column     Non-Null Count  Dtype \n",
      "---  ------     --------------  ----- \n",
      " 0   subreddit  11007 non-null  object\n",
      " 1   selftext   10941 non-null  object\n",
      " 2   title      11002 non-null  object\n",
      "dtypes: object(3)\n",
      "memory usage: 344.0+ KB\n"
     ]
    }
   ],
   "source": [
    "#getting the information from submissions\n",
    "#there are null values present\n",
    "submissions.info()"
   ]
  },
  {
   "cell_type": "code",
   "execution_count": 5,
   "metadata": {},
   "outputs": [
    {
     "data": {
      "text/html": [
       "<div>\n",
       "<style scoped>\n",
       "    .dataframe tbody tr th:only-of-type {\n",
       "        vertical-align: middle;\n",
       "    }\n",
       "\n",
       "    .dataframe tbody tr th {\n",
       "        vertical-align: top;\n",
       "    }\n",
       "\n",
       "    .dataframe thead th {\n",
       "        text-align: right;\n",
       "    }\n",
       "</style>\n",
       "<table border=\"1\" class=\"dataframe\">\n",
       "  <thead>\n",
       "    <tr style=\"text-align: right;\">\n",
       "      <th></th>\n",
       "      <th>subreddit</th>\n",
       "      <th>selftext</th>\n",
       "      <th>title</th>\n",
       "    </tr>\n",
       "  </thead>\n",
       "  <tbody>\n",
       "    <tr>\n",
       "      <th>6227</th>\n",
       "      <td>Biochemistry</td>\n",
       "      <td>so far ive mostly looked for stuff in my homet...</td>\n",
       "      <td>wanting to take a year off between undergrad a...</td>\n",
       "    </tr>\n",
       "    <tr>\n",
       "      <th>6228</th>\n",
       "      <td>Biochemistry</td>\n",
       "      <td>im currently taking a biochemistry class at un...</td>\n",
       "      <td>biochemistry help</td>\n",
       "    </tr>\n",
       "  </tbody>\n",
       "</table>\n",
       "</div>"
      ],
      "text/plain": [
       "         subreddit                                           selftext  \\\n",
       "6227  Biochemistry  so far ive mostly looked for stuff in my homet...   \n",
       "6228  Biochemistry  im currently taking a biochemistry class at un...   \n",
       "\n",
       "                                                  title  \n",
       "6227  wanting to take a year off between undergrad a...  \n",
       "6228                                  biochemistry help  "
      ]
     },
     "execution_count": 5,
     "metadata": {},
     "output_type": "execute_result"
    }
   ],
   "source": [
    "#observing the presence of subreddit names within the text below\n",
    "submissions.tail(2)"
   ]
  },
  {
   "cell_type": "code",
   "execution_count": 6,
   "metadata": {},
   "outputs": [],
   "source": [
    "#drop any null values\n",
    "submissions.dropna(axis=0,how='any',inplace=True)"
   ]
  },
  {
   "cell_type": "code",
   "execution_count": 7,
   "metadata": {},
   "outputs": [],
   "source": [
    "#remove all words that apply to the target variable -- biology,bio,biochem,biochemistry\n",
    "submissions['selftext'].replace('biology','',regex=True,inplace=True)\n",
    "submissions['selftext'].replace('biochemistry','',regex=True,inplace=True)\n",
    "submissions['selftext'].replace('chemistry','',regex=True,inplace=True)\n",
    "submissions['selftext'].replace('biochem','',regex=True,inplace=True)\n",
    "submissions['selftext'].replace('bio','',regex=True,inplace=True)\n",
    "submissions['selftext'].replace('chem','',regex=True,inplace=True)\n",
    "\n",
    "submissions['title'].replace('biology','',regex=True,inplace=True)\n",
    "submissions['title'].replace('biochemistry','',regex=True,inplace=True)\n",
    "submissions['title'].replace('chemistry','',regex=True,inplace=True)\n",
    "submissions['title'].replace('biochem','',regex=True,inplace=True)\n",
    "submissions['title'].replace('bio','',regex=True,inplace=True)\n",
    "submissions['title'].replace('chem','',regex=True,inplace=True)"
   ]
  },
  {
   "cell_type": "code",
   "execution_count": 8,
   "metadata": {},
   "outputs": [
    {
     "data": {
      "text/html": [
       "<div>\n",
       "<style scoped>\n",
       "    .dataframe tbody tr th:only-of-type {\n",
       "        vertical-align: middle;\n",
       "    }\n",
       "\n",
       "    .dataframe tbody tr th {\n",
       "        vertical-align: top;\n",
       "    }\n",
       "\n",
       "    .dataframe thead th {\n",
       "        text-align: right;\n",
       "    }\n",
       "</style>\n",
       "<table border=\"1\" class=\"dataframe\">\n",
       "  <thead>\n",
       "    <tr style=\"text-align: right;\">\n",
       "      <th></th>\n",
       "      <th>subreddit</th>\n",
       "      <th>selftext</th>\n",
       "      <th>title</th>\n",
       "    </tr>\n",
       "  </thead>\n",
       "  <tbody>\n",
       "    <tr>\n",
       "      <th>6227</th>\n",
       "      <td>Biochemistry</td>\n",
       "      <td>so far ive mostly looked for stuff in my homet...</td>\n",
       "      <td>wanting to take a year off between undergrad a...</td>\n",
       "    </tr>\n",
       "    <tr>\n",
       "      <th>6228</th>\n",
       "      <td>Biochemistry</td>\n",
       "      <td>im currently taking a  class at university im ...</td>\n",
       "      <td>help</td>\n",
       "    </tr>\n",
       "  </tbody>\n",
       "</table>\n",
       "</div>"
      ],
      "text/plain": [
       "         subreddit                                           selftext  \\\n",
       "6227  Biochemistry  so far ive mostly looked for stuff in my homet...   \n",
       "6228  Biochemistry  im currently taking a  class at university im ...   \n",
       "\n",
       "                                                  title  \n",
       "6227  wanting to take a year off between undergrad a...  \n",
       "6228                                               help  "
      ]
     },
     "execution_count": 8,
     "metadata": {},
     "output_type": "execute_result"
    }
   ],
   "source": [
    "#observing the loss of subreddit names\n",
    "#it is now removed from the text\n",
    "submissions.tail(2)"
   ]
  },
  {
   "cell_type": "code",
   "execution_count": 9,
   "metadata": {},
   "outputs": [
    {
     "data": {
      "text/plain": [
       "(10936, 3)"
      ]
     },
     "execution_count": 9,
     "metadata": {},
     "output_type": "execute_result"
    }
   ],
   "source": [
    "#getting the shape of the submissions dataframe\n",
    "submissions.shape"
   ]
  },
  {
   "cell_type": "markdown",
   "metadata": {},
   "source": [
    "### Removing The Above Words Explained:\n",
    "\n",
    "Part of the data science question I am interested in is whether the subreddits, r/biology and r/biochemsitry, can be classified using scientific terminology; for example carbohydrate metabolism or gymnosperm. Carbohydrate metabolism is one of the main biochemical processes that produces energy for cells. A gymnosperm is a group of seed-producing plants and a biological term. Therfore, I did not want versions of the words 'biology', which was present in over 2,000 of the r/biology selftext posts, or 'biochemsitry', which was present in over 1,500 biochemistry selftext posts, to have a significant influence on classification of the posts. In this project, I wished to solely focus the NLP model classification to prominent scientific terms or other meaningful words to classify the subreddits."
   ]
  },
  {
   "cell_type": "markdown",
   "metadata": {},
   "source": [
    "### Modeling with Title Text"
   ]
  },
  {
   "cell_type": "code",
   "execution_count": 10,
   "metadata": {},
   "outputs": [],
   "source": [
    "#setting up initial X and y values -- using titles only first\n",
    "#1 corresponds to biochemistry, 0 corresponds to biology\n",
    "#need to make the str unicode with astype, emoji characters in the strings\n",
    "#help with the unicode error found below:\n",
    "#https://stackoverflow.com/questions/39303912/tfidfvectorizer-in-scikit-learn-valueerror-np-nan-is-an-invalid-document\n",
    "X = submissions['title'].values.astype('U')\n",
    "y = np.where(submissions['subreddit']=='Biochemistry',1,0)"
   ]
  },
  {
   "cell_type": "markdown",
   "metadata": {},
   "source": [
    "## Analysis of Most Common Title Text without Filtering"
   ]
  },
  {
   "cell_type": "code",
   "execution_count": 11,
   "metadata": {},
   "outputs": [],
   "source": [
    "#count vectorize words to find the most common\n",
    "cvect = CountVectorizer()\n",
    "Xvect = cvect.fit_transform(X)\n",
    "#make it a dataframe\n",
    "dtm = pd.DataFrame(Xvect.toarray(),columns = cvect.get_feature_names())"
   ]
  },
  {
   "cell_type": "code",
   "execution_count": 12,
   "metadata": {},
   "outputs": [
    {
     "data": {
      "image/png": "[encoded data removed]",
      "text/plain": [
       "<Figure size 720x432 with 1 Axes>"
      ]
     },
     "metadata": {
      "needs_background": "light"
     },
     "output_type": "display_data"
    }
   ],
   "source": [
    "#make a graph of the most common words\n",
    "dtm.sum().sort_values(ascending=False).head(10).plot(kind='bar',figsize=(10,6),\n",
    "                                                    color='#9370DB')\n",
    "plt.xlabel('Word')\n",
    "plt.ylabel('Word Counts')\n",
    "plt.title('The 10 Most Common Words in Reddit Titles');"
   ]
  },
  {
   "cell_type": "markdown",
   "metadata": {},
   "source": [
    "#### Visualization Interpretation:\n",
    "\n",
    "The graph above shows the 10 most common words in the titles of the subreddits posts from r/biology and r/biochemistry. As you can see, a majority of the most common words are prepositions - words such as the, to, in, etc. These prepositional words do not have any significant meaning to predicting whether a post will more likely be in r/biology or r/biochemistry so they will be removed from the models with the stop_words parameter in either CountVetorizer or TfidfVectorizer."
   ]
  },
  {
   "cell_type": "markdown",
   "metadata": {},
   "source": [
    "## Functions and Classes"
   ]
  },
  {
   "cell_type": "code",
   "execution_count": 13,
   "metadata": {},
   "outputs": [],
   "source": [
    "#step over collection of tokens and try to lemmatize each of them\n",
    "#to use in countvectorizer we pass the new class as the tokenizer\n",
    "class LemmaTokenizer:\n",
    "    def __init__(self):\n",
    "        self.lemmatizer = WordNetLemmatizer()\n",
    "    def __call__(self,doc):\n",
    "        return [self.lemmatizer.lemmatize(t) for t in word_tokenize(doc)]"
   ]
  },
  {
   "cell_type": "code",
   "execution_count": 14,
   "metadata": {},
   "outputs": [],
   "source": [
    "#step over collection of word tokens and stemmatize\n",
    "#create a class to pass into Countvectorizer in a pipeline\n",
    "class StemTokenizer:\n",
    "    def __init__(self):\n",
    "        self.stemmatizer = PorterStemmer()\n",
    "    def __call__(self,doc):\n",
    "        return [self.stemmatizer.stem(t) for t in word_tokenize(doc)]"
   ]
  },
  {
   "cell_type": "markdown",
   "metadata": {},
   "source": [
    "#### LemmaTokenizer and StemTokenizer Explained:\n",
    "\n",
    "The two above classes, LemmaTokenize and StemTokenizer were created so that lemmatization or stemmatization of the text could be done within a CountVectorizer or TfidfVectorizer object. These classes are especially useful for doing lemmatizing or stemming within pipelines."
   ]
  },
  {
   "cell_type": "markdown",
   "metadata": {},
   "source": [
    "## Stopwords"
   ]
  },
  {
   "cell_type": "code",
   "execution_count": 15,
   "metadata": {},
   "outputs": [],
   "source": [
    "#longer list of stop words\n",
    "#taken from the open source work found here: https://gist.github.com/sebleier/554280\n",
    "#txt found here: https://gist.githubusercontent.com/ZohebAbai/513218c3468130eacff6481f424e4e64/raw/b70776f341a148293ff277afa0d0302c8c38f7e2/gist_stopwords.txt\n",
    "\n",
    "stop_word = pd.read_csv('datasets/stopwords.csv',index_col=0)\n",
    "stop_word = list(stop_word['stopwords'])\n",
    "\n",
    "#remove punctuation from the stop words, as it has already been done in cleaning the text\n",
    "stop_word = [word.replace(\"'\",'') for word in stop_word]"
   ]
  },
  {
   "cell_type": "code",
   "execution_count": 16,
   "metadata": {},
   "outputs": [],
   "source": [
    "#updated stop_words to csv file for use in other modeling notebookes\n",
    "#code cell can be used to append other stop_words to the csv file\n",
    "#to make this occur uncomment the below code\n",
    "\n",
    "# df_stopwords = pd.DataFrame({'stopwords':stop_word})\n",
    "# df_stopwords.to_csv('./datasets/stopwords.csv')"
   ]
  },
  {
   "cell_type": "markdown",
   "metadata": {},
   "source": [
    "#### stopwords.csv Explained:\n",
    "\n",
    "I discovered through some investigation that the above stop words list allowed modeling to perform better, than usage of stop_words = 'english' in CountVectorizer and TfidfVectorizer. The removal of more extraneous words - which have no significance to r/biology or r/biochemistry - allowed for better accuracy in modeling that occurred below. Thus, I used a currated file of stop words in each other modeling notebook."
   ]
  },
  {
   "cell_type": "markdown",
   "metadata": {},
   "source": [
    "## Modeling With Only Title Text "
   ]
  },
  {
   "cell_type": "code",
   "execution_count": 17,
   "metadata": {},
   "outputs": [],
   "source": [
    "#stratify to get more equal target variables in the train/test split\n",
    "X_train,X_test,y_train,y_test = train_test_split(X,y,stratify=y,random_state=18)"
   ]
  },
  {
   "cell_type": "markdown",
   "metadata": {},
   "source": [
    "### Baseline Model With Text Only"
   ]
  },
  {
   "cell_type": "code",
   "execution_count": 18,
   "metadata": {},
   "outputs": [
    {
     "name": "stdout",
     "output_type": "stream",
     "text": [
      "The most frequent class is r/biochemistry. The accuracy of the null model is 0.5686.\n"
     ]
    }
   ],
   "source": [
    "#to get the baseline accuracy of the model\n",
    "#based on the most frequent value in the training data\n",
    "#biochemistry = 1, biology = 0\n",
    "\n",
    "biochem_num = y_train.sum()\n",
    "biology_num = len(y_train)-biochem_num\n",
    "\n",
    "if biology_num < biochem_num:\n",
    "    baseline_accur = round(biochem_num/len(y_train),4)\n",
    "    print(f'The most frequent class is r/biochemistry. The accuracy of the null model is {baseline_accur}.')\n",
    "    \n",
    "else:\n",
    "    baseline_accuracy = round((biology_num)/len(y_train),4)\n",
    "    print(f'The most frequent class is r/biology. The accuracy of the null model is {baseline_accuracy}.')"
   ]
  },
  {
   "cell_type": "markdown",
   "metadata": {},
   "source": [
    "#### Baseline/Null Model Explained:\n",
    "\n",
    "The baseline model allows us to find a 'starting point' to compare the performance of future models to. In binary classification, a customary baseline/null model is one that will guess the most frequently occuring class in the training set. The code above is a way to print out what the baseline accuracy of the null model actually is. With the random state of the train/test split set, this accuracy should not change with future restarts of the kernel. The most frequent class is that of r/biochemistry. Therefore, there is a 56.8% accuracy if you were to guess r/biochemsitry for every observation within the data set. \n",
    "\n",
    "Let's see if we can't improve on this score with some NLP modeling!"
   ]
  },
  {
   "cell_type": "markdown",
   "metadata": {},
   "source": [
    "## Scoring Metrics for this NLP Data Science Problem"
   ]
  },
  {
   "cell_type": "markdown",
   "metadata": {},
   "source": [
    "The evaluation metric I want to focus on for this data science problem is both accuracy and recall. I want to try and optimize recall, along with accuracy - I think that this is important for several reasons. \n",
    "\n",
    "\n",
    "For accuracy, I want the NLP model to be able to predict the correct subreddit for a post as well as possible. In the cruel land of forums - depending on the subreddit or specific forum page - a user can become banned from that forum just for posting something that is not aligned with that page's identity. Also, if you are asking a specific biology/biochemistry question, you want your post to go to the right forum, so you can get the best answer/explanation possible.\n",
    "\n",
    "For recall, I think, in this case, it is important to optimize the true positive rate. As we are trying to model towards a success of r/biochemistry, it is important to minimize the number of false negatives (incorrectly classified true r/biochemistry posts). r/biochemistry is a more specialized branch of biology and so it is important that you try to capture these biochemical/molecular-based posts into r/biochemistry, where they truly belong. Get as many r/biochemistry posts into the correct classification of r/biochemistry so you are getting the help you need from the members of that subreddit."
   ]
  },
  {
   "cell_type": "markdown",
   "metadata": {},
   "source": [
    "### Model One. Default Naive Bayes, CountVectorizer"
   ]
  },
  {
   "cell_type": "code",
   "execution_count": 106,
   "metadata": {},
   "outputs": [],
   "source": [
    "#make a pipeline for Naive Bayes Classifer\n",
    "#search pipeline through gridsearch\n",
    "cvect_NB = CountVectorizer(stop_words = stop_word)\n",
    "pipe_NB = make_pipeline(cvect_NB, StandardScaler(with_mean=False), MultinomialNB())"
   ]
  },
  {
   "cell_type": "code",
   "execution_count": 28,
   "metadata": {},
   "outputs": [
    {
     "data": {
      "text/plain": [
       "Pipeline(steps=[('countvectorizer',\n",
       "                 CountVectorizer(stop_words=['0o', '0s', '3a', '3b', '3d', '6b',\n",
       "                                             '6o', 'a', 'a1', 'a2', 'a3', 'a4',\n",
       "                                             'ab', 'able', 'about', 'above',\n",
       "                                             'abst', 'ac', 'accordance',\n",
       "                                             'according', 'accordingly',\n",
       "                                             'across', 'act', 'actually', 'ad',\n",
       "                                             'added', 'adj', 'ae', 'af',\n",
       "                                             'affected', ...])),\n",
       "                ('standardscaler', StandardScaler(with_mean=False)),\n",
       "                ('multinomialnb', MultinomialNB())])"
      ]
     },
     "execution_count": 28,
     "metadata": {},
     "output_type": "execute_result"
    }
   ],
   "source": [
    "#initial model with minimal hyperparam tuning\n",
    "#lemmatizer produce the following things not in stop words = 'ha','le','u','wa'\n",
    "pipe_NB.fit(X_train,y_train)"
   ]
  },
  {
   "cell_type": "code",
   "execution_count": 29,
   "metadata": {},
   "outputs": [
    {
     "data": {
      "text/plain": [
       "0.894762484774665"
      ]
     },
     "execution_count": 29,
     "metadata": {},
     "output_type": "execute_result"
    }
   ],
   "source": [
    "#the score on the training set is high, suspiciously high\n",
    "pipe_NB.score(X_train,y_train)"
   ]
  },
  {
   "cell_type": "code",
   "execution_count": 30,
   "metadata": {},
   "outputs": [
    {
     "data": {
      "text/plain": [
       "0.6784800876872488"
      ]
     },
     "execution_count": 30,
     "metadata": {},
     "output_type": "execute_result"
    }
   ],
   "source": [
    "#the score on the training set shows there is a lot of overfitting occuring \n",
    "#remove high variance with hyperparameter tuning\n",
    "pipe_NB.score(X_test,y_test)"
   ]
  },
  {
   "cell_type": "code",
   "execution_count": 31,
   "metadata": {},
   "outputs": [
    {
     "data": {
      "text/plain": [
       "0.7633440514469454"
      ]
     },
     "execution_count": 31,
     "metadata": {},
     "output_type": "execute_result"
    }
   ],
   "source": [
    "#recall score on the first default naive bayes with title\n",
    "recall_score(y_test,pipe_NB.predict(X_test))"
   ]
  },
  {
   "cell_type": "markdown",
   "metadata": {},
   "source": [
    "#### Model Interpretation:\n",
    "\n",
    "This model is a sort of baseline model, to see if the hypertuning of parameters for both CountVectorization and the estimator, MultinomialNB, can improve the score. This 'default' model is already performing better than the baseline model. It is scoring approximately 10% better on accuracy than the null model and has a recall score of 76.3%. Let's see how hypertuning the parameters for this model changes the classification metrics we are interested in. We can also see that this default model is overfit to the training data, as there is a big difference between the accuracy scores for the training data and the holdout testing data."
   ]
  },
  {
   "cell_type": "markdown",
   "metadata": {},
   "source": [
    "### Model Two. GridSearchCV Naive Bayes"
   ]
  },
  {
   "cell_type": "code",
   "execution_count": 32,
   "metadata": {},
   "outputs": [],
   "source": [
    "#params for bayes classifier\n",
    "#Bayes with CountVectorizer\n",
    "param_grid_NB = {\n",
    "    'countvectorizer__max_features':[3_250,3_500,3_250],\n",
    "    'multinomialnb__alpha':[3_975,3_965,3_980],\n",
    "    'countvectorizer__ngram_range':[(1,1),(1,2),(2,2)]\n",
    "}\n",
    "grid_NB = GridSearchCV(pipe_NB,param_grid = param_grid_NB,n_jobs=-1)"
   ]
  },
  {
   "cell_type": "code",
   "execution_count": 33,
   "metadata": {},
   "outputs": [
    {
     "data": {
      "text/plain": [
       "GridSearchCV(estimator=Pipeline(steps=[('countvectorizer',\n",
       "                                        CountVectorizer(stop_words=['0o', '0s',\n",
       "                                                                    '3a', '3b',\n",
       "                                                                    '3d', '6b',\n",
       "                                                                    '6o', 'a',\n",
       "                                                                    'a1', 'a2',\n",
       "                                                                    'a3', 'a4',\n",
       "                                                                    'ab',\n",
       "                                                                    'able',\n",
       "                                                                    'about',\n",
       "                                                                    'above',\n",
       "                                                                    'abst',\n",
       "                                                                    'ac',\n",
       "                                                                    'accordance',\n",
       "                                                                    'according',\n",
       "                                                                    'accordingly',\n",
       "                                                                    'across',\n",
       "                                                                    'act',\n",
       "                                                                    'actually',\n",
       "                                                                    'ad',\n",
       "                                                                    'added',\n",
       "                                                                    'adj', 'ae',\n",
       "                                                                    'af',\n",
       "                                                                    'affected', ...])),\n",
       "                                       ('standardscaler',\n",
       "                                        StandardScaler(with_mean=False)),\n",
       "                                       ('multinomialnb', MultinomialNB())]),\n",
       "             n_jobs=-1,\n",
       "             param_grid={'countvectorizer__max_features': [3250, 3500, 3250],\n",
       "                         'countvectorizer__ngram_range': [(1, 1), (1, 2),\n",
       "                                                          (2, 2)],\n",
       "                         'multinomialnb__alpha': [3975, 3965, 3980]})"
      ]
     },
     "execution_count": 33,
     "metadata": {},
     "output_type": "execute_result"
    }
   ],
   "source": [
    "#fit on the training data\n",
    "grid_NB.fit(X_train,y_train)"
   ]
  },
  {
   "cell_type": "code",
   "execution_count": 190,
   "metadata": {},
   "outputs": [
    {
     "data": {
      "text/plain": [
       "{'countvectorizer__max_features': 3250,\n",
       " 'countvectorizer__ngram_range': (1, 1),\n",
       " 'multinomialnb__alpha': 3975}"
      ]
     },
     "execution_count": 190,
     "metadata": {},
     "output_type": "execute_result"
    }
   ],
   "source": [
    "#get the best parameters\n",
    "grid_NB.best_params_"
   ]
  },
  {
   "cell_type": "code",
   "execution_count": 35,
   "metadata": {},
   "outputs": [
    {
     "data": {
      "text/plain": [
       "0.7075517661388551"
      ]
     },
     "execution_count": 35,
     "metadata": {},
     "output_type": "execute_result"
    }
   ],
   "source": [
    "#best accuracy score for the model\n",
    "grid_NB.best_score_"
   ]
  },
  {
   "cell_type": "code",
   "execution_count": 36,
   "metadata": {},
   "outputs": [
    {
     "data": {
      "text/plain": [
       "0.8029232643118148"
      ]
     },
     "execution_count": 36,
     "metadata": {},
     "output_type": "execute_result"
    }
   ],
   "source": [
    "#score on the training data\n",
    "grid_NB.score(X_train,y_train)"
   ]
  },
  {
   "cell_type": "code",
   "execution_count": 37,
   "metadata": {},
   "outputs": [
    {
     "data": {
      "text/html": [
       "<div>\n",
       "<style scoped>\n",
       "    .dataframe tbody tr th:only-of-type {\n",
       "        vertical-align: middle;\n",
       "    }\n",
       "\n",
       "    .dataframe tbody tr th {\n",
       "        vertical-align: top;\n",
       "    }\n",
       "\n",
       "    .dataframe thead th {\n",
       "        text-align: right;\n",
       "    }\n",
       "</style>\n",
       "<table border=\"1\" class=\"dataframe\">\n",
       "  <thead>\n",
       "    <tr style=\"text-align: right;\">\n",
       "      <th></th>\n",
       "      <th>mean_fit_time</th>\n",
       "      <th>std_fit_time</th>\n",
       "      <th>mean_score_time</th>\n",
       "      <th>std_score_time</th>\n",
       "      <th>param_countvectorizer__max_features</th>\n",
       "      <th>param_countvectorizer__ngram_range</th>\n",
       "      <th>param_multinomialnb__alpha</th>\n",
       "      <th>params</th>\n",
       "      <th>split0_test_score</th>\n",
       "      <th>split1_test_score</th>\n",
       "      <th>split2_test_score</th>\n",
       "      <th>split3_test_score</th>\n",
       "      <th>split4_test_score</th>\n",
       "      <th>mean_test_score</th>\n",
       "      <th>std_test_score</th>\n",
       "      <th>rank_test_score</th>\n",
       "    </tr>\n",
       "  </thead>\n",
       "  <tbody>\n",
       "    <tr>\n",
       "      <th>0</th>\n",
       "      <td>0.110300</td>\n",
       "      <td>0.006311</td>\n",
       "      <td>0.024022</td>\n",
       "      <td>0.005064</td>\n",
       "      <td>3250</td>\n",
       "      <td>(1, 1)</td>\n",
       "      <td>3975</td>\n",
       "      <td>{'countvectorizer__max_features': 3250, 'count...</td>\n",
       "      <td>0.705238</td>\n",
       "      <td>0.694884</td>\n",
       "      <td>0.70341</td>\n",
       "      <td>0.711937</td>\n",
       "      <td>0.72229</td>\n",
       "      <td>0.707552</td>\n",
       "      <td>0.009159</td>\n",
       "      <td>1</td>\n",
       "    </tr>\n",
       "    <tr>\n",
       "      <th>1</th>\n",
       "      <td>0.106897</td>\n",
       "      <td>0.006374</td>\n",
       "      <td>0.020619</td>\n",
       "      <td>0.001021</td>\n",
       "      <td>3250</td>\n",
       "      <td>(1, 1)</td>\n",
       "      <td>3965</td>\n",
       "      <td>{'countvectorizer__max_features': 3250, 'count...</td>\n",
       "      <td>0.705238</td>\n",
       "      <td>0.694884</td>\n",
       "      <td>0.70341</td>\n",
       "      <td>0.711937</td>\n",
       "      <td>0.72229</td>\n",
       "      <td>0.707552</td>\n",
       "      <td>0.009159</td>\n",
       "      <td>1</td>\n",
       "    </tr>\n",
       "    <tr>\n",
       "      <th>2</th>\n",
       "      <td>0.104896</td>\n",
       "      <td>0.003253</td>\n",
       "      <td>0.020418</td>\n",
       "      <td>0.000801</td>\n",
       "      <td>3250</td>\n",
       "      <td>(1, 1)</td>\n",
       "      <td>3980</td>\n",
       "      <td>{'countvectorizer__max_features': 3250, 'count...</td>\n",
       "      <td>0.705238</td>\n",
       "      <td>0.694884</td>\n",
       "      <td>0.70341</td>\n",
       "      <td>0.711937</td>\n",
       "      <td>0.72229</td>\n",
       "      <td>0.707552</td>\n",
       "      <td>0.009159</td>\n",
       "      <td>1</td>\n",
       "    </tr>\n",
       "  </tbody>\n",
       "</table>\n",
       "</div>"
      ],
      "text/plain": [
       "   mean_fit_time  std_fit_time  mean_score_time  std_score_time  \\\n",
       "0       0.110300      0.006311         0.024022        0.005064   \n",
       "1       0.106897      0.006374         0.020619        0.001021   \n",
       "2       0.104896      0.003253         0.020418        0.000801   \n",
       "\n",
       "  param_countvectorizer__max_features param_countvectorizer__ngram_range  \\\n",
       "0                                3250                             (1, 1)   \n",
       "1                                3250                             (1, 1)   \n",
       "2                                3250                             (1, 1)   \n",
       "\n",
       "  param_multinomialnb__alpha  \\\n",
       "0                       3975   \n",
       "1                       3965   \n",
       "2                       3980   \n",
       "\n",
       "                                              params  split0_test_score  \\\n",
       "0  {'countvectorizer__max_features': 3250, 'count...           0.705238   \n",
       "1  {'countvectorizer__max_features': 3250, 'count...           0.705238   \n",
       "2  {'countvectorizer__max_features': 3250, 'count...           0.705238   \n",
       "\n",
       "   split1_test_score  split2_test_score  split3_test_score  split4_test_score  \\\n",
       "0           0.694884            0.70341           0.711937            0.72229   \n",
       "1           0.694884            0.70341           0.711937            0.72229   \n",
       "2           0.694884            0.70341           0.711937            0.72229   \n",
       "\n",
       "   mean_test_score  std_test_score  rank_test_score  \n",
       "0         0.707552        0.009159                1  \n",
       "1         0.707552        0.009159                1  \n",
       "2         0.707552        0.009159                1  "
      ]
     },
     "execution_count": 37,
     "metadata": {},
     "output_type": "execute_result"
    }
   ],
   "source": [
    "#get a dataframe of the results\n",
    "pd.DataFrame(grid_NB.cv_results_).sort_values(by='rank_test_score').head(3)"
   ]
  },
  {
   "cell_type": "code",
   "execution_count": 38,
   "metadata": {},
   "outputs": [
    {
     "name": "stdout",
     "output_type": "stream",
     "text": [
      "The accuracy of the Naive Bayes model is 0.696.\n",
      "The recall of the Naive Bayes model is 0.8444.\n",
      "The f1 score of the Naive Bayes model is 0.7594.\n",
      "The precision score of the Naive Bayes model is 0.69.\n"
     ]
    }
   ],
   "source": [
    "#score on different classification metrics\n",
    "print(f'The accuracy of the Naive Bayes model is {round(grid_NB.score(X_test,y_test),4)}.')\n",
    "print(f'The recall of the Naive Bayes model is {round(recall_score(y_test,grid_NB.predict(X_test)),4)}.')\n",
    "print(f'The f1 score of the Naive Bayes model is {round(f1_score(y_test,grid_NB.predict(X_test)),4)}.')\n",
    "print(f'The precision score of the Naive Bayes model is {round(precision_score(y_test,grid_NB.predict(X_test)),4)}.')"
   ]
  },
  {
   "cell_type": "markdown",
   "metadata": {},
   "source": [
    "#### Model Interpretation:\n",
    "\n",
    "Model Two is Model One with hypertuning of the major parameters in the CountVectorizer transformer and MultinomialNB estimator. Compared to the 'default' Model One, this hypertuned model scores slightly better: ~2% better accuracy and ~10% better recall score. Model Two is way less overfit than Model One, creating a model with more accurate coefficient values."
   ]
  },
  {
   "cell_type": "markdown",
   "metadata": {},
   "source": [
    "### Model Three. GridSearchCV Naive Bayes, TfidfVectorizer"
   ]
  },
  {
   "cell_type": "code",
   "execution_count": 39,
   "metadata": {},
   "outputs": [],
   "source": [
    "#instantiate tfidf vectorizer and pipeline\n",
    "tfidf_nb = TfidfVectorizer()\n",
    "pipenb_tfidf = make_pipeline(tfidf_nb, StandardScaler(with_mean=False),MultinomialNB())"
   ]
  },
  {
   "cell_type": "code",
   "execution_count": 43,
   "metadata": {},
   "outputs": [],
   "source": [
    "#create parameters for the tfidf model\n",
    "params = {\n",
    "    'tfidfvectorizer__max_features':[5_000,6_500],\n",
    "    'multinomialnb__alpha':[4_600,4_750,4_800],\n",
    "    'tfidfvectorizer__ngram_range':[(1,1),(1,2),(2,2)]\n",
    "}"
   ]
  },
  {
   "cell_type": "code",
   "execution_count": 44,
   "metadata": {},
   "outputs": [],
   "source": [
    "#instantiate gridsearch object for tfidf\n",
    "grid_tf = GridSearchCV(pipenb_tfidf,param_grid = params)"
   ]
  },
  {
   "cell_type": "code",
   "execution_count": 45,
   "metadata": {},
   "outputs": [
    {
     "data": {
      "text/plain": [
       "GridSearchCV(estimator=Pipeline(steps=[('tfidfvectorizer', TfidfVectorizer()),\n",
       "                                       ('standardscaler',\n",
       "                                        StandardScaler(with_mean=False)),\n",
       "                                       ('multinomialnb', MultinomialNB())]),\n",
       "             param_grid={'multinomialnb__alpha': [4600, 4750, 4800],\n",
       "                         'tfidfvectorizer__max_features': [5000, 6500],\n",
       "                         'tfidfvectorizer__ngram_range': [(1, 1), (1, 2),\n",
       "                                                          (2, 2)]})"
      ]
     },
     "execution_count": 45,
     "metadata": {},
     "output_type": "execute_result"
    }
   ],
   "source": [
    "#fit training data to the tfidf gridsearch object\n",
    "grid_tf.fit(X_train,y_train)"
   ]
  },
  {
   "cell_type": "code",
   "execution_count": 191,
   "metadata": {},
   "outputs": [
    {
     "data": {
      "text/plain": [
       "0.770939548434086"
      ]
     },
     "execution_count": 191,
     "metadata": {},
     "output_type": "execute_result"
    }
   ],
   "source": [
    "#accuracy on training set\n",
    "#overfit model -- 7% higher training accuracy, than test accuracy\n",
    "grid_tf.score(X_test,y_test)"
   ]
  },
  {
   "cell_type": "code",
   "execution_count": 46,
   "metadata": {},
   "outputs": [
    {
     "name": "stdout",
     "output_type": "stream",
     "text": [
      "The accuracy of the Naive Bayes model with TfidfVectorization is 0.7015.\n",
      "The recall of the Naive Bayes model with TfidfVectorization is 0.8418.\n",
      "The f1 score of the Naive Bayes model with TfidfVectorization is 0.7622.\n",
      "The precision score of the Naive Bayes with TfidfVectorization model is 0.6963.\n"
     ]
    }
   ],
   "source": [
    "#score on different classification metrics on title data\n",
    "print(f'The accuracy of the Naive Bayes model with TfidfVectorization is {round(grid_tf.score(X_test,y_test),4)}.')\n",
    "print(f'The recall of the Naive Bayes model with TfidfVectorization is {round(recall_score(y_test,grid_tf.predict(X_test)),4)}.')\n",
    "print(f'The f1 score of the Naive Bayes model with TfidfVectorization is {round(f1_score(y_test,grid_tf.predict(X_test)),4)}.')\n",
    "print(f'The precision score of the Naive Bayes with TfidfVectorization model is {round(precision_score(y_test,grid_tf.predict(X_test)),4)}.')"
   ]
  },
  {
   "cell_type": "code",
   "execution_count": 47,
   "metadata": {},
   "outputs": [
    {
     "data": {
      "text/plain": [
       "{'multinomialnb__alpha': 4600,\n",
       " 'tfidfvectorizer__max_features': 5000,\n",
       " 'tfidfvectorizer__ngram_range': (1, 1)}"
      ]
     },
     "execution_count": 47,
     "metadata": {},
     "output_type": "execute_result"
    }
   ],
   "source": [
    "#the best parameters for the gridsearch\n",
    "grid_tf.best_params_"
   ]
  },
  {
   "cell_type": "code",
   "execution_count": 48,
   "metadata": {},
   "outputs": [
    {
     "data": {
      "text/plain": [
       "Pipeline(steps=[('tfidfvectorizer', TfidfVectorizer(max_features=5000)),\n",
       "                ('standardscaler', StandardScaler(with_mean=False)),\n",
       "                ('multinomialnb', MultinomialNB(alpha=4600))])"
      ]
     },
     "execution_count": 48,
     "metadata": {},
     "output_type": "execute_result"
    }
   ],
   "source": [
    "#best estimator of the grid\n",
    "grid_tf.best_estimator_"
   ]
  },
  {
   "cell_type": "code",
   "execution_count": 49,
   "metadata": {},
   "outputs": [
    {
     "data": {
      "text/html": [
       "<div>\n",
       "<style scoped>\n",
       "    .dataframe tbody tr th:only-of-type {\n",
       "        vertical-align: middle;\n",
       "    }\n",
       "\n",
       "    .dataframe tbody tr th {\n",
       "        vertical-align: top;\n",
       "    }\n",
       "\n",
       "    .dataframe thead th {\n",
       "        text-align: right;\n",
       "    }\n",
       "</style>\n",
       "<table border=\"1\" class=\"dataframe\">\n",
       "  <thead>\n",
       "    <tr style=\"text-align: right;\">\n",
       "      <th></th>\n",
       "      <th>mean_fit_time</th>\n",
       "      <th>std_fit_time</th>\n",
       "      <th>mean_score_time</th>\n",
       "      <th>std_score_time</th>\n",
       "      <th>param_multinomialnb__alpha</th>\n",
       "      <th>param_tfidfvectorizer__max_features</th>\n",
       "      <th>param_tfidfvectorizer__ngram_range</th>\n",
       "      <th>params</th>\n",
       "      <th>split0_test_score</th>\n",
       "      <th>split1_test_score</th>\n",
       "      <th>split2_test_score</th>\n",
       "      <th>split3_test_score</th>\n",
       "      <th>split4_test_score</th>\n",
       "      <th>mean_test_score</th>\n",
       "      <th>std_test_score</th>\n",
       "      <th>rank_test_score</th>\n",
       "    </tr>\n",
       "  </thead>\n",
       "  <tbody>\n",
       "    <tr>\n",
       "      <th>0</th>\n",
       "      <td>0.067862</td>\n",
       "      <td>0.001328</td>\n",
       "      <td>0.014613</td>\n",
       "      <td>0.00049</td>\n",
       "      <td>4600</td>\n",
       "      <td>5000</td>\n",
       "      <td>(1, 1)</td>\n",
       "      <td>{'multinomialnb__alpha': 4600, 'tfidfvectorize...</td>\n",
       "      <td>0.694275</td>\n",
       "      <td>0.701583</td>\n",
       "      <td>0.709501</td>\n",
       "      <td>0.700974</td>\n",
       "      <td>0.718027</td>\n",
       "      <td>0.704872</td>\n",
       "      <td>0.008158</td>\n",
       "      <td>1</td>\n",
       "    </tr>\n",
       "    <tr>\n",
       "      <th>6</th>\n",
       "      <td>0.066661</td>\n",
       "      <td>0.000490</td>\n",
       "      <td>0.013812</td>\n",
       "      <td>0.00040</td>\n",
       "      <td>4750</td>\n",
       "      <td>5000</td>\n",
       "      <td>(1, 1)</td>\n",
       "      <td>{'multinomialnb__alpha': 4750, 'tfidfvectorize...</td>\n",
       "      <td>0.693666</td>\n",
       "      <td>0.700365</td>\n",
       "      <td>0.710110</td>\n",
       "      <td>0.700974</td>\n",
       "      <td>0.716809</td>\n",
       "      <td>0.704385</td>\n",
       "      <td>0.008122</td>\n",
       "      <td>2</td>\n",
       "    </tr>\n",
       "  </tbody>\n",
       "</table>\n",
       "</div>"
      ],
      "text/plain": [
       "   mean_fit_time  std_fit_time  mean_score_time  std_score_time  \\\n",
       "0       0.067862      0.001328         0.014613         0.00049   \n",
       "6       0.066661      0.000490         0.013812         0.00040   \n",
       "\n",
       "  param_multinomialnb__alpha param_tfidfvectorizer__max_features  \\\n",
       "0                       4600                                5000   \n",
       "6                       4750                                5000   \n",
       "\n",
       "  param_tfidfvectorizer__ngram_range  \\\n",
       "0                             (1, 1)   \n",
       "6                             (1, 1)   \n",
       "\n",
       "                                              params  split0_test_score  \\\n",
       "0  {'multinomialnb__alpha': 4600, 'tfidfvectorize...           0.694275   \n",
       "6  {'multinomialnb__alpha': 4750, 'tfidfvectorize...           0.693666   \n",
       "\n",
       "   split1_test_score  split2_test_score  split3_test_score  split4_test_score  \\\n",
       "0           0.701583           0.709501           0.700974           0.718027   \n",
       "6           0.700365           0.710110           0.700974           0.716809   \n",
       "\n",
       "   mean_test_score  std_test_score  rank_test_score  \n",
       "0         0.704872        0.008158                1  \n",
       "6         0.704385        0.008122                2  "
      ]
     },
     "execution_count": 49,
     "metadata": {},
     "output_type": "execute_result"
    }
   ],
   "source": [
    "#get the top 2 results of the gridsearch parameters\n",
    "pd.DataFrame(grid_tf.cv_results_).sort_values(by='rank_test_score').head(2)"
   ]
  },
  {
   "cell_type": "markdown",
   "metadata": {},
   "source": [
    "#### Model Interpretation:\n",
    "\n",
    "Model Three is a Multinomial Naive Bayes performed with TfidfVectorization, rather than CountVectorization. TfidfVectorization measures the importance of a word based on how many times a word appears in a document versus the number of documents that word appears in. The TfidfVectorization slightly increases accuracy, but drops recall slightly. Overall there is not a significant difference between TfidfVectorization or CountVectorization - in terms of the evaluation metrics we are focusing on."
   ]
  },
  {
   "cell_type": "code",
   "execution_count": 192,
   "metadata": {},
   "outputs": [
    {
     "data": {
      "text/html": [
       "<div>\n",
       "<style scoped>\n",
       "    .dataframe tbody tr th:only-of-type {\n",
       "        vertical-align: middle;\n",
       "    }\n",
       "\n",
       "    .dataframe tbody tr th {\n",
       "        vertical-align: top;\n",
       "    }\n",
       "\n",
       "    .dataframe thead th {\n",
       "        text-align: right;\n",
       "    }\n",
       "</style>\n",
       "<table border=\"1\" class=\"dataframe\">\n",
       "  <thead>\n",
       "    <tr style=\"text-align: right;\">\n",
       "      <th></th>\n",
       "      <th>coefs</th>\n",
       "    </tr>\n",
       "  </thead>\n",
       "  <tbody>\n",
       "    <tr>\n",
       "      <th>protein</th>\n",
       "      <td>-7.837321</td>\n",
       "    </tr>\n",
       "    <tr>\n",
       "      <th>question</th>\n",
       "      <td>-7.848632</td>\n",
       "    </tr>\n",
       "    <tr>\n",
       "      <th>advice</th>\n",
       "      <td>-7.918840</td>\n",
       "    </tr>\n",
       "    <tr>\n",
       "      <th>enzyme</th>\n",
       "      <td>-7.928840</td>\n",
       "    </tr>\n",
       "    <tr>\n",
       "      <th>acid</th>\n",
       "      <td>-7.931591</td>\n",
       "    </tr>\n",
       "    <tr>\n",
       "      <th>amino</th>\n",
       "      <td>-7.941631</td>\n",
       "    </tr>\n",
       "    <tr>\n",
       "      <th>major</th>\n",
       "      <td>-7.947803</td>\n",
       "    </tr>\n",
       "    <tr>\n",
       "      <th>lab</th>\n",
       "      <td>-7.948100</td>\n",
       "    </tr>\n",
       "    <tr>\n",
       "      <th>proteins</th>\n",
       "      <td>-7.949230</td>\n",
       "    </tr>\n",
       "    <tr>\n",
       "      <th>phd</th>\n",
       "      <td>-7.954429</td>\n",
       "    </tr>\n",
       "  </tbody>\n",
       "</table>\n",
       "</div>"
      ],
      "text/plain": [
       "             coefs\n",
       "protein  -7.837321\n",
       "question -7.848632\n",
       "advice   -7.918840\n",
       "enzyme   -7.928840\n",
       "acid     -7.931591\n",
       "amino    -7.941631\n",
       "major    -7.947803\n",
       "lab      -7.948100\n",
       "proteins -7.949230\n",
       "phd      -7.954429"
      ]
     },
     "execution_count": 192,
     "metadata": {},
     "output_type": "execute_result"
    }
   ],
   "source": [
    "#grab the most important words for modeling with title\n",
    "coefs = grid_NB.best_estimator_.named_steps['multinomialnb'].coef_\n",
    "words = grid_NB.best_estimator_.named_steps['countvectorizer'].get_feature_names()\n",
    "coefs_df = pd.DataFrame({'coefs':coefs[0]}, \n",
    "                       index = words)\n",
    "coefs_df.nlargest(10,'coefs')"
   ]
  },
  {
   "cell_type": "code",
   "execution_count": 193,
   "metadata": {},
   "outputs": [
    {
     "data": {
      "text/html": [
       "<div>\n",
       "<style scoped>\n",
       "    .dataframe tbody tr th:only-of-type {\n",
       "        vertical-align: middle;\n",
       "    }\n",
       "\n",
       "    .dataframe tbody tr th {\n",
       "        vertical-align: top;\n",
       "    }\n",
       "\n",
       "    .dataframe thead th {\n",
       "        text-align: right;\n",
       "    }\n",
       "</style>\n",
       "<table border=\"1\" class=\"dataframe\">\n",
       "  <thead>\n",
       "    <tr style=\"text-align: right;\">\n",
       "      <th></th>\n",
       "      <th>coefs</th>\n",
       "    </tr>\n",
       "  </thead>\n",
       "  <tbody>\n",
       "    <tr>\n",
       "      <th>01mm</th>\n",
       "      <td>-8.116511</td>\n",
       "    </tr>\n",
       "    <tr>\n",
       "      <th>151</th>\n",
       "      <td>-8.116511</td>\n",
       "    </tr>\n",
       "    <tr>\n",
       "      <th>170</th>\n",
       "      <td>-8.116511</td>\n",
       "    </tr>\n",
       "    <tr>\n",
       "      <th>18449</th>\n",
       "      <td>-8.116511</td>\n",
       "    </tr>\n",
       "    <tr>\n",
       "      <th>2009</th>\n",
       "      <td>-8.116511</td>\n",
       "    </tr>\n",
       "    <tr>\n",
       "      <th>2019</th>\n",
       "      <td>-8.116511</td>\n",
       "    </tr>\n",
       "    <tr>\n",
       "      <th>2021</th>\n",
       "      <td>-8.116511</td>\n",
       "    </tr>\n",
       "    <tr>\n",
       "      <th>227</th>\n",
       "      <td>-8.116511</td>\n",
       "    </tr>\n",
       "    <tr>\n",
       "      <th>23</th>\n",
       "      <td>-8.116511</td>\n",
       "    </tr>\n",
       "    <tr>\n",
       "      <th>25c</th>\n",
       "      <td>-8.116511</td>\n",
       "    </tr>\n",
       "  </tbody>\n",
       "</table>\n",
       "</div>"
      ],
      "text/plain": [
       "          coefs\n",
       "01mm  -8.116511\n",
       "151   -8.116511\n",
       "170   -8.116511\n",
       "18449 -8.116511\n",
       "2009  -8.116511\n",
       "2019  -8.116511\n",
       "2021  -8.116511\n",
       "227   -8.116511\n",
       "23    -8.116511\n",
       "25c   -8.116511"
      ]
     },
     "execution_count": 193,
     "metadata": {},
     "output_type": "execute_result"
    }
   ],
   "source": [
    "#the least important words for classification\n",
    "coefs_df.nsmallest(10,'coefs')"
   ]
  },
  {
   "cell_type": "markdown",
   "metadata": {},
   "source": [
    "## Modeling With Selftext Only\n",
    "\n",
    "In this first notebook, I wanted to compare how using title text only, selftext only, and a combination of title and selftext would impact model scores. "
   ]
  },
  {
   "cell_type": "code",
   "execution_count": 52,
   "metadata": {},
   "outputs": [
    {
     "data": {
      "text/plain": [
       "10947"
      ]
     },
     "execution_count": 52,
     "metadata": {},
     "output_type": "execute_result"
    }
   ],
   "source": [
    "#total number of rows of selftext\n",
    "len(submissions['selftext'])"
   ]
  },
  {
   "cell_type": "code",
   "execution_count": 53,
   "metadata": {},
   "outputs": [],
   "source": [
    "#setting up initial X and y values -- using titles only first\n",
    "#1 corresponds to biochemistry, 0 corresponds to biology\n",
    "#need to make the str unicode with astype, emoji characters in the strings\n",
    "#help with the unicode error found below:\n",
    "#https://stackoverflow.com/questions/39303912/tfidfvectorizer-in-scikit-learn-valueerror-np-nan-is-an-invalid-document\n",
    "X_selftext = submissions['selftext']\n",
    "y = np.where(submissions['subreddit']=='Biochemistry',1,0)"
   ]
  },
  {
   "cell_type": "code",
   "execution_count": 54,
   "metadata": {},
   "outputs": [],
   "source": [
    "#count vectorize words to find the most common\n",
    "cvect_selftext = CountVectorizer()\n",
    "Xvect_selftext = cvect_selftext.fit_transform(X_selftext)\n",
    "#make it a dataframe\n",
    "dtm_selftext = pd.DataFrame(Xvect_selftext.toarray(),columns = cvect_selftext.get_feature_names())"
   ]
  },
  {
   "cell_type": "code",
   "execution_count": 212,
   "metadata": {},
   "outputs": [
    {
     "data": {
      "image/png": "[encoded data removed]",
      "text/plain": [
       "<Figure size 864x504 with 1 Axes>"
      ]
     },
     "metadata": {
      "needs_background": "light"
     },
     "output_type": "display_data"
    }
   ],
   "source": [
    "#make a graph of the most common words\n",
    "dtm_selftext.sum().sort_values(ascending=False).head(10).plot(kind='bar',\n",
    "                                                              figsize=(12,7),\n",
    "                                                             color='#9370DB')\n",
    "plt.xlabel('Word'),\n",
    "plt.ylabel('Word Count')\n",
    "plt.title('The 10 Most Common Words in Reddit Posts');"
   ]
  },
  {
   "cell_type": "markdown",
   "metadata": {},
   "source": [
    "#### Visualization Interpretation:\n",
    "\n",
    "The graph above shows the 10 most common words in the selftext/body of the subreddits posts from r/biology and r/biochemistry. As you can see, a majority of the most common words are prepositions - words such as the, to, in, etc. These prepositional words do not have any significant meaning to predicting whether a post will more likely be in r/biology or r/biochemistry so they will be removed from the models with the stop_words parameter in either CountVetorizer or TfidfVectorizer."
   ]
  },
  {
   "cell_type": "code",
   "execution_count": 56,
   "metadata": {},
   "outputs": [
    {
     "data": {
      "text/plain": [
       "the     36000\n",
       "to      28784\n",
       "and     23849\n",
       "of      20028\n",
       "in      18209\n",
       "is      14331\n",
       "that    12113\n",
       "for     10490\n",
       "it      10338\n",
       "my       9003\n",
       "dtype: int64"
      ]
     },
     "execution_count": 56,
     "metadata": {},
     "output_type": "execute_result"
    }
   ],
   "source": [
    "#another view of the top 10 most common words from the selftext\n",
    "dtm_selftext.sum().sort_values(ascending=False).head(10)"
   ]
  },
  {
   "cell_type": "markdown",
   "metadata": {},
   "source": [
    "#### train/test split"
   ]
  },
  {
   "cell_type": "code",
   "execution_count": 57,
   "metadata": {},
   "outputs": [],
   "source": [
    "#stratify to get more equal target variables in the train/test split\n",
    "X_train,X_test,y_train,y_test = train_test_split(X_selftext,y,stratify=y)"
   ]
  },
  {
   "cell_type": "markdown",
   "metadata": {},
   "source": [
    "### Baseline Model Score for Selftext Only Models"
   ]
  },
  {
   "cell_type": "code",
   "execution_count": 80,
   "metadata": {},
   "outputs": [
    {
     "name": "stdout",
     "output_type": "stream",
     "text": [
      "The most frequent class is r/biochemistry. The accuracy of the null model is 0.5686.\n"
     ]
    }
   ],
   "source": [
    "#to get the baseline accuracy of the model\n",
    "#based on the most frequent value in the training data\n",
    "#biochemistry = 1, biology = 0\n",
    "\n",
    "biochem_num = y_train.sum()\n",
    "biology_num = len(y_train)-biochem_num\n",
    "\n",
    "if biology_num < biochem_num:\n",
    "    baseline_accur = round(biochem_num/len(y_train),4)\n",
    "    print(f'The most frequent class is r/biochemistry. The accuracy of the null model is {baseline_accur}.')\n",
    "    \n",
    "else:\n",
    "    baseline_accuracy = round((biology_num)/len(y_train),4)\n",
    "    print(f'The most frequent class is r/biology. The accuracy of the null model is {baseline_accuracy}.')"
   ]
  },
  {
   "cell_type": "markdown",
   "metadata": {},
   "source": [
    "#### Baseline/Null Model Explained:\n",
    "\n",
    "The baseline model allows us to find a 'starting point' to compare the performance of future models to. In binary classification, a customary baseline/null model is one that will guess the most frequently occuring class in the testing set. Baseline accuracy is 56.81%."
   ]
  },
  {
   "cell_type": "markdown",
   "metadata": {},
   "source": [
    "### Model One. Naive Bayes - CountVectorizer"
   ]
  },
  {
   "cell_type": "code",
   "execution_count": 59,
   "metadata": {},
   "outputs": [
    {
     "data": {
      "text/plain": [
       "Pipeline(steps=[('countvectorizer',\n",
       "                 CountVectorizer(stop_words=['0o', '0s', '3a', '3b', '3d', '6b',\n",
       "                                             '6o', 'a', 'a1', 'a2', 'a3', 'a4',\n",
       "                                             'ab', 'able', 'about', 'above',\n",
       "                                             'abst', 'ac', 'accordance',\n",
       "                                             'according', 'accordingly',\n",
       "                                             'across', 'act', 'actually', 'ad',\n",
       "                                             'added', 'adj', 'ae', 'af',\n",
       "                                             'affected', ...])),\n",
       "                ('standardscaler', StandardScaler(with_mean=False)),\n",
       "                ('multinomialnb', MultinomialNB())])"
      ]
     },
     "execution_count": 59,
     "metadata": {},
     "output_type": "execute_result"
    }
   ],
   "source": [
    "#create pipeline for Naive Bayes modeling with selftext\n",
    "cvect_selftext = CountVectorizer(stop_words=stop_word)\n",
    "pipeNB_selftext = make_pipeline(cvect_selftext, StandardScaler(with_mean=False), MultinomialNB())\n",
    "pipeNB_selftext.fit(X_train,y_train)"
   ]
  },
  {
   "cell_type": "code",
   "execution_count": 60,
   "metadata": {},
   "outputs": [
    {
     "data": {
      "text/plain": [
       "0.9476248477466505"
      ]
     },
     "execution_count": 60,
     "metadata": {},
     "output_type": "execute_result"
    }
   ],
   "source": [
    "#score\n",
    "pipeNB_selftext.score(X_train,y_train)"
   ]
  },
  {
   "cell_type": "code",
   "execution_count": 61,
   "metadata": {},
   "outputs": [
    {
     "data": {
      "text/plain": [
       "0.6814029959810011"
      ]
     },
     "execution_count": 61,
     "metadata": {},
     "output_type": "execute_result"
    }
   ],
   "source": [
    "#the highest accuracy\n",
    "pipeNB_selftext.score(X_test,y_test)"
   ]
  },
  {
   "cell_type": "code",
   "execution_count": 62,
   "metadata": {},
   "outputs": [
    {
     "data": {
      "text/plain": [
       "0.7427652733118971"
      ]
     },
     "execution_count": 62,
     "metadata": {},
     "output_type": "execute_result"
    }
   ],
   "source": [
    "#the recall score\n",
    "recall_score(y_test,pipeNB_selftext.predict(X_test))"
   ]
  },
  {
   "cell_type": "markdown",
   "metadata": {},
   "source": [
    "#### Model Interpretation:\n",
    "\n",
    "This is another 'default' model I used to gauge if hyperparameter tuning would increase the evaluation metrics of choice when using selftext to model. I also used this 'default' selftext model to compare the scores achieved with an exact model that used title text only as the predictive features. Comparing the two default models, there is not a large difference in accuracy and recall. The 'default' model is also highly overfit, and should be tuned to reduce this high variance, in hopes of improving the bias."
   ]
  },
  {
   "cell_type": "markdown",
   "metadata": {},
   "source": [
    "### Model Two. GridSearchCV Naive Bayes, CountVectorizer"
   ]
  },
  {
   "cell_type": "code",
   "execution_count": 63,
   "metadata": {},
   "outputs": [],
   "source": [
    "#create the parameter grid for the gridsearchCV\n",
    "param_selftext = {\n",
    "    'countvectorizer__max_features': [1250,2500,3500],\n",
    "    'countvectorizer__ngram_range':[(1,1),(1,2),(2,2)],\n",
    "    'multinomialnb__alpha':[300,500,750]\n",
    "}"
   ]
  },
  {
   "cell_type": "code",
   "execution_count": 64,
   "metadata": {},
   "outputs": [
    {
     "data": {
      "text/plain": [
       "GridSearchCV(estimator=Pipeline(steps=[('countvectorizer',\n",
       "                                        CountVectorizer(stop_words=['0o', '0s',\n",
       "                                                                    '3a', '3b',\n",
       "                                                                    '3d', '6b',\n",
       "                                                                    '6o', 'a',\n",
       "                                                                    'a1', 'a2',\n",
       "                                                                    'a3', 'a4',\n",
       "                                                                    'ab',\n",
       "                                                                    'able',\n",
       "                                                                    'about',\n",
       "                                                                    'above',\n",
       "                                                                    'abst',\n",
       "                                                                    'ac',\n",
       "                                                                    'accordance',\n",
       "                                                                    'according',\n",
       "                                                                    'accordingly',\n",
       "                                                                    'across',\n",
       "                                                                    'act',\n",
       "                                                                    'actually',\n",
       "                                                                    'ad',\n",
       "                                                                    'added',\n",
       "                                                                    'adj', 'ae',\n",
       "                                                                    'af',\n",
       "                                                                    'affected', ...])),\n",
       "                                       ('standardscaler',\n",
       "                                        StandardScaler(with_mean=False)),\n",
       "                                       ('multinomialnb', MultinomialNB())]),\n",
       "             n_jobs=-1,\n",
       "             param_grid={'countvectorizer__max_features': [1250, 2500, 3500],\n",
       "                         'countvectorizer__ngram_range': [(1, 1), (1, 2),\n",
       "                                                          (2, 2)],\n",
       "                         'multinomialnb__alpha': [300, 500, 750]})"
      ]
     },
     "execution_count": 64,
     "metadata": {},
     "output_type": "execute_result"
    }
   ],
   "source": [
    "#instantiate pipeline instance in GridSearchCV\n",
    "grid_selftext = GridSearchCV(pipeNB_selftext, param_grid = param_selftext,n_jobs=-1)\n",
    "\n",
    "#fit training data to gridsearch CV\n",
    "grid_selftext.fit(X_train,y_train)"
   ]
  },
  {
   "cell_type": "code",
   "execution_count": 65,
   "metadata": {},
   "outputs": [
    {
     "data": {
      "text/plain": [
       "0.7867235079171742"
      ]
     },
     "execution_count": 65,
     "metadata": {},
     "output_type": "execute_result"
    }
   ],
   "source": [
    "#best score\n",
    "grid_selftext.score(X_train,y_train)"
   ]
  },
  {
   "cell_type": "code",
   "execution_count": 66,
   "metadata": {},
   "outputs": [
    {
     "name": "stdout",
     "output_type": "stream",
     "text": [
      "The accuracy of the Naive Bayes model with CountVectorization is 0.741.\n",
      "The recall of the Naive Bayes model with CountVectorization is 0.8521.\n",
      "The f1 score of the Naive Bayes model with CountVectorization is 0.7889.\n",
      "The precision score of the Naive Bayes model with CountVectorization is 0.7345.\n"
     ]
    }
   ],
   "source": [
    "#score on different classification metrics\n",
    "print(f'The accuracy of the Naive Bayes model with CountVectorization is {round(grid_selftext.score(X_test,y_test),4)}.')\n",
    "print(f'The recall of the Naive Bayes model with CountVectorization is {round(recall_score(y_test,grid_selftext.predict(X_test)),4)}.')\n",
    "print(f'The f1 score of the Naive Bayes model with CountVectorization is {round(f1_score(y_test,grid_selftext.predict(X_test)),4)}.')\n",
    "print(f'The precision score of the Naive Bayes model with CountVectorization is {round(precision_score(y_test,grid_selftext.predict(X_test)),4)}.')"
   ]
  },
  {
   "cell_type": "code",
   "execution_count": 67,
   "metadata": {},
   "outputs": [
    {
     "data": {
      "text/plain": [
       "{'countvectorizer__max_features': 3500,\n",
       " 'countvectorizer__ngram_range': (1, 1),\n",
       " 'multinomialnb__alpha': 500}"
      ]
     },
     "execution_count": 67,
     "metadata": {},
     "output_type": "execute_result"
    }
   ],
   "source": [
    "#best parameters\n",
    "grid_selftext.best_params_"
   ]
  },
  {
   "cell_type": "code",
   "execution_count": 68,
   "metadata": {},
   "outputs": [
    {
     "data": {
      "text/html": [
       "<div>\n",
       "<style scoped>\n",
       "    .dataframe tbody tr th:only-of-type {\n",
       "        vertical-align: middle;\n",
       "    }\n",
       "\n",
       "    .dataframe tbody tr th {\n",
       "        vertical-align: top;\n",
       "    }\n",
       "\n",
       "    .dataframe thead th {\n",
       "        text-align: right;\n",
       "    }\n",
       "</style>\n",
       "<table border=\"1\" class=\"dataframe\">\n",
       "  <thead>\n",
       "    <tr style=\"text-align: right;\">\n",
       "      <th></th>\n",
       "      <th>mean_fit_time</th>\n",
       "      <th>std_fit_time</th>\n",
       "      <th>mean_score_time</th>\n",
       "      <th>std_score_time</th>\n",
       "      <th>param_countvectorizer__max_features</th>\n",
       "      <th>param_countvectorizer__ngram_range</th>\n",
       "      <th>param_multinomialnb__alpha</th>\n",
       "      <th>params</th>\n",
       "      <th>split0_test_score</th>\n",
       "      <th>split1_test_score</th>\n",
       "      <th>split2_test_score</th>\n",
       "      <th>split3_test_score</th>\n",
       "      <th>split4_test_score</th>\n",
       "      <th>mean_test_score</th>\n",
       "      <th>std_test_score</th>\n",
       "      <th>rank_test_score</th>\n",
       "    </tr>\n",
       "  </thead>\n",
       "  <tbody>\n",
       "    <tr>\n",
       "      <th>19</th>\n",
       "      <td>0.517604</td>\n",
       "      <td>0.028674</td>\n",
       "      <td>0.127115</td>\n",
       "      <td>0.025885</td>\n",
       "      <td>3500</td>\n",
       "      <td>(1, 1)</td>\n",
       "      <td>500</td>\n",
       "      <td>{'countvectorizer__max_features': 3500, 'count...</td>\n",
       "      <td>0.750305</td>\n",
       "      <td>0.739342</td>\n",
       "      <td>0.728380</td>\n",
       "      <td>0.744823</td>\n",
       "      <td>0.739951</td>\n",
       "      <td>0.740560</td>\n",
       "      <td>0.007257</td>\n",
       "      <td>1</td>\n",
       "    </tr>\n",
       "    <tr>\n",
       "      <th>18</th>\n",
       "      <td>0.521895</td>\n",
       "      <td>0.011370</td>\n",
       "      <td>0.110300</td>\n",
       "      <td>0.010694</td>\n",
       "      <td>3500</td>\n",
       "      <td>(1, 1)</td>\n",
       "      <td>300</td>\n",
       "      <td>{'countvectorizer__max_features': 3500, 'count...</td>\n",
       "      <td>0.746650</td>\n",
       "      <td>0.740560</td>\n",
       "      <td>0.727162</td>\n",
       "      <td>0.745432</td>\n",
       "      <td>0.740560</td>\n",
       "      <td>0.740073</td>\n",
       "      <td>0.006916</td>\n",
       "      <td>2</td>\n",
       "    </tr>\n",
       "    <tr>\n",
       "      <th>21</th>\n",
       "      <td>1.623076</td>\n",
       "      <td>0.006411</td>\n",
       "      <td>0.152138</td>\n",
       "      <td>0.011961</td>\n",
       "      <td>3500</td>\n",
       "      <td>(1, 2)</td>\n",
       "      <td>300</td>\n",
       "      <td>{'countvectorizer__max_features': 3500, 'count...</td>\n",
       "      <td>0.744214</td>\n",
       "      <td>0.739342</td>\n",
       "      <td>0.722899</td>\n",
       "      <td>0.744823</td>\n",
       "      <td>0.747868</td>\n",
       "      <td>0.739829</td>\n",
       "      <td>0.008896</td>\n",
       "      <td>3</td>\n",
       "    </tr>\n",
       "    <tr>\n",
       "      <th>22</th>\n",
       "      <td>1.614869</td>\n",
       "      <td>0.045272</td>\n",
       "      <td>0.170755</td>\n",
       "      <td>0.014035</td>\n",
       "      <td>3500</td>\n",
       "      <td>(1, 2)</td>\n",
       "      <td>500</td>\n",
       "      <td>{'countvectorizer__max_features': 3500, 'count...</td>\n",
       "      <td>0.747868</td>\n",
       "      <td>0.734470</td>\n",
       "      <td>0.722899</td>\n",
       "      <td>0.739951</td>\n",
       "      <td>0.747868</td>\n",
       "      <td>0.738611</td>\n",
       "      <td>0.009351</td>\n",
       "      <td>4</td>\n",
       "    </tr>\n",
       "  </tbody>\n",
       "</table>\n",
       "</div>"
      ],
      "text/plain": [
       "    mean_fit_time  std_fit_time  mean_score_time  std_score_time  \\\n",
       "19       0.517604      0.028674         0.127115        0.025885   \n",
       "18       0.521895      0.011370         0.110300        0.010694   \n",
       "21       1.623076      0.006411         0.152138        0.011961   \n",
       "22       1.614869      0.045272         0.170755        0.014035   \n",
       "\n",
       "   param_countvectorizer__max_features param_countvectorizer__ngram_range  \\\n",
       "19                                3500                             (1, 1)   \n",
       "18                                3500                             (1, 1)   \n",
       "21                                3500                             (1, 2)   \n",
       "22                                3500                             (1, 2)   \n",
       "\n",
       "   param_multinomialnb__alpha  \\\n",
       "19                        500   \n",
       "18                        300   \n",
       "21                        300   \n",
       "22                        500   \n",
       "\n",
       "                                               params  split0_test_score  \\\n",
       "19  {'countvectorizer__max_features': 3500, 'count...           0.750305   \n",
       "18  {'countvectorizer__max_features': 3500, 'count...           0.746650   \n",
       "21  {'countvectorizer__max_features': 3500, 'count...           0.744214   \n",
       "22  {'countvectorizer__max_features': 3500, 'count...           0.747868   \n",
       "\n",
       "    split1_test_score  split2_test_score  split3_test_score  \\\n",
       "19           0.739342           0.728380           0.744823   \n",
       "18           0.740560           0.727162           0.745432   \n",
       "21           0.739342           0.722899           0.744823   \n",
       "22           0.734470           0.722899           0.739951   \n",
       "\n",
       "    split4_test_score  mean_test_score  std_test_score  rank_test_score  \n",
       "19           0.739951         0.740560        0.007257                1  \n",
       "18           0.740560         0.740073        0.006916                2  \n",
       "21           0.747868         0.739829        0.008896                3  \n",
       "22           0.747868         0.738611        0.009351                4  "
      ]
     },
     "execution_count": 68,
     "metadata": {},
     "output_type": "execute_result"
    }
   ],
   "source": [
    "pd.DataFrame(grid_selftext.cv_results_).sort_values(by='rank_test_score').head(4)"
   ]
  },
  {
   "cell_type": "markdown",
   "metadata": {},
   "source": [
    "#### Model Interpretation:\n",
    "\n",
    "Model Two was where I began to see that the selftext only was scoring better on accuracy, than with the title text. The accuracy of Model Two scored about ~3% better than any of the models which used title text. For the remainder of models which used selftext I kept a close on the accuracy score between title and selftext, you will see that the selftext models perform better on accuracy across the board."
   ]
  },
  {
   "cell_type": "markdown",
   "metadata": {},
   "source": [
    "### Model Three. GridSearchCV Naive Bayes with TfidfVectorizer"
   ]
  },
  {
   "cell_type": "code",
   "execution_count": 69,
   "metadata": {},
   "outputs": [],
   "source": [
    "#instantiate tfidf vectorizer and pipeline\n",
    "tfdfNB_selftext = TfidfVectorizer(stop_words = stop_word)\n",
    "pipeNBtddf_selftext = make_pipeline(tfdfNB_selftext, StandardScaler(with_mean=False),MultinomialNB())"
   ]
  },
  {
   "cell_type": "code",
   "execution_count": 70,
   "metadata": {},
   "outputs": [],
   "source": [
    "#parameter grid for TfidfVectorizer and Bayes\n",
    "param_tfdf_selftext = {\n",
    "    'tfidfvectorizer__max_features': [4_750,5_000,5_250],\n",
    "    'tfidfvectorizer__ngram_range':[(1,1),(1,2)],\n",
    "    'multinomialnb__alpha':[635,650,645,630]\n",
    "}"
   ]
  },
  {
   "cell_type": "code",
   "execution_count": 71,
   "metadata": {},
   "outputs": [
    {
     "data": {
      "text/plain": [
       "GridSearchCV(estimator=Pipeline(steps=[('tfidfvectorizer',\n",
       "                                        TfidfVectorizer(stop_words=['0o', '0s',\n",
       "                                                                    '3a', '3b',\n",
       "                                                                    '3d', '6b',\n",
       "                                                                    '6o', 'a',\n",
       "                                                                    'a1', 'a2',\n",
       "                                                                    'a3', 'a4',\n",
       "                                                                    'ab',\n",
       "                                                                    'able',\n",
       "                                                                    'about',\n",
       "                                                                    'above',\n",
       "                                                                    'abst',\n",
       "                                                                    'ac',\n",
       "                                                                    'accordance',\n",
       "                                                                    'according',\n",
       "                                                                    'accordingly',\n",
       "                                                                    'across',\n",
       "                                                                    'act',\n",
       "                                                                    'actually',\n",
       "                                                                    'ad',\n",
       "                                                                    'added',\n",
       "                                                                    'adj', 'ae',\n",
       "                                                                    'af',\n",
       "                                                                    'affected', ...])),\n",
       "                                       ('standardscaler',\n",
       "                                        StandardScaler(with_mean=False)),\n",
       "                                       ('multinomialnb', MultinomialNB())]),\n",
       "             n_jobs=-1,\n",
       "             param_grid={'multinomialnb__alpha': [635, 650, 645, 630],\n",
       "                         'tfidfvectorizer__max_features': [4750, 5000, 5250],\n",
       "                         'tfidfvectorizer__ngram_range': [(1, 1), (1, 2)]})"
      ]
     },
     "execution_count": 71,
     "metadata": {},
     "output_type": "execute_result"
    }
   ],
   "source": [
    "#fit training data to tfidf gridsearch\n",
    "grid_tfdf_self = GridSearchCV(pipeNBtddf_selftext,param_grid=param_tfdf_selftext,n_jobs=-1)\n",
    "grid_tfdf_self.fit(X_train,y_train)"
   ]
  },
  {
   "cell_type": "code",
   "execution_count": 72,
   "metadata": {},
   "outputs": [
    {
     "data": {
      "text/plain": [
       "0.8237515225334957"
      ]
     },
     "execution_count": 72,
     "metadata": {},
     "output_type": "execute_result"
    }
   ],
   "source": [
    "#the accuracy score on the training set\n",
    "grid_tfdf_self.score(X_train,y_train)"
   ]
  },
  {
   "cell_type": "code",
   "execution_count": 73,
   "metadata": {},
   "outputs": [
    {
     "data": {
      "text/plain": [
       "{'multinomialnb__alpha': 650,\n",
       " 'tfidfvectorizer__max_features': 5000,\n",
       " 'tfidfvectorizer__ngram_range': (1, 2)}"
      ]
     },
     "execution_count": 73,
     "metadata": {},
     "output_type": "execute_result"
    }
   ],
   "source": [
    "#the best parameters\n",
    "grid_tfdf_self.best_params_"
   ]
  },
  {
   "cell_type": "code",
   "execution_count": 74,
   "metadata": {},
   "outputs": [
    {
     "name": "stdout",
     "output_type": "stream",
     "text": [
      "The accuracy of the Naive Bayes model with TfidfVectorization is 0.7421.\n",
      "The recall of the Naive Bayes model with TfidfVectorization is 0.8553.\n",
      "The f1 score of the Naive Bayes model with TfidfVectorization is 0.7903.\n",
      "The precision score of the Naive Bayes model with TfidfVectorization is 0.7344.\n"
     ]
    }
   ],
   "source": [
    "#score on different classification metrics\n",
    "print(f'The accuracy of the Naive Bayes model with TfidfVectorization is {round(grid_tfdf_self.score(X_test,y_test),4)}.')\n",
    "print(f'The recall of the Naive Bayes model with TfidfVectorization is {round(recall_score(y_test,grid_tfdf_self.predict(X_test)),4)}.')\n",
    "print(f'The f1 score of the Naive Bayes model with TfidfVectorization is {round(f1_score(y_test,grid_tfdf_self.predict(X_test)),4)}.')\n",
    "print(f'The precision score of the Naive Bayes model with TfidfVectorization is {round(precision_score(y_test,grid_tfdf_self.predict(X_test)),4)}.')"
   ]
  },
  {
   "cell_type": "code",
   "execution_count": 75,
   "metadata": {},
   "outputs": [
    {
     "data": {
      "text/html": [
       "<div>\n",
       "<style scoped>\n",
       "    .dataframe tbody tr th:only-of-type {\n",
       "        vertical-align: middle;\n",
       "    }\n",
       "\n",
       "    .dataframe tbody tr th {\n",
       "        vertical-align: top;\n",
       "    }\n",
       "\n",
       "    .dataframe thead th {\n",
       "        text-align: right;\n",
       "    }\n",
       "</style>\n",
       "<table border=\"1\" class=\"dataframe\">\n",
       "  <thead>\n",
       "    <tr style=\"text-align: right;\">\n",
       "      <th></th>\n",
       "      <th>mean_fit_time</th>\n",
       "      <th>std_fit_time</th>\n",
       "      <th>mean_score_time</th>\n",
       "      <th>std_score_time</th>\n",
       "      <th>param_multinomialnb__alpha</th>\n",
       "      <th>param_tfidfvectorizer__max_features</th>\n",
       "      <th>param_tfidfvectorizer__ngram_range</th>\n",
       "      <th>params</th>\n",
       "      <th>split0_test_score</th>\n",
       "      <th>split1_test_score</th>\n",
       "      <th>split2_test_score</th>\n",
       "      <th>split3_test_score</th>\n",
       "      <th>split4_test_score</th>\n",
       "      <th>mean_test_score</th>\n",
       "      <th>std_test_score</th>\n",
       "      <th>rank_test_score</th>\n",
       "    </tr>\n",
       "  </thead>\n",
       "  <tbody>\n",
       "    <tr>\n",
       "      <th>9</th>\n",
       "      <td>1.519801</td>\n",
       "      <td>0.029804</td>\n",
       "      <td>0.160946</td>\n",
       "      <td>0.006437</td>\n",
       "      <td>650</td>\n",
       "      <td>5000</td>\n",
       "      <td>(1, 2)</td>\n",
       "      <td>{'multinomialnb__alpha': 650, 'tfidfvectorizer...</td>\n",
       "      <td>0.755177</td>\n",
       "      <td>0.750305</td>\n",
       "      <td>0.726553</td>\n",
       "      <td>0.747259</td>\n",
       "      <td>0.755786</td>\n",
       "      <td>0.747016</td>\n",
       "      <td>0.010706</td>\n",
       "      <td>1</td>\n",
       "    </tr>\n",
       "    <tr>\n",
       "      <th>20</th>\n",
       "      <td>0.524888</td>\n",
       "      <td>0.024791</td>\n",
       "      <td>0.102093</td>\n",
       "      <td>0.006393</td>\n",
       "      <td>630</td>\n",
       "      <td>5000</td>\n",
       "      <td>(1, 1)</td>\n",
       "      <td>{'multinomialnb__alpha': 630, 'tfidfvectorizer...</td>\n",
       "      <td>0.761267</td>\n",
       "      <td>0.754568</td>\n",
       "      <td>0.720463</td>\n",
       "      <td>0.742996</td>\n",
       "      <td>0.755177</td>\n",
       "      <td>0.746894</td>\n",
       "      <td>0.014477</td>\n",
       "      <td>2</td>\n",
       "    </tr>\n",
       "    <tr>\n",
       "      <th>8</th>\n",
       "      <td>0.517871</td>\n",
       "      <td>0.028229</td>\n",
       "      <td>0.109900</td>\n",
       "      <td>0.007815</td>\n",
       "      <td>650</td>\n",
       "      <td>5000</td>\n",
       "      <td>(1, 1)</td>\n",
       "      <td>{'multinomialnb__alpha': 650, 'tfidfvectorizer...</td>\n",
       "      <td>0.761876</td>\n",
       "      <td>0.754568</td>\n",
       "      <td>0.720463</td>\n",
       "      <td>0.742996</td>\n",
       "      <td>0.754568</td>\n",
       "      <td>0.746894</td>\n",
       "      <td>0.014533</td>\n",
       "      <td>2</td>\n",
       "    </tr>\n",
       "  </tbody>\n",
       "</table>\n",
       "</div>"
      ],
      "text/plain": [
       "    mean_fit_time  std_fit_time  mean_score_time  std_score_time  \\\n",
       "9        1.519801      0.029804         0.160946        0.006437   \n",
       "20       0.524888      0.024791         0.102093        0.006393   \n",
       "8        0.517871      0.028229         0.109900        0.007815   \n",
       "\n",
       "   param_multinomialnb__alpha param_tfidfvectorizer__max_features  \\\n",
       "9                         650                                5000   \n",
       "20                        630                                5000   \n",
       "8                         650                                5000   \n",
       "\n",
       "   param_tfidfvectorizer__ngram_range  \\\n",
       "9                              (1, 2)   \n",
       "20                             (1, 1)   \n",
       "8                              (1, 1)   \n",
       "\n",
       "                                               params  split0_test_score  \\\n",
       "9   {'multinomialnb__alpha': 650, 'tfidfvectorizer...           0.755177   \n",
       "20  {'multinomialnb__alpha': 630, 'tfidfvectorizer...           0.761267   \n",
       "8   {'multinomialnb__alpha': 650, 'tfidfvectorizer...           0.761876   \n",
       "\n",
       "    split1_test_score  split2_test_score  split3_test_score  \\\n",
       "9            0.750305           0.726553           0.747259   \n",
       "20           0.754568           0.720463           0.742996   \n",
       "8            0.754568           0.720463           0.742996   \n",
       "\n",
       "    split4_test_score  mean_test_score  std_test_score  rank_test_score  \n",
       "9            0.755786         0.747016        0.010706                1  \n",
       "20           0.755177         0.746894        0.014477                2  \n",
       "8            0.754568         0.746894        0.014533                2  "
      ]
     },
     "execution_count": 75,
     "metadata": {},
     "output_type": "execute_result"
    }
   ],
   "source": [
    "pd.DataFrame(grid_tfdf_self.cv_results_).sort_values(by='rank_test_score').head(3)"
   ]
  },
  {
   "cell_type": "markdown",
   "metadata": {},
   "source": [
    "#### Model Interpretation:\n",
    "\n",
    "Model Three is the best scoring model for selftext, performing slightly better than the other models on both accuracy and recall, with approximately 74% and 86% respectively. As I am aiming to optimize these parameters, I knew that this was the model I wanted to try and improve using the AdaBoost algorithm. There is a overfitting present in this model, which I want to see if it could be reduced with AdaBoost."
   ]
  },
  {
   "cell_type": "markdown",
   "metadata": {},
   "source": [
    "### Model Four. TfidfVectorizer, LemmaTokenizer"
   ]
  },
  {
   "cell_type": "code",
   "execution_count": 79,
   "metadata": {},
   "outputs": [],
   "source": [
    "#instantiate tfidf vectorizer and pipeline\n",
    "tfdfNB_lemma = TfidfVectorizer(stop_words = stop_word,tokenizer = LemmaTokenizer())\n",
    "pipelemma_selftext = make_pipeline(tfdfNB_lemma, StandardScaler(with_mean=False),MultinomialNB())"
   ]
  },
  {
   "cell_type": "code",
   "execution_count": 80,
   "metadata": {},
   "outputs": [
    {
     "data": {
      "text/plain": [
       "GridSearchCV(estimator=Pipeline(steps=[('tfidfvectorizer',\n",
       "                                        TfidfVectorizer(stop_words=['0o', '0s',\n",
       "                                                                    '3a', '3b',\n",
       "                                                                    '3d', '6b',\n",
       "                                                                    '6o', 'a',\n",
       "                                                                    'a1', 'a2',\n",
       "                                                                    'a3', 'a4',\n",
       "                                                                    'ab',\n",
       "                                                                    'able',\n",
       "                                                                    'about',\n",
       "                                                                    'above',\n",
       "                                                                    'abst',\n",
       "                                                                    'ac',\n",
       "                                                                    'accordance',\n",
       "                                                                    'according',\n",
       "                                                                    'accordingly',\n",
       "                                                                    'across',\n",
       "                                                                    'act',\n",
       "                                                                    'actually',\n",
       "                                                                    'ad',\n",
       "                                                                    'added',\n",
       "                                                                    'adj', 'ae',\n",
       "                                                                    'af',\n",
       "                                                                    'affected', ...],\n",
       "                                                        tokenizer=<__main__.LemmaTokenizer object at 0x00000276D2262970>)),\n",
       "                                       ('standardscaler',\n",
       "                                        StandardScaler(with_mean=False)),\n",
       "                                       ('multinomialnb', MultinomialNB())]),\n",
       "             param_grid={'multinomialnb__alpha': [635, 650, 645, 630],\n",
       "                         'tfidfvectorizer__max_features': [4750, 5000, 5250],\n",
       "                         'tfidfvectorizer__ngram_range': [(1, 1), (1, 2)]})"
      ]
     },
     "execution_count": 80,
     "metadata": {},
     "output_type": "execute_result"
    }
   ],
   "source": [
    "#instantiate gridsearchCV values\n",
    "grid_tflemma = GridSearchCV(pipelemma_selftext,param_grid = param_tfdf_selftext)\n",
    "\n",
    "#fit gridsearch to training data\n",
    "grid_tflemma.fit(X_train,y_train)"
   ]
  },
  {
   "cell_type": "code",
   "execution_count": 81,
   "metadata": {},
   "outputs": [
    {
     "data": {
      "text/plain": [
       "{'multinomialnb__alpha': 650,\n",
       " 'tfidfvectorizer__max_features': 5250,\n",
       " 'tfidfvectorizer__ngram_range': (1, 2)}"
      ]
     },
     "execution_count": 81,
     "metadata": {},
     "output_type": "execute_result"
    }
   ],
   "source": [
    "#best parameters for the gridsearch\n",
    "grid_tflemma.best_params_"
   ]
  },
  {
   "cell_type": "code",
   "execution_count": 83,
   "metadata": {},
   "outputs": [
    {
     "data": {
      "text/html": [
       "<div>\n",
       "<style scoped>\n",
       "    .dataframe tbody tr th:only-of-type {\n",
       "        vertical-align: middle;\n",
       "    }\n",
       "\n",
       "    .dataframe tbody tr th {\n",
       "        vertical-align: top;\n",
       "    }\n",
       "\n",
       "    .dataframe thead th {\n",
       "        text-align: right;\n",
       "    }\n",
       "</style>\n",
       "<table border=\"1\" class=\"dataframe\">\n",
       "  <thead>\n",
       "    <tr style=\"text-align: right;\">\n",
       "      <th></th>\n",
       "      <th>mean_fit_time</th>\n",
       "      <th>std_fit_time</th>\n",
       "      <th>mean_score_time</th>\n",
       "      <th>std_score_time</th>\n",
       "      <th>param_multinomialnb__alpha</th>\n",
       "      <th>param_tfidfvectorizer__max_features</th>\n",
       "      <th>param_tfidfvectorizer__ngram_range</th>\n",
       "      <th>params</th>\n",
       "      <th>split0_test_score</th>\n",
       "      <th>split1_test_score</th>\n",
       "      <th>split2_test_score</th>\n",
       "      <th>split3_test_score</th>\n",
       "      <th>split4_test_score</th>\n",
       "      <th>mean_test_score</th>\n",
       "      <th>std_test_score</th>\n",
       "      <th>rank_test_score</th>\n",
       "    </tr>\n",
       "  </thead>\n",
       "  <tbody>\n",
       "    <tr>\n",
       "      <th>11</th>\n",
       "      <td>3.981419</td>\n",
       "      <td>0.068977</td>\n",
       "      <td>0.868293</td>\n",
       "      <td>0.036444</td>\n",
       "      <td>650</td>\n",
       "      <td>5250</td>\n",
       "      <td>(1, 2)</td>\n",
       "      <td>{'multinomialnb__alpha': 650, 'tfidfvectorizer...</td>\n",
       "      <td>0.758831</td>\n",
       "      <td>0.752741</td>\n",
       "      <td>0.736297</td>\n",
       "      <td>0.749086</td>\n",
       "      <td>0.755177</td>\n",
       "      <td>0.750426</td>\n",
       "      <td>0.007746</td>\n",
       "      <td>1</td>\n",
       "    </tr>\n",
       "    <tr>\n",
       "      <th>17</th>\n",
       "      <td>3.937206</td>\n",
       "      <td>0.029469</td>\n",
       "      <td>0.862052</td>\n",
       "      <td>0.035466</td>\n",
       "      <td>645</td>\n",
       "      <td>5250</td>\n",
       "      <td>(1, 2)</td>\n",
       "      <td>{'multinomialnb__alpha': 645, 'tfidfvectorizer...</td>\n",
       "      <td>0.758222</td>\n",
       "      <td>0.752741</td>\n",
       "      <td>0.736297</td>\n",
       "      <td>0.749086</td>\n",
       "      <td>0.755177</td>\n",
       "      <td>0.750305</td>\n",
       "      <td>0.007616</td>\n",
       "      <td>2</td>\n",
       "    </tr>\n",
       "    <tr>\n",
       "      <th>5</th>\n",
       "      <td>3.892781</td>\n",
       "      <td>0.044819</td>\n",
       "      <td>0.858433</td>\n",
       "      <td>0.035940</td>\n",
       "      <td>635</td>\n",
       "      <td>5250</td>\n",
       "      <td>(1, 2)</td>\n",
       "      <td>{'multinomialnb__alpha': 635, 'tfidfvectorizer...</td>\n",
       "      <td>0.758222</td>\n",
       "      <td>0.753350</td>\n",
       "      <td>0.735079</td>\n",
       "      <td>0.749086</td>\n",
       "      <td>0.755177</td>\n",
       "      <td>0.750183</td>\n",
       "      <td>0.008111</td>\n",
       "      <td>3</td>\n",
       "    </tr>\n",
       "  </tbody>\n",
       "</table>\n",
       "</div>"
      ],
      "text/plain": [
       "    mean_fit_time  std_fit_time  mean_score_time  std_score_time  \\\n",
       "11       3.981419      0.068977         0.868293        0.036444   \n",
       "17       3.937206      0.029469         0.862052        0.035466   \n",
       "5        3.892781      0.044819         0.858433        0.035940   \n",
       "\n",
       "   param_multinomialnb__alpha param_tfidfvectorizer__max_features  \\\n",
       "11                        650                                5250   \n",
       "17                        645                                5250   \n",
       "5                         635                                5250   \n",
       "\n",
       "   param_tfidfvectorizer__ngram_range  \\\n",
       "11                             (1, 2)   \n",
       "17                             (1, 2)   \n",
       "5                              (1, 2)   \n",
       "\n",
       "                                               params  split0_test_score  \\\n",
       "11  {'multinomialnb__alpha': 650, 'tfidfvectorizer...           0.758831   \n",
       "17  {'multinomialnb__alpha': 645, 'tfidfvectorizer...           0.758222   \n",
       "5   {'multinomialnb__alpha': 635, 'tfidfvectorizer...           0.758222   \n",
       "\n",
       "    split1_test_score  split2_test_score  split3_test_score  \\\n",
       "11           0.752741           0.736297           0.749086   \n",
       "17           0.752741           0.736297           0.749086   \n",
       "5            0.753350           0.735079           0.749086   \n",
       "\n",
       "    split4_test_score  mean_test_score  std_test_score  rank_test_score  \n",
       "11           0.755177         0.750426        0.007746                1  \n",
       "17           0.755177         0.750305        0.007616                2  \n",
       "5            0.755177         0.750183        0.008111                3  "
      ]
     },
     "execution_count": 83,
     "metadata": {},
     "output_type": "execute_result"
    }
   ],
   "source": [
    "#cast the results of the grid to a dataframe\n",
    "pd.DataFrame(grid_tflemma.cv_results_).sort_values(by='rank_test_score').head(3)"
   ]
  },
  {
   "cell_type": "code",
   "execution_count": 84,
   "metadata": {},
   "outputs": [
    {
     "data": {
      "text/plain": [
       "0.7398611618560468"
      ]
     },
     "execution_count": 84,
     "metadata": {},
     "output_type": "execute_result"
    }
   ],
   "source": [
    "#score on the test data\n",
    "grid_tflemma.score(X_test,y_test)"
   ]
  },
  {
   "cell_type": "code",
   "execution_count": 85,
   "metadata": {},
   "outputs": [
    {
     "data": {
      "text/plain": [
       "0.8258221680876979"
      ]
     },
     "execution_count": 85,
     "metadata": {},
     "output_type": "execute_result"
    }
   ],
   "source": [
    "#score on the training set\n",
    "grid_tflemma.score(X_train,y_train)"
   ]
  },
  {
   "cell_type": "code",
   "execution_count": 86,
   "metadata": {},
   "outputs": [
    {
     "name": "stdout",
     "output_type": "stream",
     "text": [
      "The accuracy of the Naive Bayes model with TfidfVectorization & Lemmatization is 0.7399.\n",
      "The recall of the Naive Bayes model with TfidfVectorization & Lemmatization is 0.8617.\n",
      "The f1 score of the Naive Bayes model with TfidfVectorization & Lemmatization is 0.7901.\n",
      "The precision score of the Naive Bayes model with TfidfVectorization & Lemmatization is 0.7295.\n"
     ]
    }
   ],
   "source": [
    "#score on different classification metrics\n",
    "print(f'The accuracy of the Naive Bayes model with TfidfVectorization & Lemmatization is {round(grid_tflemma.score(X_test,y_test),4)}.')\n",
    "print(f'The recall of the Naive Bayes model with TfidfVectorization & Lemmatization is {round(recall_score(y_test,grid_tflemma.predict(X_test)),4)}.')\n",
    "print(f'The f1 score of the Naive Bayes model with TfidfVectorization & Lemmatization is {round(f1_score(y_test,grid_tflemma.predict(X_test)),4)}.')\n",
    "print(f'The precision score of the Naive Bayes model with TfidfVectorization & Lemmatization is {round(precision_score(y_test,grid_tflemma.predict(X_test)),4)}.')"
   ]
  },
  {
   "cell_type": "markdown",
   "metadata": {},
   "source": [
    "#### Model Interpretation.\n",
    "\n",
    "The TfidfVectorization with Lemmatization Model scores the same as the TfidfVectorization Model without Lemmatization, though the Lemmatized Model 4 contains no overfitting. Therefore we have more confidence in the coefficients and stability of Model Four, than compared to Model 3."
   ]
  },
  {
   "cell_type": "code",
   "execution_count": 91,
   "metadata": {},
   "outputs": [
    {
     "data": {
      "text/html": [
       "<div>\n",
       "<style scoped>\n",
       "    .dataframe tbody tr th:only-of-type {\n",
       "        vertical-align: middle;\n",
       "    }\n",
       "\n",
       "    .dataframe tbody tr th {\n",
       "        vertical-align: top;\n",
       "    }\n",
       "\n",
       "    .dataframe thead th {\n",
       "        text-align: right;\n",
       "    }\n",
       "</style>\n",
       "<table border=\"1\" class=\"dataframe\">\n",
       "  <thead>\n",
       "    <tr style=\"text-align: right;\">\n",
       "      <th></th>\n",
       "      <th>coefs</th>\n",
       "    </tr>\n",
       "  </thead>\n",
       "  <tbody>\n",
       "    <tr>\n",
       "      <th>protein</th>\n",
       "      <td>-7.493425</td>\n",
       "    </tr>\n",
       "    <tr>\n",
       "      <th>year</th>\n",
       "      <td>-7.544414</td>\n",
       "    </tr>\n",
       "    <tr>\n",
       "      <th>ha</th>\n",
       "      <td>-7.587363</td>\n",
       "    </tr>\n",
       "    <tr>\n",
       "      <th>lab</th>\n",
       "      <td>-7.592660</td>\n",
       "    </tr>\n",
       "    <tr>\n",
       "      <th>doe</th>\n",
       "      <td>-7.600065</td>\n",
       "    </tr>\n",
       "    <tr>\n",
       "      <th>work</th>\n",
       "      <td>-7.646900</td>\n",
       "    </tr>\n",
       "    <tr>\n",
       "      <th>question</th>\n",
       "      <td>-7.663086</td>\n",
       "    </tr>\n",
       "    <tr>\n",
       "      <th>school</th>\n",
       "      <td>-7.677455</td>\n",
       "    </tr>\n",
       "    <tr>\n",
       "      <th>acid</th>\n",
       "      <td>-7.682536</td>\n",
       "    </tr>\n",
       "    <tr>\n",
       "      <th>time</th>\n",
       "      <td>-7.703733</td>\n",
       "    </tr>\n",
       "    <tr>\n",
       "      <th>enzyme</th>\n",
       "      <td>-7.705682</td>\n",
       "    </tr>\n",
       "  </tbody>\n",
       "</table>\n",
       "</div>"
      ],
      "text/plain": [
       "             coefs\n",
       "protein  -7.493425\n",
       "year     -7.544414\n",
       "ha       -7.587363\n",
       "lab      -7.592660\n",
       "doe      -7.600065\n",
       "work     -7.646900\n",
       "question -7.663086\n",
       "school   -7.677455\n",
       "acid     -7.682536\n",
       "time     -7.703733\n",
       "enzyme   -7.705682"
      ]
     },
     "execution_count": 91,
     "metadata": {},
     "output_type": "execute_result"
    }
   ],
   "source": [
    "#grabbing the most important words from tfidf with lemmatization\n",
    "coefs_lemma = grid_tflemma.best_estimator_.named_steps['multinomialnb'].coef_\n",
    "words_lemma = grid_tflemma.best_estimator_.named_steps['tfidfvectorizer'].get_feature_names()\n",
    "coefs_lemma = pd.DataFrame({'coefs':coefs_lemma[0]}, \n",
    "                       index = words_lemma)\n",
    "coefs_lemma.nlargest(11,'coefs')"
   ]
  },
  {
   "cell_type": "markdown",
   "metadata": {},
   "source": [
    "### Interpretation\n",
    "\n",
    "The small dataframe above shows the largest/most important words for predicting the binary classification of r/biochemistry or r/biology. We can see that there are several biochemistry specific words at the top of this list, such as protien, enzyme and acid."
   ]
  },
  {
   "cell_type": "code",
   "execution_count": 92,
   "metadata": {},
   "outputs": [
    {
     "data": {
      "text/html": [
       "<div>\n",
       "<style scoped>\n",
       "    .dataframe tbody tr th:only-of-type {\n",
       "        vertical-align: middle;\n",
       "    }\n",
       "\n",
       "    .dataframe tbody tr th {\n",
       "        vertical-align: top;\n",
       "    }\n",
       "\n",
       "    .dataframe thead th {\n",
       "        text-align: right;\n",
       "    }\n",
       "</style>\n",
       "<table border=\"1\" class=\"dataframe\">\n",
       "  <thead>\n",
       "    <tr style=\"text-align: right;\">\n",
       "      <th></th>\n",
       "      <th>coefs</th>\n",
       "    </tr>\n",
       "  </thead>\n",
       "  <tbody>\n",
       "    <tr>\n",
       "      <th>2 frighteningly</th>\n",
       "      <td>-8.858938</td>\n",
       "    </tr>\n",
       "    <tr>\n",
       "      <th>2 retrained</th>\n",
       "      <td>-8.858938</td>\n",
       "    </tr>\n",
       "    <tr>\n",
       "      <th>463053892</th>\n",
       "      <td>-8.858938</td>\n",
       "    </tr>\n",
       "    <tr>\n",
       "      <th>5 foot</th>\n",
       "      <td>-8.858938</td>\n",
       "    </tr>\n",
       "    <tr>\n",
       "      <th>acting questionanswering</th>\n",
       "      <td>-8.858938</td>\n",
       "    </tr>\n",
       "    <tr>\n",
       "      <th>adblocker</th>\n",
       "      <td>-8.858938</td>\n",
       "    </tr>\n",
       "    <tr>\n",
       "      <th>adblocker pending</th>\n",
       "      <td>-8.858938</td>\n",
       "    </tr>\n",
       "    <tr>\n",
       "      <th>adventure game</th>\n",
       "      <td>-8.858938</td>\n",
       "    </tr>\n",
       "    <tr>\n",
       "      <th>ai chat</th>\n",
       "      <td>-8.858938</td>\n",
       "    </tr>\n",
       "    <tr>\n",
       "      <th>ai context</th>\n",
       "      <td>-8.858938</td>\n",
       "    </tr>\n",
       "  </tbody>\n",
       "</table>\n",
       "</div>"
      ],
      "text/plain": [
       "                             coefs\n",
       "2 frighteningly          -8.858938\n",
       "2 retrained              -8.858938\n",
       "463053892                -8.858938\n",
       "5 foot                   -8.858938\n",
       "acting questionanswering -8.858938\n",
       "adblocker                -8.858938\n",
       "adblocker pending        -8.858938\n",
       "adventure game           -8.858938\n",
       "ai chat                  -8.858938\n",
       "ai context               -8.858938"
      ]
     },
     "execution_count": 92,
     "metadata": {},
     "output_type": "execute_result"
    }
   ],
   "source": [
    "#grabbing the words with the least impact on biochemistry classification\n",
    "coefs_lemma.nsmallest(10,'coefs')"
   ]
  },
  {
   "cell_type": "markdown",
   "metadata": {},
   "source": [
    "### Interpretation\n",
    "\n",
    "The small dataframe above shows the smallest/least important words for predicting the binary classification problem. We can see that these words, in alphabetical order (with numbers before letters), consist of spam/ad type words, such as ai chat or adventure game which have a significant presence in the r/biology subreddit."
   ]
  },
  {
   "cell_type": "markdown",
   "metadata": {},
   "source": [
    "## Combined Text Columns Modeling with Naive Bayes"
   ]
  },
  {
   "cell_type": "markdown",
   "metadata": {},
   "source": [
    "#### Pre-Modeling Cleaning"
   ]
  },
  {
   "cell_type": "code",
   "execution_count": 20,
   "metadata": {},
   "outputs": [],
   "source": [
    "#read in the combined text csv\n",
    "combined = pd.read_csv('datasets/combined_title_self.csv',index_col=0)"
   ]
  },
  {
   "cell_type": "code",
   "execution_count": 21,
   "metadata": {},
   "outputs": [
    {
     "name": "stdout",
     "output_type": "stream",
     "text": [
      "<class 'pandas.core.frame.DataFrame'>\n",
      "Int64Index: 22014 entries, 0 to 22013\n",
      "Data columns (total 2 columns):\n",
      " #   Column     Non-Null Count  Dtype \n",
      "---  ------     --------------  ----- \n",
      " 0   subreddit  22014 non-null  object\n",
      " 1   text       21943 non-null  object\n",
      "dtypes: object(2)\n",
      "memory usage: 516.0+ KB\n"
     ]
    }
   ],
   "source": [
    "#shows that there are null values in the datafile\n",
    "combined.info()"
   ]
  },
  {
   "cell_type": "code",
   "execution_count": 22,
   "metadata": {},
   "outputs": [],
   "source": [
    "#drop the null values from the dataframe\n",
    "combined.dropna(inplace=True)"
   ]
  },
  {
   "cell_type": "code",
   "execution_count": 23,
   "metadata": {},
   "outputs": [
    {
     "data": {
      "text/plain": [
       "(21943, 2)"
      ]
     },
     "execution_count": 23,
     "metadata": {},
     "output_type": "execute_result"
    }
   ],
   "source": [
    "#the number of observations for the combined dataframe\n",
    "combined.shape"
   ]
  },
  {
   "cell_type": "code",
   "execution_count": 24,
   "metadata": {},
   "outputs": [],
   "source": [
    "#remove all words that apply to the target variable -- biology,bio,biochem,biochemistry\n",
    "combined['text'].replace('biology','',regex=True,inplace=True)\n",
    "combined['text'].replace('biochemistry','',regex=True,inplace=True)\n",
    "combined['text'].replace('chemistry','',regex=True,inplace=True)\n",
    "combined['text'].replace('biochem','',regex=True,inplace=True)\n",
    "combined['text'].replace('bio','',regex=True,inplace=True)\n",
    "combined['text'].replace('chem','',regex=True,inplace=True)"
   ]
  },
  {
   "cell_type": "markdown",
   "metadata": {},
   "source": [
    "### Set up for Modeling"
   ]
  },
  {
   "cell_type": "code",
   "execution_count": 25,
   "metadata": {},
   "outputs": [],
   "source": [
    "#setting up initial X and y values\n",
    "#1 corresponds to biochemistry, 0 corresponds to biology\n",
    "#need to make the str unicode with astype, emoji characters in the strings\n",
    "#help with the unicode error found below:\n",
    "#https://stackoverflow.com/questions/39303912/tfidfvectorizer-in-scikit-learn-valueerror-np-nan-is-an-invalid-document\n",
    "X_combo = combined['text']\n",
    "y = np.where(combined['subreddit']=='Biochemistry',1,0)"
   ]
  },
  {
   "cell_type": "code",
   "execution_count": 26,
   "metadata": {},
   "outputs": [],
   "source": [
    "#train/test split of the data\n",
    "X_train,X_test,y_train,y_test = train_test_split(X_combo,y,stratify=y,random_state=18)"
   ]
  },
  {
   "cell_type": "markdown",
   "metadata": {},
   "source": [
    "### Most Common Words"
   ]
  },
  {
   "cell_type": "code",
   "execution_count": 27,
   "metadata": {},
   "outputs": [],
   "source": [
    "#count vectorize words to find the most common\n",
    "cvect_selftext = CountVectorizer()\n",
    "Xcombo_selftext = cvect_selftext.fit_transform(X_combo)\n",
    "#make it a dataframe\n",
    "dtm_combo = pd.DataFrame(Xcombo_selftext.toarray(),columns = cvect_selftext.get_feature_names())"
   ]
  },
  {
   "cell_type": "code",
   "execution_count": 28,
   "metadata": {},
   "outputs": [
    {
     "data": {
      "image/png": "[encoded data removed]",
      "text/plain": [
       "<Figure size 864x504 with 1 Axes>"
      ]
     },
     "metadata": {
      "needs_background": "light"
     },
     "output_type": "display_data"
    }
   ],
   "source": [
    "#make a graph of the most common words\n",
    "dtm_combo.sum().sort_values(ascending=False).head(10).plot(kind='bar',\n",
    "                                                              figsize=(12,7),\n",
    "                                                             color='#9370DB')\n",
    "plt.xlabel('Word',fontsize=12),\n",
    "plt.ylabel('Word Count',fontsize=12)\n",
    "plt.xticks(fontsize=12)\n",
    "plt.title('The 10 Most Common Words in Combined Reddit Text',fontsize=12)\n",
    "plt.savefig('images/most_common.png',bbox_inches='tight', dpi=600);"
   ]
  },
  {
   "cell_type": "markdown",
   "metadata": {},
   "source": [
    "#### Visualization Interpretation:\n",
    "\n",
    "The graph above shows the 10 most common words in the selftext/body of the subreddits posts from r/biology and r/biochemistry. As you can see, a majority of the most common words are prepositions - words such as the, to, in, etc. These prepositional words do not have any significant meaning to predicting whether a post will more likely be in r/biology or r/biochemistry so they will be removed from the models with the stop_words parameter in either CountVetorizer or TfidfVectorizer."
   ]
  },
  {
   "cell_type": "markdown",
   "metadata": {},
   "source": [
    "## Baseline Model for Combined Text Models"
   ]
  },
  {
   "cell_type": "code",
   "execution_count": 29,
   "metadata": {},
   "outputs": [
    {
     "name": "stdout",
     "output_type": "stream",
     "text": [
      "The most frequent class is r/biochemistry. The accuracy of the null model is 0.5673.\n"
     ]
    }
   ],
   "source": [
    "#to get the baseline accuracy of the model\n",
    "#based on the most frequent value in the training data\n",
    "#biochemistry = 1, biology = 0\n",
    "\n",
    "biochem_num = y_train.sum()\n",
    "biology_num = len(y_train)-biochem_num\n",
    "\n",
    "if biology_num < biochem_num:\n",
    "    baseline_accur = round(biochem_num/len(y_train),4)\n",
    "    print(f'The most frequent class is r/biochemistry. The accuracy of the null model is {baseline_accur}.')\n",
    "    \n",
    "else:\n",
    "    baseline_accuracy = round((biology_num)/len(y_train),4)\n",
    "    print(f'The most frequent class is r/biology. The accuracy of the null model is {baseline_accuracy}.')"
   ]
  },
  {
   "cell_type": "markdown",
   "metadata": {},
   "source": [
    "#### Baseline/Null Model Explained:\n",
    "\n",
    "The baseline model allows us to find a 'starting point' to compare the performance of future models to. In binary classification, a customary baseline/null model is one that will guess the most frequently occuring class in the testing set."
   ]
  },
  {
   "cell_type": "markdown",
   "metadata": {},
   "source": [
    "### Model One. CountVectorizer, Naive Bayes"
   ]
  },
  {
   "cell_type": "code",
   "execution_count": 30,
   "metadata": {},
   "outputs": [],
   "source": [
    "#create pipeline for Naive Bayes modeling with selftext\n",
    "cvect_combo= CountVectorizer(stop_words=stop_word)\n",
    "pipeNB_combo = make_pipeline(cvect_combo, StandardScaler(with_mean=False), MultinomialNB())"
   ]
  },
  {
   "cell_type": "code",
   "execution_count": 31,
   "metadata": {},
   "outputs": [],
   "source": [
    "#create the parameter grid for the gridsearchCV\n",
    "param_combo = {\n",
    "    'countvectorizer__max_features': [5_500,6_000,5_250],\n",
    "    'countvectorizer__ngram_range':[(1,1),(1,2)],\n",
    "    'multinomialnb__alpha':[750,800,825,900]\n",
    "}"
   ]
  },
  {
   "cell_type": "code",
   "execution_count": 32,
   "metadata": {},
   "outputs": [
    {
     "data": {
      "text/plain": [
       "GridSearchCV(estimator=Pipeline(steps=[('countvectorizer',\n",
       "                                        CountVectorizer(stop_words=['0o', '0s',\n",
       "                                                                    '3a', '3b',\n",
       "                                                                    '3d', '6b',\n",
       "                                                                    '6o', 'a',\n",
       "                                                                    'a1', 'a2',\n",
       "                                                                    'a3', 'a4',\n",
       "                                                                    'ab',\n",
       "                                                                    'able',\n",
       "                                                                    'about',\n",
       "                                                                    'above',\n",
       "                                                                    'abst',\n",
       "                                                                    'ac',\n",
       "                                                                    'accordance',\n",
       "                                                                    'according',\n",
       "                                                                    'accordingly',\n",
       "                                                                    'across',\n",
       "                                                                    'act',\n",
       "                                                                    'actually',\n",
       "                                                                    'ad',\n",
       "                                                                    'added',\n",
       "                                                                    'adj', 'ae',\n",
       "                                                                    'af',\n",
       "                                                                    'affected', ...])),\n",
       "                                       ('standardscaler',\n",
       "                                        StandardScaler(with_mean=False)),\n",
       "                                       ('multinomialnb', MultinomialNB())]),\n",
       "             n_jobs=-1,\n",
       "             param_grid={'countvectorizer__max_features': [5500, 6000, 5250],\n",
       "                         'countvectorizer__ngram_range': [(1, 1), (1, 2)],\n",
       "                         'multinomialnb__alpha': [750, 800, 825, 900]})"
      ]
     },
     "execution_count": 32,
     "metadata": {},
     "output_type": "execute_result"
    }
   ],
   "source": [
    "#instantiate the gridsearch instance\n",
    "grid_combo = GridSearchCV(pipeNB_combo,param_grid=param_combo,n_jobs=-1)\n",
    "\n",
    "#fit the training data to the gridsearch\n",
    "grid_combo.fit(X_train,y_train)"
   ]
  },
  {
   "cell_type": "code",
   "execution_count": 33,
   "metadata": {},
   "outputs": [
    {
     "data": {
      "text/plain": [
       "{'countvectorizer__max_features': 6000,\n",
       " 'countvectorizer__ngram_range': (1, 1),\n",
       " 'multinomialnb__alpha': 800}"
      ]
     },
     "execution_count": 33,
     "metadata": {},
     "output_type": "execute_result"
    }
   ],
   "source": [
    "#best parameters\n",
    "grid_combo.best_params_"
   ]
  },
  {
   "cell_type": "code",
   "execution_count": 34,
   "metadata": {},
   "outputs": [
    {
     "name": "stdout",
     "output_type": "stream",
     "text": [
      "The model's predictions on the first ten observations in the testing data [0 1 1 1 0 0 0 0 0 1].\n",
      "The true values of the first ten observations in the testing data [1 1 1 1 0 1 0 0 1 1].\n",
      "__________________________________________________________________________________\n",
      "\n",
      "The text that corresponds to the first ten observations in the testing data: \n",
      " 16245    hi question about amoxicillin and gramnegative...\n",
      "20641    quick basic question on net charge of peptides...\n",
      "5353                                              help plz\n",
      "20904               what path did you take after your  bsc\n",
      "375      i was looking to find out how the speed of ele...\n",
      "10711    are there any examples of combining crisprcas9...\n",
      "15407                                    dissection videos\n",
      "3435     suppose you have a time machine and the cycle ...\n",
      "21477    obscure question why does saliva cause things ...\n",
      "6127     i would like to make a quality presentation on...\n",
      "Name: text, dtype: object.\n"
     ]
    }
   ],
   "source": [
    "#the predictions for grid_combo on the test/holdout data\n",
    "print(f\"The model's predictions on the first ten observations in the testing data {grid_combo.predict(X_test)[:10]}.\")\n",
    "print(f\"The true values of the first ten observations in the testing data {y_test[:10]}.\")\n",
    "print('__________________________________________________________________________________')\n",
    "print('')\n",
    "print(f\"The text that corresponds to the first ten observations in the testing data: \\n {X_test[:10]}.\")"
   ]
  },
  {
   "cell_type": "markdown",
   "metadata": {},
   "source": [
    "#### Predictions Comparison\n",
    "\n",
    "In the above true test values and predictions made by the model, we can see that the model can correctly predict differences in scientitic terminology. The two posts I want to draw attention to are:\n",
    "\n",
    "'cargo transport in our cells dynein', which is correctly classified as an r/biochemistry post and 'what could happen if the cells could survive a day longer in the body' which is correctly classified as a r/biology post. Though both posts have to do with cells, the model is correctly able to classify the other terminology correctly and predict microscopic level differences between biology and biochemistry based on terminology."
   ]
  },
  {
   "cell_type": "code",
   "execution_count": 35,
   "metadata": {},
   "outputs": [
    {
     "data": {
      "text/plain": [
       "0.7841647930971622"
      ]
     },
     "execution_count": 35,
     "metadata": {},
     "output_type": "execute_result"
    }
   ],
   "source": [
    "#scoring on the training data\n",
    "grid_combo.score(X_train,y_train)"
   ]
  },
  {
   "cell_type": "code",
   "execution_count": 36,
   "metadata": {},
   "outputs": [
    {
     "name": "stdout",
     "output_type": "stream",
     "text": [
      "The accuracy of the Naive Bayes model with combined text is 0.7457.\n",
      "The recall of the Naive Bayes model with combined text is 0.8541.\n",
      "The f1 score of the Naive Bayes model with combined text is 0.7921.\n",
      "The precision score of the Naive Bayes model with combined text is 0.7385.\n"
     ]
    }
   ],
   "source": [
    "#score on different classification metrics\n",
    "print(f'The accuracy of the Naive Bayes model with combined text is {round(grid_combo.score(X_test,y_test),4)}.')\n",
    "print(f'The recall of the Naive Bayes model with combined text is {round(recall_score(y_test,grid_combo.predict(X_test)),4)}.')\n",
    "print(f'The f1 score of the Naive Bayes model with combined text is {round(f1_score(y_test,grid_combo.predict(X_test)),4)}.')\n",
    "print(f'The precision score of the Naive Bayes model with combined text is {round(precision_score(y_test,grid_combo.predict(X_test)),4)}.')"
   ]
  },
  {
   "cell_type": "code",
   "execution_count": 37,
   "metadata": {},
   "outputs": [
    {
     "data": {
      "text/html": [
       "<div>\n",
       "<style scoped>\n",
       "    .dataframe tbody tr th:only-of-type {\n",
       "        vertical-align: middle;\n",
       "    }\n",
       "\n",
       "    .dataframe tbody tr th {\n",
       "        vertical-align: top;\n",
       "    }\n",
       "\n",
       "    .dataframe thead th {\n",
       "        text-align: right;\n",
       "    }\n",
       "</style>\n",
       "<table border=\"1\" class=\"dataframe\">\n",
       "  <thead>\n",
       "    <tr style=\"text-align: right;\">\n",
       "      <th></th>\n",
       "      <th>mean_fit_time</th>\n",
       "      <th>std_fit_time</th>\n",
       "      <th>mean_score_time</th>\n",
       "      <th>std_score_time</th>\n",
       "      <th>param_countvectorizer__max_features</th>\n",
       "      <th>param_countvectorizer__ngram_range</th>\n",
       "      <th>param_multinomialnb__alpha</th>\n",
       "      <th>params</th>\n",
       "      <th>split0_test_score</th>\n",
       "      <th>split1_test_score</th>\n",
       "      <th>split2_test_score</th>\n",
       "      <th>split3_test_score</th>\n",
       "      <th>split4_test_score</th>\n",
       "      <th>mean_test_score</th>\n",
       "      <th>std_test_score</th>\n",
       "      <th>rank_test_score</th>\n",
       "    </tr>\n",
       "  </thead>\n",
       "  <tbody>\n",
       "    <tr>\n",
       "      <th>9</th>\n",
       "      <td>0.591342</td>\n",
       "      <td>0.011519</td>\n",
       "      <td>0.123315</td>\n",
       "      <td>0.002790</td>\n",
       "      <td>6000</td>\n",
       "      <td>(1, 1)</td>\n",
       "      <td>800</td>\n",
       "      <td>{'countvectorizer__max_features': 6000, 'count...</td>\n",
       "      <td>0.734812</td>\n",
       "      <td>0.737849</td>\n",
       "      <td>0.750836</td>\n",
       "      <td>0.742024</td>\n",
       "      <td>0.729262</td>\n",
       "      <td>0.738956</td>\n",
       "      <td>0.007251</td>\n",
       "      <td>1</td>\n",
       "    </tr>\n",
       "    <tr>\n",
       "      <th>10</th>\n",
       "      <td>0.609566</td>\n",
       "      <td>0.029373</td>\n",
       "      <td>0.131325</td>\n",
       "      <td>0.004530</td>\n",
       "      <td>6000</td>\n",
       "      <td>(1, 1)</td>\n",
       "      <td>825</td>\n",
       "      <td>{'countvectorizer__max_features': 6000, 'count...</td>\n",
       "      <td>0.734204</td>\n",
       "      <td>0.737849</td>\n",
       "      <td>0.750836</td>\n",
       "      <td>0.742328</td>\n",
       "      <td>0.728654</td>\n",
       "      <td>0.738774</td>\n",
       "      <td>0.007514</td>\n",
       "      <td>2</td>\n",
       "    </tr>\n",
       "    <tr>\n",
       "      <th>8</th>\n",
       "      <td>0.587750</td>\n",
       "      <td>0.034669</td>\n",
       "      <td>0.131319</td>\n",
       "      <td>0.018644</td>\n",
       "      <td>6000</td>\n",
       "      <td>(1, 1)</td>\n",
       "      <td>750</td>\n",
       "      <td>{'countvectorizer__max_features': 6000, 'count...</td>\n",
       "      <td>0.735115</td>\n",
       "      <td>0.737849</td>\n",
       "      <td>0.750836</td>\n",
       "      <td>0.741720</td>\n",
       "      <td>0.728350</td>\n",
       "      <td>0.738774</td>\n",
       "      <td>0.007444</td>\n",
       "      <td>3</td>\n",
       "    </tr>\n",
       "  </tbody>\n",
       "</table>\n",
       "</div>"
      ],
      "text/plain": [
       "    mean_fit_time  std_fit_time  mean_score_time  std_score_time  \\\n",
       "9        0.591342      0.011519         0.123315        0.002790   \n",
       "10       0.609566      0.029373         0.131325        0.004530   \n",
       "8        0.587750      0.034669         0.131319        0.018644   \n",
       "\n",
       "   param_countvectorizer__max_features param_countvectorizer__ngram_range  \\\n",
       "9                                 6000                             (1, 1)   \n",
       "10                                6000                             (1, 1)   \n",
       "8                                 6000                             (1, 1)   \n",
       "\n",
       "   param_multinomialnb__alpha  \\\n",
       "9                         800   \n",
       "10                        825   \n",
       "8                         750   \n",
       "\n",
       "                                               params  split0_test_score  \\\n",
       "9   {'countvectorizer__max_features': 6000, 'count...           0.734812   \n",
       "10  {'countvectorizer__max_features': 6000, 'count...           0.734204   \n",
       "8   {'countvectorizer__max_features': 6000, 'count...           0.735115   \n",
       "\n",
       "    split1_test_score  split2_test_score  split3_test_score  \\\n",
       "9            0.737849           0.750836           0.742024   \n",
       "10           0.737849           0.750836           0.742328   \n",
       "8            0.737849           0.750836           0.741720   \n",
       "\n",
       "    split4_test_score  mean_test_score  std_test_score  rank_test_score  \n",
       "9            0.729262         0.738956        0.007251                1  \n",
       "10           0.728654         0.738774        0.007514                2  \n",
       "8            0.728350         0.738774        0.007444                3  "
      ]
     },
     "execution_count": 37,
     "metadata": {},
     "output_type": "execute_result"
    }
   ],
   "source": [
    "#dataframe of grid results\n",
    "pd.DataFrame(grid_combo.cv_results_).sort_values(by='rank_test_score').head(3)"
   ]
  },
  {
   "cell_type": "markdown",
   "metadata": {},
   "source": [
    "#### Model Interpretation\n",
    "\n",
    "Model One of combined title and selftext similarly as Model Three of Selftext, the only significant difference is that Model One contains no overfitting - as the accuracy of the training score is very close to the accuracy of the testing data. This makes the Model One of combined text more stable in coefficient values and makes us more confident in it's performance as a predictor.\n",
    "\n",
    "This model was chosen as the final model for several reasons: it has one of the highest pair-wise scores for accuracy and recall, and is not overfit. Many other models that scored similarly to this model contained overfitting/high variance. The lack of variance in this model makes me more confident that it is a more stable predictor."
   ]
  },
  {
   "cell_type": "code",
   "execution_count": 38,
   "metadata": {},
   "outputs": [
    {
     "data": {
      "image/png": "[encoded data removed]",
      "text/plain": [
       "<Figure size 864x576 with 1 Axes>"
      ]
     },
     "metadata": {
      "needs_background": "light"
     },
     "output_type": "display_data"
    }
   ],
   "source": [
    "#create graph of the most important words for classifying something as biochemistry\n",
    "coefs0 = grid_combo.best_estimator_.named_steps['multinomialnb'].coef_\n",
    "words0 = grid_combo.best_estimator_.named_steps['countvectorizer'].get_feature_names()\n",
    "coefs0 = pd.DataFrame({'coefs':coefs0[0]}, \n",
    "                       index = words0).nlargest(10,'coefs')\n",
    "#manipulation and creation of the graph\n",
    "plt.figure(figsize=(12,8))\n",
    "plt.bar(x = coefs0.index,height = coefs0['coefs'],color='#FA8072')\n",
    "plt.title('10 Largest Values in Word Importance',fontsize=12)\n",
    "plt.xlabel('Word',fontsize=12)\n",
    "plt.ylabel('Coefficient',fontsize=12)\n",
    "plt.xticks(rotation=30,fontsize=12)\n",
    "plt.savefig('images/largest_coefs.png',bbox_inches='tight', dpi=300);"
   ]
  },
  {
   "cell_type": "markdown",
   "metadata": {},
   "source": [
    "#### Visualization Interpretation\n",
    "\n",
    "The above visualization shows 10 most important words for classifying a post for r/biochemistry. These words had the highest coefficients, as they are negative the lowest negative number will be the largest, and where therefore deemed the most important features. Many of the posts in r/biochemistrywere not scientific questions as I thought, but were advice posts - asking about the best schools to get a biochemistry degree, etc. In this case, it makes sense that some of these words would appear within the most important words, such as the word question."
   ]
  },
  {
   "cell_type": "code",
   "execution_count": 39,
   "metadata": {},
   "outputs": [
    {
     "data": {
      "image/png": "[encoded data removed]",
      "text/plain": [
       "<Figure size 720x432 with 1 Axes>"
      ]
     },
     "metadata": {
      "needs_background": "light"
     },
     "output_type": "display_data"
    }
   ],
   "source": [
    "#create graph of the most important words for classifying something as biochemistry\n",
    "coefs1 = grid_combo.best_estimator_.named_steps['multinomialnb'].coef_\n",
    "words1 = grid_combo.best_estimator_.named_steps['countvectorizer'].get_feature_names()\n",
    "coefs1 = pd.DataFrame({'coefs':coefs1[0]}, \n",
    "                       index = words1).nsmallest(10,'coefs')\n",
    "#manipulation and creation of the graph\n",
    "plt.figure(figsize=(10,6))\n",
    "plt.bar(x = coefs1.index,height = coefs1['coefs'],color='#FA8072')\n",
    "plt.title('Smallest Values in Word Importance for r/Biochemistry')\n",
    "plt.xlabel('Word')\n",
    "plt.ylabel('Coefficient')\n",
    "plt.xticks(rotation=45)\n",
    "plt.savefig('images/smallest_coefs.png',bbox_inches='tight', dpi=600);"
   ]
  },
  {
   "cell_type": "markdown",
   "metadata": {},
   "source": [
    "#### Visualization Interpretation\n",
    "\n",
    "The above visualization shows a sampling of the most important words in classfying a post as being from r/biology. These words show that there are several biology terms and some spam that was prevalent within the r/biology subreddit. 40x signifies the 40 times magnification of an objective of a microscope, which in turn results in 400x magnification (10x ocular).\n",
    "\n",
    "These words are in alphebetical order and there are approximately 200 words which have this same coefficient value, but many aren't shown in the above visualization.Many biology terms made this list: gametes, fitness, phylogenetic tree, meiosis, oocytes, to name a few."
   ]
  },
  {
   "cell_type": "code",
   "execution_count": 40,
   "metadata": {},
   "outputs": [
    {
     "data": {
      "text/html": [
       "<div>\n",
       "<style scoped>\n",
       "    .dataframe tbody tr th:only-of-type {\n",
       "        vertical-align: middle;\n",
       "    }\n",
       "\n",
       "    .dataframe tbody tr th {\n",
       "        vertical-align: top;\n",
       "    }\n",
       "\n",
       "    .dataframe thead th {\n",
       "        text-align: right;\n",
       "    }\n",
       "</style>\n",
       "<table border=\"1\" class=\"dataframe\">\n",
       "  <thead>\n",
       "    <tr style=\"text-align: right;\">\n",
       "      <th></th>\n",
       "      <th>coefs</th>\n",
       "    </tr>\n",
       "  </thead>\n",
       "  <tbody>\n",
       "    <tr>\n",
       "      <th>40x</th>\n",
       "      <td>-9.034324</td>\n",
       "    </tr>\n",
       "    <tr>\n",
       "      <th>48</th>\n",
       "      <td>-9.034324</td>\n",
       "    </tr>\n",
       "    <tr>\n",
       "      <th>abandoned</th>\n",
       "      <td>-9.034324</td>\n",
       "    </tr>\n",
       "    <tr>\n",
       "      <th>adaptation</th>\n",
       "      <td>-9.034324</td>\n",
       "    </tr>\n",
       "    <tr>\n",
       "      <th>adaptations</th>\n",
       "      <td>-9.034324</td>\n",
       "    </tr>\n",
       "    <tr>\n",
       "      <th>...</th>\n",
       "      <td>...</td>\n",
       "    </tr>\n",
       "    <tr>\n",
       "      <th>wound</th>\n",
       "      <td>-9.034324</td>\n",
       "    </tr>\n",
       "    <tr>\n",
       "      <th>xylem</th>\n",
       "      <td>-9.034324</td>\n",
       "    </tr>\n",
       "    <tr>\n",
       "      <th>zoo</th>\n",
       "      <td>-9.034324</td>\n",
       "    </tr>\n",
       "    <tr>\n",
       "      <th>lockdown</th>\n",
       "      <td>-9.022726</td>\n",
       "    </tr>\n",
       "    <tr>\n",
       "      <th>mask</th>\n",
       "      <td>-9.021686</td>\n",
       "    </tr>\n",
       "  </tbody>\n",
       "</table>\n",
       "<p>200 rows × 1 columns</p>\n",
       "</div>"
      ],
      "text/plain": [
       "                coefs\n",
       "40x         -9.034324\n",
       "48          -9.034324\n",
       "abandoned   -9.034324\n",
       "adaptation  -9.034324\n",
       "adaptations -9.034324\n",
       "...               ...\n",
       "wound       -9.034324\n",
       "xylem       -9.034324\n",
       "zoo         -9.034324\n",
       "lockdown    -9.022726\n",
       "mask        -9.021686\n",
       "\n",
       "[200 rows x 1 columns]"
      ]
     },
     "execution_count": 40,
     "metadata": {},
     "output_type": "execute_result"
    }
   ],
   "source": [
    "#grabbing the most important words from tfidf with lemmatization\n",
    "coefs_comb = grid_combo.best_estimator_.named_steps['multinomialnb'].coef_\n",
    "words_comb = grid_combo.best_estimator_.named_steps['countvectorizer'].get_feature_names()\n",
    "coefs_comb = pd.DataFrame({'coefs':coefs_comb[0]}, \n",
    "                       index = words_comb)\n",
    "coefs_comb.nsmallest(200,'coefs')"
   ]
  },
  {
   "cell_type": "markdown",
   "metadata": {},
   "source": [
    "### Interpretation\n",
    "\n",
    "The above small dataframe show the smallest coefficient values of the final production model. Aproximately 200 words were the least important to classifying the r/biochemistry subreddit."
   ]
  },
  {
   "cell_type": "code",
   "execution_count": 42,
   "metadata": {},
   "outputs": [
    {
     "data": {
      "image/png": "[encoded data removed]",
      "text/plain": [
       "<Figure size 432x288 with 2 Axes>"
      ]
     },
     "metadata": {
      "needs_background": "light"
     },
     "output_type": "display_data"
    }
   ],
   "source": [
    "#confusion matrix of the values\n",
    "plot_confusion_matrix(grid_combo,X_test,y_test)\n",
    "plt.title('Confusion Matrix of the Final Model');"
   ]
  },
  {
   "cell_type": "markdown",
   "metadata": {},
   "source": [
    "### Interpretation\n",
    "\n",
    "Above is a confusion matrix of the final production model, Model One with CountVectorization and MultinomialNB estimator. In the visualization 1 corresponds to r/biochemistry and 0 corresponds to r/biology. The top left corner represents the false positive values, as you can see about 2/3 of the misclassifications the model made are actually false positives (r/biology posts being classified as r/biochemistry posts). This is important to note, as we are trying to optimize recall. This big error in false positive misclassification may be do to the more general nature of the r/biology posts, and have less differentiable words."
   ]
  },
  {
   "cell_type": "markdown",
   "metadata": {},
   "source": [
    "### Model Two. TfidfVectorization with Naive Bayes for Combined Text"
   ]
  },
  {
   "cell_type": "code",
   "execution_count": 109,
   "metadata": {},
   "outputs": [],
   "source": [
    "#instantiate tfidf vectorizer and pipeline\n",
    "tfdfNB_combo = TfidfVectorizer(stop_words = stop_word)\n",
    "pipeNBtddf_combo = make_pipeline(tfdfNB_combo, StandardScaler(with_mean=False),MultinomialNB())"
   ]
  },
  {
   "cell_type": "code",
   "execution_count": 110,
   "metadata": {},
   "outputs": [],
   "source": [
    "#parameter grid for TfidfVectorizer and Bayes with combined text\n",
    "param_tfdf_combo = {\n",
    "    'tfidfvectorizer__max_features': [5_000,6_000],\n",
    "    'tfidfvectorizer__ngram_range':[(1,1),(1,2),(2,2)],\n",
    "    'multinomialnb__alpha':[1,10,5]\n",
    "}"
   ]
  },
  {
   "cell_type": "code",
   "execution_count": 111,
   "metadata": {},
   "outputs": [
    {
     "data": {
      "text/plain": [
       "GridSearchCV(estimator=Pipeline(steps=[('tfidfvectorizer',\n",
       "                                        TfidfVectorizer(stop_words=['0o', '0s',\n",
       "                                                                    '3a', '3b',\n",
       "                                                                    '3d', '6b',\n",
       "                                                                    '6o', 'a',\n",
       "                                                                    'a1', 'a2',\n",
       "                                                                    'a3', 'a4',\n",
       "                                                                    'ab',\n",
       "                                                                    'able',\n",
       "                                                                    'about',\n",
       "                                                                    'above',\n",
       "                                                                    'abst',\n",
       "                                                                    'ac',\n",
       "                                                                    'accordance',\n",
       "                                                                    'according',\n",
       "                                                                    'accordingly',\n",
       "                                                                    'across',\n",
       "                                                                    'act',\n",
       "                                                                    'actually',\n",
       "                                                                    'ad',\n",
       "                                                                    'added',\n",
       "                                                                    'adj', 'ae',\n",
       "                                                                    'af',\n",
       "                                                                    'affected', ...])),\n",
       "                                       ('standardscaler',\n",
       "                                        StandardScaler(with_mean=False)),\n",
       "                                       ('multinomialnb', MultinomialNB())]),\n",
       "             n_jobs=-1,\n",
       "             param_grid={'multinomialnb__alpha': [1, 10, 5],\n",
       "                         'tfidfvectorizer__max_features': [5000, 6000],\n",
       "                         'tfidfvectorizer__ngram_range': [(1, 1), (1, 2),\n",
       "                                                          (2, 2)]})"
      ]
     },
     "execution_count": 111,
     "metadata": {},
     "output_type": "execute_result"
    }
   ],
   "source": [
    "#create gridsearch for combined text with tfidfvectorization\n",
    "grid_combo_tfdf = GridSearchCV(pipeNBtddf_combo,param_grid = param_tfdf_combo,n_jobs=-1)\n",
    "\n",
    "#fit the grid to the training data\n",
    "grid_combo_tfdf.fit(X_train,y_train)"
   ]
  },
  {
   "cell_type": "code",
   "execution_count": 112,
   "metadata": {},
   "outputs": [
    {
     "data": {
      "text/plain": [
       "0.8042250956109999"
      ]
     },
     "execution_count": 112,
     "metadata": {},
     "output_type": "execute_result"
    }
   ],
   "source": [
    "#score accuracy on the training data\n",
    "grid_combo_tfdf.score(X_train,y_train)"
   ]
  },
  {
   "cell_type": "code",
   "execution_count": 113,
   "metadata": {},
   "outputs": [
    {
     "data": {
      "text/plain": [
       "{'multinomialnb__alpha': 10,\n",
       " 'tfidfvectorizer__max_features': 5000,\n",
       " 'tfidfvectorizer__ngram_range': (1, 2)}"
      ]
     },
     "execution_count": 113,
     "metadata": {},
     "output_type": "execute_result"
    }
   ],
   "source": [
    "#best parameters\n",
    "grid_combo_tfdf.best_params_"
   ]
  },
  {
   "cell_type": "code",
   "execution_count": 114,
   "metadata": {},
   "outputs": [
    {
     "name": "stdout",
     "output_type": "stream",
     "text": [
      "The accuracy of the Naive Bayes model with combined text is 0.7294.\n",
      "The recall of the Naive Bayes model with combined text is 0.7934.\n",
      "The f1 score of the Naive Bayes model with combined text is 0.7687.\n",
      "The precision score of the Naive Bayes model with combined text is 0.7455.\n"
     ]
    }
   ],
   "source": [
    "#score on different classification metrics\n",
    "print(f'The accuracy of the Naive Bayes model with combined text is {round(grid_combo_tfdf.score(X_test,y_test),4)}.')\n",
    "print(f'The recall of the Naive Bayes model with combined text is {round(recall_score(y_test,grid_combo_tfdf.predict(X_test)),4)}.')\n",
    "print(f'The f1 score of the Naive Bayes model with combined text is {round(f1_score(y_test,grid_combo_tfdf.predict(X_test)),4)}.')\n",
    "print(f'The precision score of the Naive Bayes model with combined text is {round(precision_score(y_test,grid_combo_tfdf.predict(X_test)),4)}.')"
   ]
  },
  {
   "cell_type": "markdown",
   "metadata": {},
   "source": [
    "#### Model Interpretation:\n",
    "\n",
    "The TfidfVectorization with the combined text performed several percentage points worse in the recall metric and had slightly more overfitting than Model One with combined text."
   ]
  },
  {
   "cell_type": "markdown",
   "metadata": {},
   "source": [
    "#### Conclusions:"
   ]
  },
  {
   "cell_type": "markdown",
   "metadata": {},
   "source": [
    "Comparing all of the text values together - seltext, title, and the combined text - I discovered that selftext and combined title+selftext coincided with similar model scores in accuracy and recall. Although, the combined text column scored better with 75% accuracy and 86% recall, without overfitting. Combining the selftext and title data and ultimately producing more data for a model to train on reduces the variance of the models produced, leading to more stable models we can have higher confidence in."
   ]
  }
 ],
 "metadata": {
  "kernelspec": {
   "display_name": "Python 3",
   "language": "python",
   "name": "python3"
  },
  "language_info": {
   "codemirror_mode": {
    "name": "ipython",
    "version": 3
   },
   "file_extension": ".py",
   "mimetype": "text/x-python",
   "name": "python",
   "nbconvert_exporter": "python",
   "pygments_lexer": "ipython3",
   "version": "3.8.5"
  }
 },
 "nbformat": 4,
 "nbformat_minor": 4
}
