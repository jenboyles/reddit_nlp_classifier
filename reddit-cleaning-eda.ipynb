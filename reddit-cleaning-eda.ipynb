{
 "cells": [
  {
   "cell_type": "markdown",
   "metadata": {},
   "source": [
    "## Data Cleaning: Reddit Project"
   ]
  },
  {
   "cell_type": "code",
   "execution_count": 1,
   "metadata": {},
   "outputs": [],
   "source": [
    "#imports for data cleaning and eda\n",
    "import pandas as pd\n",
    "import numpy as np\n",
    "import re"
   ]
  },
  {
   "cell_type": "markdown",
   "metadata": {},
   "source": [
    "## Read in & Clean Biology Submissions csv"
   ]
  },
  {
   "cell_type": "code",
   "execution_count": 2,
   "metadata": {},
   "outputs": [],
   "source": [
    "#read in csv for biology submissions\n",
    "bio_sub = pd.read_csv('datasets/bio-submissions.csv')"
   ]
  },
  {
   "cell_type": "code",
   "execution_count": 3,
   "metadata": {},
   "outputs": [
    {
     "name": "stdout",
     "output_type": "stream",
     "text": [
      "<class 'pandas.core.frame.DataFrame'>\n",
      "RangeIndex: 10072 entries, 0 to 10071\n",
      "Data columns (total 3 columns):\n",
      " #   Column     Non-Null Count  Dtype \n",
      "---  ------     --------------  ----- \n",
      " 0   subreddit  10072 non-null  object\n",
      " 1   selftext   4790 non-null   object\n",
      " 2   title      10072 non-null  object\n",
      "dtypes: object(3)\n",
      "memory usage: 236.2+ KB\n"
     ]
    }
   ],
   "source": [
    "#view the info of the biology csv\n",
    "#view the amount of null values\n",
    "bio_sub.info()"
   ]
  },
  {
   "cell_type": "code",
   "execution_count": 4,
   "metadata": {},
   "outputs": [
    {
     "data": {
      "text/html": [
       "<div>\n",
       "<style scoped>\n",
       "    .dataframe tbody tr th:only-of-type {\n",
       "        vertical-align: middle;\n",
       "    }\n",
       "\n",
       "    .dataframe tbody tr th {\n",
       "        vertical-align: top;\n",
       "    }\n",
       "\n",
       "    .dataframe thead th {\n",
       "        text-align: right;\n",
       "    }\n",
       "</style>\n",
       "<table border=\"1\" class=\"dataframe\">\n",
       "  <thead>\n",
       "    <tr style=\"text-align: right;\">\n",
       "      <th></th>\n",
       "      <th>subreddit</th>\n",
       "      <th>selftext</th>\n",
       "      <th>title</th>\n",
       "    </tr>\n",
       "  </thead>\n",
       "  <tbody>\n",
       "    <tr>\n",
       "      <th>0</th>\n",
       "      <td>biology</td>\n",
       "      <td>[removed]</td>\n",
       "      <td>Mendelian inheritance</td>\n",
       "    </tr>\n",
       "    <tr>\n",
       "      <th>1</th>\n",
       "      <td>biology</td>\n",
       "      <td>NaN</td>\n",
       "      <td>Diary of a Biologist: (Sarcoramphus papa) Chap...</td>\n",
       "    </tr>\n",
       "  </tbody>\n",
       "</table>\n",
       "</div>"
      ],
      "text/plain": [
       "  subreddit   selftext                                              title\n",
       "0   biology  [removed]                              Mendelian inheritance\n",
       "1   biology        NaN  Diary of a Biologist: (Sarcoramphus papa) Chap..."
      ]
     },
     "execution_count": 4,
     "metadata": {},
     "output_type": "execute_result"
    }
   ],
   "source": [
    "#check for correct read in\n",
    "bio_sub.head(2)"
   ]
  },
  {
   "cell_type": "code",
   "execution_count": 5,
   "metadata": {},
   "outputs": [
    {
     "data": {
      "text/plain": [
       "Index(['subreddit', 'selftext', 'title'], dtype='object')"
      ]
     },
     "execution_count": 5,
     "metadata": {},
     "output_type": "execute_result"
    }
   ],
   "source": [
    "#the columns of the biology dataframe\n",
    "bio_sub.columns"
   ]
  },
  {
   "cell_type": "code",
   "execution_count": 6,
   "metadata": {},
   "outputs": [
    {
     "data": {
      "text/plain": [
       "subreddit       0\n",
       "selftext     5282\n",
       "title           0\n",
       "dtype: int64"
      ]
     },
     "execution_count": 6,
     "metadata": {},
     "output_type": "execute_result"
    }
   ],
   "source": [
    "#show the values of biology subreddit that are null\n",
    "bio_sub.isna().sum()"
   ]
  },
  {
   "cell_type": "code",
   "execution_count": 7,
   "metadata": {},
   "outputs": [
    {
     "data": {
      "text/plain": [
       "(10072, 3)"
      ]
     },
     "execution_count": 7,
     "metadata": {},
     "output_type": "execute_result"
    }
   ],
   "source": [
    "#original shape of the dataframe\n",
    "bio_sub.shape"
   ]
  },
  {
   "cell_type": "code",
   "execution_count": 8,
   "metadata": {},
   "outputs": [],
   "source": [
    "#remove these removed/deleted columns\n",
    "bio_sub.replace('[removed]',np.nan,inplace=True)\n",
    "bio_sub.replace('[deleted]',np.nan,inplace=True)"
   ]
  },
  {
   "cell_type": "code",
   "execution_count": 9,
   "metadata": {},
   "outputs": [],
   "source": [
    "#drop any rows that don't have text under the title\n",
    "bio_sub.dropna(axis=0,subset=['selftext'],inplace=True)"
   ]
  },
  {
   "cell_type": "code",
   "execution_count": 10,
   "metadata": {},
   "outputs": [
    {
     "data": {
      "text/plain": [
       "(4789, 3)"
      ]
     },
     "execution_count": 10,
     "metadata": {},
     "output_type": "execute_result"
    }
   ],
   "source": [
    "#number of observations after dropping null text rows\n",
    "bio_sub.shape"
   ]
  },
  {
   "cell_type": "code",
   "execution_count": 11,
   "metadata": {},
   "outputs": [
    {
     "data": {
      "text/plain": [
       "8        Here's the images: https://i.redd.it/tp5d22frp...\n",
       "14       Hello! I am looking for some advice/ideas to f...\n",
       "15       radiating , lasts 1 second from side of lower ...\n",
       "16       Hi guys, I just had my first class on fluoresc...\n",
       "22       I need to match up solution tests with details...\n",
       "                               ...                        \n",
       "10060    Is there anybody that believes in the Endosymb...\n",
       "10061    This made me think about it: https://www.pop.o...\n",
       "10063    https://frankreport.com/2020/05/28/dna-damage-...\n",
       "10066     Hello there, I'm looking for good books on th...\n",
       "10069     \\n\\nBiology is the study of life. This is a s...\n",
       "Name: selftext, Length: 4789, dtype: object"
      ]
     },
     "execution_count": 11,
     "metadata": {},
     "output_type": "execute_result"
    }
   ],
   "source": [
    "#tiny glance at individual post selftexts\n",
    "bio_sub['selftext']"
   ]
  },
  {
   "cell_type": "code",
   "execution_count": 12,
   "metadata": {},
   "outputs": [],
   "source": [
    "#remove links from the text -- keep the other text from that row\n",
    "bio_sub['selftext'] = bio_sub['selftext'].str.replace('http\\S+|www.\\S+', '', case=False)\n",
    "bio_sub['title'] = bio_sub['title'].str.replace('http\\S+|www.\\S+', '', case=False)"
   ]
  },
  {
   "cell_type": "code",
   "execution_count": 13,
   "metadata": {},
   "outputs": [
    {
     "data": {
      "text/html": [
       "<div>\n",
       "<style scoped>\n",
       "    .dataframe tbody tr th:only-of-type {\n",
       "        vertical-align: middle;\n",
       "    }\n",
       "\n",
       "    .dataframe tbody tr th {\n",
       "        vertical-align: top;\n",
       "    }\n",
       "\n",
       "    .dataframe thead th {\n",
       "        text-align: right;\n",
       "    }\n",
       "</style>\n",
       "<table border=\"1\" class=\"dataframe\">\n",
       "  <thead>\n",
       "    <tr style=\"text-align: right;\">\n",
       "      <th></th>\n",
       "      <th>subreddit</th>\n",
       "      <th>selftext</th>\n",
       "      <th>title</th>\n",
       "    </tr>\n",
       "  </thead>\n",
       "  <tbody>\n",
       "    <tr>\n",
       "      <th>8</th>\n",
       "      <td>biology</td>\n",
       "      <td>Here's the images: \\n\\nThey're the midslices b...</td>\n",
       "      <td>Why does it seem like my venous sinuses are ve...</td>\n",
       "    </tr>\n",
       "    <tr>\n",
       "      <th>14</th>\n",
       "      <td>biology</td>\n",
       "      <td>Hello! I am looking for some advice/ideas to f...</td>\n",
       "      <td>BS in Biology to a Masters in what??</td>\n",
       "    </tr>\n",
       "    <tr>\n",
       "      <th>27</th>\n",
       "      <td>biology</td>\n",
       "      <td>I'm still a high school student and am beginni...</td>\n",
       "      <td>I have a question about biology and why am I'm...</td>\n",
       "    </tr>\n",
       "    <tr>\n",
       "      <th>41</th>\n",
       "      <td>biology</td>\n",
       "      <td>Do genes that encode proteins used into e.g. t...</td>\n",
       "      <td>Why didn't we evolve to lose unused genes from...</td>\n",
       "    </tr>\n",
       "    <tr>\n",
       "      <th>50</th>\n",
       "      <td>biology</td>\n",
       "      <td>Question as stated in the title. I‘m really in...</td>\n",
       "      <td>What in your opinion is the most prestigious/ ...</td>\n",
       "    </tr>\n",
       "    <tr>\n",
       "      <th>...</th>\n",
       "      <td>...</td>\n",
       "      <td>...</td>\n",
       "      <td>...</td>\n",
       "    </tr>\n",
       "    <tr>\n",
       "      <th>10033</th>\n",
       "      <td>biology</td>\n",
       "      <td>&amp;amp;#x200B;\\n\\n[RNA as a CUBE](</td>\n",
       "      <td>DNA in a CUBE?</td>\n",
       "    </tr>\n",
       "    <tr>\n",
       "      <th>10035</th>\n",
       "      <td>biology</td>\n",
       "      <td>Hey guys, \\n\\nI graduated last summer with a B...</td>\n",
       "      <td>Can I go back to Graduate School if I drop out...</td>\n",
       "    </tr>\n",
       "    <tr>\n",
       "      <th>10058</th>\n",
       "      <td>biology</td>\n",
       "      <td>RSV has killed 800,000 to 1 million people in ...</td>\n",
       "      <td>I'm crying right now. Hundreds of thousands of...</td>\n",
       "    </tr>\n",
       "    <tr>\n",
       "      <th>10066</th>\n",
       "      <td>biology</td>\n",
       "      <td>Hello there, I'm looking for good books on th...</td>\n",
       "      <td>Books on hymenoptera</td>\n",
       "    </tr>\n",
       "    <tr>\n",
       "      <th>10069</th>\n",
       "      <td>biology</td>\n",
       "      <td>\\n\\nBiology is the study of life. This is a s...</td>\n",
       "      <td>Class 10 Biology Notes</td>\n",
       "    </tr>\n",
       "  </tbody>\n",
       "</table>\n",
       "<p>2522 rows × 3 columns</p>\n",
       "</div>"
      ],
      "text/plain": [
       "      subreddit                                           selftext  \\\n",
       "8       biology  Here's the images: \\n\\nThey're the midslices b...   \n",
       "14      biology  Hello! I am looking for some advice/ideas to f...   \n",
       "27      biology  I'm still a high school student and am beginni...   \n",
       "41      biology  Do genes that encode proteins used into e.g. t...   \n",
       "50      biology  Question as stated in the title. I‘m really in...   \n",
       "...         ...                                                ...   \n",
       "10033   biology                   &amp;#x200B;\\n\\n[RNA as a CUBE](   \n",
       "10035   biology  Hey guys, \\n\\nI graduated last summer with a B...   \n",
       "10058   biology  RSV has killed 800,000 to 1 million people in ...   \n",
       "10066   biology   Hello there, I'm looking for good books on th...   \n",
       "10069   biology   \\n\\nBiology is the study of life. This is a s...   \n",
       "\n",
       "                                                   title  \n",
       "8      Why does it seem like my venous sinuses are ve...  \n",
       "14                  BS in Biology to a Masters in what??  \n",
       "27     I have a question about biology and why am I'm...  \n",
       "41     Why didn't we evolve to lose unused genes from...  \n",
       "50     What in your opinion is the most prestigious/ ...  \n",
       "...                                                  ...  \n",
       "10033                                     DNA in a CUBE?  \n",
       "10035  Can I go back to Graduate School if I drop out...  \n",
       "10058  I'm crying right now. Hundreds of thousands of...  \n",
       "10066                               Books on hymenoptera  \n",
       "10069                             Class 10 Biology Notes  \n",
       "\n",
       "[2522 rows x 3 columns]"
      ]
     },
     "execution_count": 13,
     "metadata": {},
     "output_type": "execute_result"
    }
   ],
   "source": [
    "#observing how many selftext values contain the special character \\n\n",
    "bio_sub[bio_sub['selftext'].str.contains('\\n')]"
   ]
  },
  {
   "cell_type": "code",
   "execution_count": 14,
   "metadata": {},
   "outputs": [],
   "source": [
    "#remove the \\n special characters from the selftext column\n",
    "bio_sub['selftext'].replace('\\n','',regex=True,inplace=True)"
   ]
  },
  {
   "cell_type": "code",
   "execution_count": 15,
   "metadata": {},
   "outputs": [
    {
     "data": {
      "text/html": [
       "<div>\n",
       "<style scoped>\n",
       "    .dataframe tbody tr th:only-of-type {\n",
       "        vertical-align: middle;\n",
       "    }\n",
       "\n",
       "    .dataframe tbody tr th {\n",
       "        vertical-align: top;\n",
       "    }\n",
       "\n",
       "    .dataframe thead th {\n",
       "        text-align: right;\n",
       "    }\n",
       "</style>\n",
       "<table border=\"1\" class=\"dataframe\">\n",
       "  <thead>\n",
       "    <tr style=\"text-align: right;\">\n",
       "      <th></th>\n",
       "      <th>subreddit</th>\n",
       "      <th>selftext</th>\n",
       "      <th>title</th>\n",
       "    </tr>\n",
       "  </thead>\n",
       "  <tbody>\n",
       "  </tbody>\n",
       "</table>\n",
       "</div>"
      ],
      "text/plain": [
       "Empty DataFrame\n",
       "Columns: [subreddit, selftext, title]\n",
       "Index: []"
      ]
     },
     "execution_count": 15,
     "metadata": {},
     "output_type": "execute_result"
    }
   ],
   "source": [
    "#shows that the replace method worked correctly\n",
    "bio_sub[bio_sub['selftext'].str.contains('\\n')]"
   ]
  },
  {
   "cell_type": "code",
   "execution_count": 16,
   "metadata": {},
   "outputs": [],
   "source": [
    "#reset the index count for dataframe\n",
    "bio_sub.reset_index(drop=True,inplace=True)"
   ]
  },
  {
   "cell_type": "code",
   "execution_count": 17,
   "metadata": {},
   "outputs": [
    {
     "data": {
      "text/html": [
       "<div>\n",
       "<style scoped>\n",
       "    .dataframe tbody tr th:only-of-type {\n",
       "        vertical-align: middle;\n",
       "    }\n",
       "\n",
       "    .dataframe tbody tr th {\n",
       "        vertical-align: top;\n",
       "    }\n",
       "\n",
       "    .dataframe thead th {\n",
       "        text-align: right;\n",
       "    }\n",
       "</style>\n",
       "<table border=\"1\" class=\"dataframe\">\n",
       "  <thead>\n",
       "    <tr style=\"text-align: right;\">\n",
       "      <th></th>\n",
       "      <th>subreddit</th>\n",
       "      <th>selftext</th>\n",
       "      <th>title</th>\n",
       "    </tr>\n",
       "  </thead>\n",
       "  <tbody>\n",
       "    <tr>\n",
       "      <th>0</th>\n",
       "      <td>biology</td>\n",
       "      <td>Here's the images: They're the midslices but t...</td>\n",
       "      <td>Why does it seem like my venous sinuses are ve...</td>\n",
       "    </tr>\n",
       "    <tr>\n",
       "      <th>1</th>\n",
       "      <td>biology</td>\n",
       "      <td>Hello! I am looking for some advice/ideas to f...</td>\n",
       "      <td>BS in Biology to a Masters in what??</td>\n",
       "    </tr>\n",
       "    <tr>\n",
       "      <th>2</th>\n",
       "      <td>biology</td>\n",
       "      <td>radiating , lasts 1 second from side of lower ...</td>\n",
       "      <td>shooting pain from abdomen to neck?</td>\n",
       "    </tr>\n",
       "    <tr>\n",
       "      <th>3</th>\n",
       "      <td>biology</td>\n",
       "      <td>Hi guys, I just had my first class on fluoresc...</td>\n",
       "      <td>Any website for microscopy videos?</td>\n",
       "    </tr>\n",
       "    <tr>\n",
       "      <th>4</th>\n",
       "      <td>biology</td>\n",
       "      <td>I need to match up solution tests with details...</td>\n",
       "      <td>Help me please</td>\n",
       "    </tr>\n",
       "  </tbody>\n",
       "</table>\n",
       "</div>"
      ],
      "text/plain": [
       "  subreddit                                           selftext  \\\n",
       "0   biology  Here's the images: They're the midslices but t...   \n",
       "1   biology  Hello! I am looking for some advice/ideas to f...   \n",
       "2   biology  radiating , lasts 1 second from side of lower ...   \n",
       "3   biology  Hi guys, I just had my first class on fluoresc...   \n",
       "4   biology  I need to match up solution tests with details...   \n",
       "\n",
       "                                               title  \n",
       "0  Why does it seem like my venous sinuses are ve...  \n",
       "1               BS in Biology to a Masters in what??  \n",
       "2                shooting pain from abdomen to neck?  \n",
       "3                 Any website for microscopy videos?  \n",
       "4                                     Help me please  "
      ]
     },
     "execution_count": 17,
     "metadata": {},
     "output_type": "execute_result"
    }
   ],
   "source": [
    "#observing the first 5 columns of the biology dataframe\n",
    "bio_sub.head()"
   ]
  },
  {
   "cell_type": "code",
   "execution_count": 18,
   "metadata": {},
   "outputs": [
    {
     "data": {
      "text/plain": [
       "(4789, 3)"
      ]
     },
     "execution_count": 18,
     "metadata": {},
     "output_type": "execute_result"
    }
   ],
   "source": [
    "#cleaned bio dataframe shape\n",
    "bio_sub.shape"
   ]
  },
  {
   "cell_type": "code",
   "execution_count": 19,
   "metadata": {},
   "outputs": [
    {
     "data": {
      "text/plain": [
       "(868, 3)"
      ]
     },
     "execution_count": 19,
     "metadata": {},
     "output_type": "execute_result"
    }
   ],
   "source": [
    "#the number of rows in the biology subreddit that contains the word 'biology'\n",
    "bio_sub[bio_sub['selftext'].str.contains('biology')].shape"
   ]
  },
  {
   "cell_type": "code",
   "execution_count": 20,
   "metadata": {},
   "outputs": [
    {
     "data": {
      "text/plain": [
       "(1273, 3)"
      ]
     },
     "execution_count": 20,
     "metadata": {},
     "output_type": "execute_result"
    }
   ],
   "source": [
    "#the number of rows in the biology subreddit that contains the word 'bio'\n",
    "bio_sub[bio_sub['selftext'].str.contains('bio')].shape"
   ]
  },
  {
   "cell_type": "markdown",
   "metadata": {},
   "source": [
    "#### Containing the Names of the Subreddits\n",
    "\n",
    "Above, there is about 2,000 instances of the name of the actual subreddit 'biology' within the selftext alone. The names of the subreddits and variations such as 'bio' and 'biochem' might have a high predictive power within any models created. As I only want to use terminology from these branches of science to predict the subreddits the names of the subreddits and it's variations will be dropped."
   ]
  },
  {
   "cell_type": "markdown",
   "metadata": {},
   "source": [
    "## Read in & Clean Biochemistry Submissions csv"
   ]
  },
  {
   "cell_type": "code",
   "execution_count": 21,
   "metadata": {},
   "outputs": [],
   "source": [
    "#read in biochemistry submissions csv\n",
    "biochem_sub = pd.read_csv('datasets/biochem-submissions.csv')"
   ]
  },
  {
   "cell_type": "code",
   "execution_count": 22,
   "metadata": {},
   "outputs": [
    {
     "data": {
      "text/html": [
       "<div>\n",
       "<style scoped>\n",
       "    .dataframe tbody tr th:only-of-type {\n",
       "        vertical-align: middle;\n",
       "    }\n",
       "\n",
       "    .dataframe tbody tr th {\n",
       "        vertical-align: top;\n",
       "    }\n",
       "\n",
       "    .dataframe thead th {\n",
       "        text-align: right;\n",
       "    }\n",
       "</style>\n",
       "<table border=\"1\" class=\"dataframe\">\n",
       "  <thead>\n",
       "    <tr style=\"text-align: right;\">\n",
       "      <th></th>\n",
       "      <th>subreddit</th>\n",
       "      <th>selftext</th>\n",
       "      <th>title</th>\n",
       "    </tr>\n",
       "  </thead>\n",
       "  <tbody>\n",
       "    <tr>\n",
       "      <th>0</th>\n",
       "      <td>Biochemistry</td>\n",
       "      <td>Is there a database for protein 3D structures?...</td>\n",
       "      <td>Protein 3D structure database?</td>\n",
       "    </tr>\n",
       "    <tr>\n",
       "      <th>1</th>\n",
       "      <td>Biochemistry</td>\n",
       "      <td>Warning:  This is entirely not my field so any...</td>\n",
       "      <td>Hacking plants for natural product production</td>\n",
       "    </tr>\n",
       "  </tbody>\n",
       "</table>\n",
       "</div>"
      ],
      "text/plain": [
       "      subreddit                                           selftext  \\\n",
       "0  Biochemistry  Is there a database for protein 3D structures?...   \n",
       "1  Biochemistry  Warning:  This is entirely not my field so any...   \n",
       "\n",
       "                                           title  \n",
       "0                 Protein 3D structure database?  \n",
       "1  Hacking plants for natural product production  "
      ]
     },
     "execution_count": 22,
     "metadata": {},
     "output_type": "execute_result"
    }
   ],
   "source": [
    "#check for correct read in\n",
    "biochem_sub.head(2)"
   ]
  },
  {
   "cell_type": "code",
   "execution_count": 23,
   "metadata": {},
   "outputs": [
    {
     "name": "stdout",
     "output_type": "stream",
     "text": [
      "<class 'pandas.core.frame.DataFrame'>\n",
      "RangeIndex: 6229 entries, 0 to 6228\n",
      "Data columns (total 3 columns):\n",
      " #   Column     Non-Null Count  Dtype \n",
      "---  ------     --------------  ----- \n",
      " 0   subreddit  6229 non-null   object\n",
      " 1   selftext   6229 non-null   object\n",
      " 2   title      6229 non-null   object\n",
      "dtypes: object(3)\n",
      "memory usage: 146.1+ KB\n"
     ]
    }
   ],
   "source": [
    "#check the info of the biochem csv\n",
    "#shows there are no null values present and all columns are objects (as expected)\n",
    "biochem_sub.info()"
   ]
  },
  {
   "cell_type": "code",
   "execution_count": 24,
   "metadata": {},
   "outputs": [
    {
     "data": {
      "text/plain": [
       "Index(['subreddit', 'selftext', 'title'], dtype='object')"
      ]
     },
     "execution_count": 24,
     "metadata": {},
     "output_type": "execute_result"
    }
   ],
   "source": [
    "#values of the biochemistry dataframe columns\n",
    "biochem_sub.columns"
   ]
  },
  {
   "cell_type": "code",
   "execution_count": 25,
   "metadata": {},
   "outputs": [
    {
     "data": {
      "text/plain": [
       "(6229, 3)"
      ]
     },
     "execution_count": 25,
     "metadata": {},
     "output_type": "execute_result"
    }
   ],
   "source": [
    "#initial data frame shape pre-cleaning\n",
    "biochem_sub.shape"
   ]
  },
  {
   "cell_type": "code",
   "execution_count": 26,
   "metadata": {},
   "outputs": [
    {
     "data": {
      "text/plain": [
       "subreddit    0\n",
       "selftext     0\n",
       "title        0\n",
       "dtype: int64"
      ]
     },
     "execution_count": 26,
     "metadata": {},
     "output_type": "execute_result"
    }
   ],
   "source": [
    "#in order to observe all of the rows for eda\n",
    "pd.options.display.max_rows = 88\n",
    "biochem_sub.isna().sum()"
   ]
  },
  {
   "cell_type": "code",
   "execution_count": 27,
   "metadata": {},
   "outputs": [],
   "source": [
    "#drop null rows of selftext\n",
    "biochem_sub.dropna(axis=0,subset=['selftext'],inplace=True)"
   ]
  },
  {
   "cell_type": "code",
   "execution_count": 28,
   "metadata": {},
   "outputs": [
    {
     "data": {
      "text/plain": [
       "(6229, 3)"
      ]
     },
     "execution_count": 28,
     "metadata": {},
     "output_type": "execute_result"
    }
   ],
   "source": [
    "#dataframe shape after dropping nulls from selftext\n",
    "biochem_sub.shape"
   ]
  },
  {
   "cell_type": "code",
   "execution_count": 29,
   "metadata": {},
   "outputs": [
    {
     "data": {
      "text/html": [
       "<div>\n",
       "<style scoped>\n",
       "    .dataframe tbody tr th:only-of-type {\n",
       "        vertical-align: middle;\n",
       "    }\n",
       "\n",
       "    .dataframe tbody tr th {\n",
       "        vertical-align: top;\n",
       "    }\n",
       "\n",
       "    .dataframe thead th {\n",
       "        text-align: right;\n",
       "    }\n",
       "</style>\n",
       "<table border=\"1\" class=\"dataframe\">\n",
       "  <thead>\n",
       "    <tr style=\"text-align: right;\">\n",
       "      <th></th>\n",
       "      <th>subreddit</th>\n",
       "      <th>selftext</th>\n",
       "      <th>title</th>\n",
       "    </tr>\n",
       "  </thead>\n",
       "  <tbody>\n",
       "    <tr>\n",
       "      <th>1</th>\n",
       "      <td>Biochemistry</td>\n",
       "      <td>Warning:  This is entirely not my field so any...</td>\n",
       "      <td>Hacking plants for natural product production</td>\n",
       "    </tr>\n",
       "  </tbody>\n",
       "</table>\n",
       "</div>"
      ],
      "text/plain": [
       "      subreddit                                           selftext  \\\n",
       "1  Biochemistry  Warning:  This is entirely not my field so any...   \n",
       "\n",
       "                                           title  \n",
       "1  Hacking plants for natural product production  "
      ]
     },
     "execution_count": 29,
     "metadata": {},
     "output_type": "execute_result"
    }
   ],
   "source": [
    "#seeing if rows contain different special characters\n",
    "biochem_sub[biochem_sub['selftext'].str.contains('\\n')].head(1)"
   ]
  },
  {
   "cell_type": "code",
   "execution_count": 30,
   "metadata": {},
   "outputs": [],
   "source": [
    "#get rid of \\n special characters from selftext\n",
    "biochem_sub['selftext'].replace('\\n','',regex=True,inplace=True)"
   ]
  },
  {
   "cell_type": "code",
   "execution_count": 31,
   "metadata": {},
   "outputs": [
    {
     "data": {
      "text/html": [
       "<div>\n",
       "<style scoped>\n",
       "    .dataframe tbody tr th:only-of-type {\n",
       "        vertical-align: middle;\n",
       "    }\n",
       "\n",
       "    .dataframe tbody tr th {\n",
       "        vertical-align: top;\n",
       "    }\n",
       "\n",
       "    .dataframe thead th {\n",
       "        text-align: right;\n",
       "    }\n",
       "</style>\n",
       "<table border=\"1\" class=\"dataframe\">\n",
       "  <thead>\n",
       "    <tr style=\"text-align: right;\">\n",
       "      <th></th>\n",
       "      <th>subreddit</th>\n",
       "      <th>selftext</th>\n",
       "      <th>title</th>\n",
       "    </tr>\n",
       "  </thead>\n",
       "  <tbody>\n",
       "  </tbody>\n",
       "</table>\n",
       "</div>"
      ],
      "text/plain": [
       "Empty DataFrame\n",
       "Columns: [subreddit, selftext, title]\n",
       "Index: []"
      ]
     },
     "execution_count": 31,
     "metadata": {},
     "output_type": "execute_result"
    }
   ],
   "source": [
    "#check that replace occurred correctly\n",
    "biochem_sub[biochem_sub['selftext'].str.contains('\\n')]"
   ]
  },
  {
   "cell_type": "code",
   "execution_count": 32,
   "metadata": {},
   "outputs": [],
   "source": [
    "#drop the rows that contain web links ('https')\n",
    "\n",
    "#remove links from the text -- keep other text rows\n",
    "biochem_sub['selftext'] = biochem_sub['selftext'].str.replace('http\\S+|www.\\S+', '', case=False)\n",
    "biochem_sub['title'] = biochem_sub['title'].str.replace('http\\S+|www.\\S+', '', case=False)"
   ]
  },
  {
   "cell_type": "code",
   "execution_count": 33,
   "metadata": {},
   "outputs": [
    {
     "data": {
      "text/html": [
       "<div>\n",
       "<style scoped>\n",
       "    .dataframe tbody tr th:only-of-type {\n",
       "        vertical-align: middle;\n",
       "    }\n",
       "\n",
       "    .dataframe tbody tr th {\n",
       "        vertical-align: top;\n",
       "    }\n",
       "\n",
       "    .dataframe thead th {\n",
       "        text-align: right;\n",
       "    }\n",
       "</style>\n",
       "<table border=\"1\" class=\"dataframe\">\n",
       "  <thead>\n",
       "    <tr style=\"text-align: right;\">\n",
       "      <th></th>\n",
       "      <th>subreddit</th>\n",
       "      <th>selftext</th>\n",
       "      <th>title</th>\n",
       "    </tr>\n",
       "  </thead>\n",
       "  <tbody>\n",
       "  </tbody>\n",
       "</table>\n",
       "</div>"
      ],
      "text/plain": [
       "Empty DataFrame\n",
       "Columns: [subreddit, selftext, title]\n",
       "Index: []"
      ]
     },
     "execution_count": 33,
     "metadata": {},
     "output_type": "execute_result"
    }
   ],
   "source": [
    "#checking title for https webpage links\n",
    "biochem_sub[biochem_sub['title'].str.contains('https')]"
   ]
  },
  {
   "cell_type": "code",
   "execution_count": 34,
   "metadata": {},
   "outputs": [
    {
     "data": {
      "text/html": [
       "<div>\n",
       "<style scoped>\n",
       "    .dataframe tbody tr th:only-of-type {\n",
       "        vertical-align: middle;\n",
       "    }\n",
       "\n",
       "    .dataframe tbody tr th {\n",
       "        vertical-align: top;\n",
       "    }\n",
       "\n",
       "    .dataframe thead th {\n",
       "        text-align: right;\n",
       "    }\n",
       "</style>\n",
       "<table border=\"1\" class=\"dataframe\">\n",
       "  <thead>\n",
       "    <tr style=\"text-align: right;\">\n",
       "      <th></th>\n",
       "      <th>subreddit</th>\n",
       "      <th>selftext</th>\n",
       "      <th>title</th>\n",
       "    </tr>\n",
       "  </thead>\n",
       "  <tbody>\n",
       "    <tr>\n",
       "      <th>0</th>\n",
       "      <td>Biochemistry</td>\n",
       "      <td>Is there a database for protein 3D structures?...</td>\n",
       "      <td>Protein 3D structure database?</td>\n",
       "    </tr>\n",
       "    <tr>\n",
       "      <th>1</th>\n",
       "      <td>Biochemistry</td>\n",
       "      <td>Warning:  This is entirely not my field so any...</td>\n",
       "      <td>Hacking plants for natural product production</td>\n",
       "    </tr>\n",
       "    <tr>\n",
       "      <th>2</th>\n",
       "      <td>Biochemistry</td>\n",
       "      <td>I have just completed my masters in Biochemist...</td>\n",
       "      <td>Just completed my masters I need urgent help f...</td>\n",
       "    </tr>\n",
       "    <tr>\n",
       "      <th>3</th>\n",
       "      <td>Biochemistry</td>\n",
       "      <td>Pretty much the title. I’m aware capping helps...</td>\n",
       "      <td>Can someone explain to me what helix capping i...</td>\n",
       "    </tr>\n",
       "    <tr>\n",
       "      <th>4</th>\n",
       "      <td>Biochemistry</td>\n",
       "      <td>I have my end of term assessments coming up in...</td>\n",
       "      <td>Desperate for Past-Exam Questions</td>\n",
       "    </tr>\n",
       "    <tr>\n",
       "      <th>...</th>\n",
       "      <td>...</td>\n",
       "      <td>...</td>\n",
       "      <td>...</td>\n",
       "    </tr>\n",
       "    <tr>\n",
       "      <th>6224</th>\n",
       "      <td>Biochemistry</td>\n",
       "      <td>This will probably be flagged, but i'm really ...</td>\n",
       "      <td>PNAS article-stuck behind paywall--HELP</td>\n",
       "    </tr>\n",
       "    <tr>\n",
       "      <th>6225</th>\n",
       "      <td>Biochemistry</td>\n",
       "      <td>I have a question about g-coupled receptors.  ...</td>\n",
       "      <td>Cell Phys Receptor Question</td>\n",
       "    </tr>\n",
       "    <tr>\n",
       "      <th>6226</th>\n",
       "      <td>Biochemistry</td>\n",
       "      <td>I've been reading about the [centriole]( I und...</td>\n",
       "      <td>What causes centrioles and microtubules to cop...</td>\n",
       "    </tr>\n",
       "    <tr>\n",
       "      <th>6227</th>\n",
       "      <td>Biochemistry</td>\n",
       "      <td>So far I've mostly looked for stuff in my home...</td>\n",
       "      <td>Wanting to take a year off between undergrad a...</td>\n",
       "    </tr>\n",
       "    <tr>\n",
       "      <th>6228</th>\n",
       "      <td>Biochemistry</td>\n",
       "      <td>I'm currently taking a Biochemistry class at u...</td>\n",
       "      <td>Biochemistry Help</td>\n",
       "    </tr>\n",
       "  </tbody>\n",
       "</table>\n",
       "<p>6229 rows × 3 columns</p>\n",
       "</div>"
      ],
      "text/plain": [
       "         subreddit                                           selftext  \\\n",
       "0     Biochemistry  Is there a database for protein 3D structures?...   \n",
       "1     Biochemistry  Warning:  This is entirely not my field so any...   \n",
       "2     Biochemistry  I have just completed my masters in Biochemist...   \n",
       "3     Biochemistry  Pretty much the title. I’m aware capping helps...   \n",
       "4     Biochemistry  I have my end of term assessments coming up in...   \n",
       "...            ...                                                ...   \n",
       "6224  Biochemistry  This will probably be flagged, but i'm really ...   \n",
       "6225  Biochemistry  I have a question about g-coupled receptors.  ...   \n",
       "6226  Biochemistry  I've been reading about the [centriole]( I und...   \n",
       "6227  Biochemistry  So far I've mostly looked for stuff in my home...   \n",
       "6228  Biochemistry  I'm currently taking a Biochemistry class at u...   \n",
       "\n",
       "                                                  title  \n",
       "0                        Protein 3D structure database?  \n",
       "1         Hacking plants for natural product production  \n",
       "2     Just completed my masters I need urgent help f...  \n",
       "3     Can someone explain to me what helix capping i...  \n",
       "4                     Desperate for Past-Exam Questions  \n",
       "...                                                 ...  \n",
       "6224            PNAS article-stuck behind paywall--HELP  \n",
       "6225                        Cell Phys Receptor Question  \n",
       "6226  What causes centrioles and microtubules to cop...  \n",
       "6227  Wanting to take a year off between undergrad a...  \n",
       "6228                                  Biochemistry Help  \n",
       "\n",
       "[6229 rows x 3 columns]"
      ]
     },
     "execution_count": 34,
     "metadata": {},
     "output_type": "execute_result"
    }
   ],
   "source": [
    "#reset the index\n",
    "biochem_sub.reset_index(drop=True)"
   ]
  },
  {
   "cell_type": "code",
   "execution_count": 35,
   "metadata": {},
   "outputs": [
    {
     "data": {
      "text/plain": [
       "(6229, 3)"
      ]
     },
     "execution_count": 35,
     "metadata": {},
     "output_type": "execute_result"
    }
   ],
   "source": [
    "#final shape of the cleaned biochem dataset\n",
    "biochem_sub.shape"
   ]
  },
  {
   "cell_type": "code",
   "execution_count": 36,
   "metadata": {},
   "outputs": [
    {
     "data": {
      "text/plain": [
       "(1156, 3)"
      ]
     },
     "execution_count": 36,
     "metadata": {},
     "output_type": "execute_result"
    }
   ],
   "source": [
    "#the number of rows in the biochem subreddit that contain the word biochemistry\n",
    "biochem_sub[biochem_sub['selftext'].str.contains('biochemistry')].shape"
   ]
  },
  {
   "cell_type": "code",
   "execution_count": 37,
   "metadata": {},
   "outputs": [
    {
     "data": {
      "text/plain": [
       "(1721, 3)"
      ]
     },
     "execution_count": 37,
     "metadata": {},
     "output_type": "execute_result"
    }
   ],
   "source": [
    "#the number of rows in the biochem subreddit that contain the word biochemistry\n",
    "biochem_sub[biochem_sub['selftext'].str.contains('biochem')].shape"
   ]
  },
  {
   "cell_type": "markdown",
   "metadata": {},
   "source": [
    "#### Containing the Names of the Subreddits\n",
    "\n",
    "Above, there is about 3,000 instances of the name of the actual subreddit 'biochemistry' within the selftext alone. The names of the subreddits and variations such as 'bio' and 'biochem' might have a high predictive power within any models created. As I only want to use terminology from these branches of science to predict the subreddits the names of the subreddits and it's variations will be dropped."
   ]
  },
  {
   "cell_type": "markdown",
   "metadata": {},
   "source": [
    "## Merge Cleaned Submission DataFrames"
   ]
  },
  {
   "cell_type": "code",
   "execution_count": 38,
   "metadata": {},
   "outputs": [],
   "source": [
    "#concat the dataframes on top of eachother\n",
    "#columns are the same in each dataframe\n",
    "final_sub = pd.concat([bio_sub,biochem_sub],axis=0)"
   ]
  },
  {
   "cell_type": "code",
   "execution_count": 39,
   "metadata": {},
   "outputs": [
    {
     "data": {
      "text/plain": [
       "(11018, 3)"
      ]
     },
     "execution_count": 39,
     "metadata": {},
     "output_type": "execute_result"
    }
   ],
   "source": [
    "#final dataframe for submissions\n",
    "#correct num of rows should be 4519 \n",
    "#correct num of cols should be 3\n",
    "final_sub.shape"
   ]
  },
  {
   "cell_type": "code",
   "execution_count": 43,
   "metadata": {},
   "outputs": [
    {
     "name": "stdout",
     "output_type": "stream",
     "text": [
      "<class 'pandas.core.frame.DataFrame'>\n",
      "Int64Index: 11018 entries, 0 to 6228\n",
      "Data columns (total 3 columns):\n",
      " #   Column     Non-Null Count  Dtype \n",
      "---  ------     --------------  ----- \n",
      " 0   subreddit  11018 non-null  object\n",
      " 1   selftext   11018 non-null  object\n",
      " 2   title      11018 non-null  object\n",
      "dtypes: object(3)\n",
      "memory usage: 344.3+ KB\n"
     ]
    }
   ],
   "source": [
    "#info of the final dataframe\n",
    "final_sub.info()"
   ]
  },
  {
   "cell_type": "code",
   "execution_count": 40,
   "metadata": {},
   "outputs": [],
   "source": [
    "#make all of the text in the columns lowercase\n",
    "final_sub['selftext'] = final_sub['selftext'].str.lower()\n",
    "final_sub['title'] = final_sub['title'].str.lower()"
   ]
  },
  {
   "cell_type": "code",
   "execution_count": 41,
   "metadata": {},
   "outputs": [],
   "source": [
    "#remove puncutation from text columns with regex\n",
    "final_sub['selftext'] = final_sub['selftext'].str.replace(r'[^\\w\\s]', '')\n",
    "final_sub['title'] = final_sub['title'].str.replace(r'[^\\w\\s]','')"
   ]
  },
  {
   "cell_type": "code",
   "execution_count": 44,
   "metadata": {},
   "outputs": [
    {
     "data": {
      "text/html": [
       "<div>\n",
       "<style scoped>\n",
       "    .dataframe tbody tr th:only-of-type {\n",
       "        vertical-align: middle;\n",
       "    }\n",
       "\n",
       "    .dataframe tbody tr th {\n",
       "        vertical-align: top;\n",
       "    }\n",
       "\n",
       "    .dataframe thead th {\n",
       "        text-align: right;\n",
       "    }\n",
       "</style>\n",
       "<table border=\"1\" class=\"dataframe\">\n",
       "  <thead>\n",
       "    <tr style=\"text-align: right;\">\n",
       "      <th></th>\n",
       "      <th>subreddit</th>\n",
       "      <th>selftext</th>\n",
       "      <th>title</th>\n",
       "    </tr>\n",
       "  </thead>\n",
       "  <tbody>\n",
       "    <tr>\n",
       "      <th>1</th>\n",
       "      <td>biology</td>\n",
       "      <td>hello i am looking for some adviceideas to fur...</td>\n",
       "      <td>bs in biology to a masters in what</td>\n",
       "    </tr>\n",
       "    <tr>\n",
       "      <th>8</th>\n",
       "      <td>biology</td>\n",
       "      <td>im still a high school student and am beginnin...</td>\n",
       "      <td>i have a question about biology and why am im ...</td>\n",
       "    </tr>\n",
       "    <tr>\n",
       "      <th>9</th>\n",
       "      <td>biology</td>\n",
       "      <td>i want to major in biology im perfectly okay w...</td>\n",
       "      <td>what would you tell a high school senior that ...</td>\n",
       "    </tr>\n",
       "    <tr>\n",
       "      <th>21</th>\n",
       "      <td>biology</td>\n",
       "      <td>what are the differences with campbell biology...</td>\n",
       "      <td>campbell biology canadian edition</td>\n",
       "    </tr>\n",
       "    <tr>\n",
       "      <th>24</th>\n",
       "      <td>biology</td>\n",
       "      <td>hi im an 18 year old firstyear college student...</td>\n",
       "      <td>people with experience in biology please help</td>\n",
       "    </tr>\n",
       "    <tr>\n",
       "      <th>...</th>\n",
       "      <td>...</td>\n",
       "      <td>...</td>\n",
       "      <td>...</td>\n",
       "    </tr>\n",
       "    <tr>\n",
       "      <th>6186</th>\n",
       "      <td>Biochemistry</td>\n",
       "      <td>i recently graduated from a state uni with a d...</td>\n",
       "      <td>recent biochemmol biology graduate resume crit...</td>\n",
       "    </tr>\n",
       "    <tr>\n",
       "      <th>6196</th>\n",
       "      <td>Biochemistry</td>\n",
       "      <td>hi everyonei am a graduate student proposing a...</td>\n",
       "      <td>techniques for studying peroxisomal enzyme int...</td>\n",
       "    </tr>\n",
       "    <tr>\n",
       "      <th>6205</th>\n",
       "      <td>Biochemistry</td>\n",
       "      <td>hello everyone im not sure if this is the righ...</td>\n",
       "      <td>resources for beginners on proteins and antiox...</td>\n",
       "    </tr>\n",
       "    <tr>\n",
       "      <th>6209</th>\n",
       "      <td>Biochemistry</td>\n",
       "      <td>hi rbiochemistryi am really sorry to bother yo...</td>\n",
       "      <td>acs biochem exam help</td>\n",
       "    </tr>\n",
       "    <tr>\n",
       "      <th>6226</th>\n",
       "      <td>Biochemistry</td>\n",
       "      <td>ive been reading about the centriole i underst...</td>\n",
       "      <td>what causes centrioles and microtubules to cop...</td>\n",
       "    </tr>\n",
       "  </tbody>\n",
       "</table>\n",
       "<p>1561 rows × 3 columns</p>\n",
       "</div>"
      ],
      "text/plain": [
       "         subreddit                                           selftext  \\\n",
       "1          biology  hello i am looking for some adviceideas to fur...   \n",
       "8          biology  im still a high school student and am beginnin...   \n",
       "9          biology  i want to major in biology im perfectly okay w...   \n",
       "21         biology  what are the differences with campbell biology...   \n",
       "24         biology  hi im an 18 year old firstyear college student...   \n",
       "...            ...                                                ...   \n",
       "6186  Biochemistry  i recently graduated from a state uni with a d...   \n",
       "6196  Biochemistry  hi everyonei am a graduate student proposing a...   \n",
       "6205  Biochemistry  hello everyone im not sure if this is the righ...   \n",
       "6209  Biochemistry  hi rbiochemistryi am really sorry to bother yo...   \n",
       "6226  Biochemistry  ive been reading about the centriole i underst...   \n",
       "\n",
       "                                                  title  \n",
       "1                    bs in biology to a masters in what  \n",
       "8     i have a question about biology and why am im ...  \n",
       "9     what would you tell a high school senior that ...  \n",
       "21                    campbell biology canadian edition  \n",
       "24        people with experience in biology please help  \n",
       "...                                                 ...  \n",
       "6186  recent biochemmol biology graduate resume crit...  \n",
       "6196  techniques for studying peroxisomal enzyme int...  \n",
       "6205  resources for beginners on proteins and antiox...  \n",
       "6209                              acs biochem exam help  \n",
       "6226  what causes centrioles and microtubules to cop...  \n",
       "\n",
       "[1561 rows x 3 columns]"
      ]
     },
     "execution_count": 44,
     "metadata": {},
     "output_type": "execute_result"
    }
   ],
   "source": [
    "#brief check to make sure replace worked\n",
    "final_sub[final_sub['selftext'].str.contains('biology')]"
   ]
  },
  {
   "cell_type": "markdown",
   "metadata": {},
   "source": [
    "#### Containing the Names of the Subreddits\n",
    "\n",
    "Above, there is 1,561 instances of the name of the actual subreddit 'biology' within the selftext alone. The names of the subreddits and variations such as 'bio' and 'biochem' might have a high predictive power within any models created. As I only want to use terminology from these branches of science to predict the subreddits the names of the subreddits and it's variations will be dropped."
   ]
  },
  {
   "cell_type": "code",
   "execution_count": 45,
   "metadata": {},
   "outputs": [
    {
     "data": {
      "text/html": [
       "<div>\n",
       "<style scoped>\n",
       "    .dataframe tbody tr th:only-of-type {\n",
       "        vertical-align: middle;\n",
       "    }\n",
       "\n",
       "    .dataframe tbody tr th {\n",
       "        vertical-align: top;\n",
       "    }\n",
       "\n",
       "    .dataframe thead th {\n",
       "        text-align: right;\n",
       "    }\n",
       "</style>\n",
       "<table border=\"1\" class=\"dataframe\">\n",
       "  <thead>\n",
       "    <tr style=\"text-align: right;\">\n",
       "      <th></th>\n",
       "      <th>subreddit</th>\n",
       "      <th>selftext</th>\n",
       "      <th>title</th>\n",
       "    </tr>\n",
       "  </thead>\n",
       "  <tbody>\n",
       "    <tr>\n",
       "      <th>2950</th>\n",
       "      <td>biology</td>\n",
       "      <td>ann vast improvement  sexy i tried retraining ...</td>\n",
       "      <td>ais from ai dungeon 2 to sexy to funny and one...</td>\n",
       "    </tr>\n",
       "    <tr>\n",
       "      <th>2957</th>\n",
       "      <td>biology</td>\n",
       "      <td>ann vast improvement  sexy i tried retraining ...</td>\n",
       "      <td>ais from ai dungeon 2 to sexy to funny and one...</td>\n",
       "    </tr>\n",
       "    <tr>\n",
       "      <th>2966</th>\n",
       "      <td>biology</td>\n",
       "      <td>ann vast improvement  sexy i tried retraining ...</td>\n",
       "      <td>ais from ai dungeon 2 to sexy to funny and one...</td>\n",
       "    </tr>\n",
       "    <tr>\n",
       "      <th>3284</th>\n",
       "      <td>biology</td>\n",
       "      <td>ann vast improvement  sexy i tried retraining ...</td>\n",
       "      <td>ais from ai dungeon 2 to sexy to funny and one...</td>\n",
       "    </tr>\n",
       "    <tr>\n",
       "      <th>3343</th>\n",
       "      <td>biology</td>\n",
       "      <td>ann vast improvement  sexy i tried retraining ...</td>\n",
       "      <td>ais from ai dungeon 2 to sexy to funny and one...</td>\n",
       "    </tr>\n",
       "    <tr>\n",
       "      <th>3744</th>\n",
       "      <td>biology</td>\n",
       "      <td>ann vast improvement  sexy i tried retraining ...</td>\n",
       "      <td>ais from ai dungeon 2 to sexy to funny and one...</td>\n",
       "    </tr>\n",
       "    <tr>\n",
       "      <th>3933</th>\n",
       "      <td>biology</td>\n",
       "      <td>ann vast improvement  sexy i tried retraining ...</td>\n",
       "      <td>ais from ai dungeon 2 to sexy to funny and one...</td>\n",
       "    </tr>\n",
       "    <tr>\n",
       "      <th>3975</th>\n",
       "      <td>biology</td>\n",
       "      <td>ann vast improvement  sexy i tried retraining ...</td>\n",
       "      <td>ais from ai dungeon 2 to sexy to funny and one...</td>\n",
       "    </tr>\n",
       "    <tr>\n",
       "      <th>4068</th>\n",
       "      <td>biology</td>\n",
       "      <td>ann vast improvement  sexy i tried retraining ...</td>\n",
       "      <td>ais from ai dungeon 2 to sexy to funny and one...</td>\n",
       "    </tr>\n",
       "    <tr>\n",
       "      <th>4342</th>\n",
       "      <td>biology</td>\n",
       "      <td>ann vast improvement  sexy i tried retraining ...</td>\n",
       "      <td>ais from ai dungeon 2 to sexy to funny and one...</td>\n",
       "    </tr>\n",
       "    <tr>\n",
       "      <th>4361</th>\n",
       "      <td>biology</td>\n",
       "      <td>ann vast improvement  sexy i tried retraining ...</td>\n",
       "      <td>ais from ai dungeon 2 to sexy to funny and one...</td>\n",
       "    </tr>\n",
       "  </tbody>\n",
       "</table>\n",
       "</div>"
      ],
      "text/plain": [
       "     subreddit                                           selftext  \\\n",
       "2950   biology  ann vast improvement  sexy i tried retraining ...   \n",
       "2957   biology  ann vast improvement  sexy i tried retraining ...   \n",
       "2966   biology  ann vast improvement  sexy i tried retraining ...   \n",
       "3284   biology  ann vast improvement  sexy i tried retraining ...   \n",
       "3343   biology  ann vast improvement  sexy i tried retraining ...   \n",
       "3744   biology  ann vast improvement  sexy i tried retraining ...   \n",
       "3933   biology  ann vast improvement  sexy i tried retraining ...   \n",
       "3975   biology  ann vast improvement  sexy i tried retraining ...   \n",
       "4068   biology  ann vast improvement  sexy i tried retraining ...   \n",
       "4342   biology  ann vast improvement  sexy i tried retraining ...   \n",
       "4361   biology  ann vast improvement  sexy i tried retraining ...   \n",
       "\n",
       "                                                  title  \n",
       "2950  ais from ai dungeon 2 to sexy to funny and one...  \n",
       "2957  ais from ai dungeon 2 to sexy to funny and one...  \n",
       "2966  ais from ai dungeon 2 to sexy to funny and one...  \n",
       "3284  ais from ai dungeon 2 to sexy to funny and one...  \n",
       "3343  ais from ai dungeon 2 to sexy to funny and one...  \n",
       "3744  ais from ai dungeon 2 to sexy to funny and one...  \n",
       "3933  ais from ai dungeon 2 to sexy to funny and one...  \n",
       "3975  ais from ai dungeon 2 to sexy to funny and one...  \n",
       "4068  ais from ai dungeon 2 to sexy to funny and one...  \n",
       "4342  ais from ai dungeon 2 to sexy to funny and one...  \n",
       "4361  ais from ai dungeon 2 to sexy to funny and one...  "
      ]
     },
     "execution_count": 45,
     "metadata": {},
     "output_type": "execute_result"
    }
   ],
   "source": [
    "#how many instances of a found spam post?\n",
    "final_sub[final_sub['selftext'].str.contains('ai dungeon')]"
   ]
  },
  {
   "cell_type": "markdown",
   "metadata": {},
   "source": [
    "#### Noise\n",
    "\n",
    "In the cell above there are 11 spam posts from the biology subreddit which have gone unmodded. These will be dropped, as they are insignficant to the data science question and introduce noise to the machine learning algorithms."
   ]
  },
  {
   "cell_type": "code",
   "execution_count": 46,
   "metadata": {},
   "outputs": [],
   "source": [
    "#removing spam posts from final dataframe\n",
    "final_sub = final_sub[final_sub['selftext'].str.contains('ai dungeon')==False]"
   ]
  },
  {
   "cell_type": "code",
   "execution_count": 48,
   "metadata": {},
   "outputs": [
    {
     "data": {
      "text/plain": [
       "Biochemistry    0.565913\n",
       "biology         0.434087\n",
       "Name: subreddit, dtype: float64"
      ]
     },
     "execution_count": 48,
     "metadata": {},
     "output_type": "execute_result"
    }
   ],
   "source": [
    "#value counts of the final dataframe\n",
    "final_sub['subreddit'].value_counts(normalize=True)"
   ]
  },
  {
   "cell_type": "markdown",
   "metadata": {},
   "source": [
    "#### Final Subreddit Counts\n",
    "\n",
    "Within the final rows of data for the final_sub dataframe, in which both selftext and title have there own columns, there is are more biochemistry subreddit posts. In total, there are 56.6% r/biochemistry posts and 43.4% r/biology posts. This will frame the baseline model."
   ]
  },
  {
   "cell_type": "code",
   "execution_count": 49,
   "metadata": {},
   "outputs": [],
   "source": [
    "#read final_sub dataframe to csv\n",
    "final_sub.to_csv('datasets/cleaned-submission.csv')"
   ]
  },
  {
   "cell_type": "markdown",
   "metadata": {},
   "source": [
    "## Combine Title and Selftext into a Single DataFrame for Combination Modeling"
   ]
  },
  {
   "cell_type": "code",
   "execution_count": 50,
   "metadata": {},
   "outputs": [
    {
     "data": {
      "text/html": [
       "<div>\n",
       "<style scoped>\n",
       "    .dataframe tbody tr th:only-of-type {\n",
       "        vertical-align: middle;\n",
       "    }\n",
       "\n",
       "    .dataframe tbody tr th {\n",
       "        vertical-align: top;\n",
       "    }\n",
       "\n",
       "    .dataframe thead th {\n",
       "        text-align: right;\n",
       "    }\n",
       "</style>\n",
       "<table border=\"1\" class=\"dataframe\">\n",
       "  <thead>\n",
       "    <tr style=\"text-align: right;\">\n",
       "      <th></th>\n",
       "      <th>subreddit</th>\n",
       "      <th>selftext</th>\n",
       "      <th>title</th>\n",
       "    </tr>\n",
       "  </thead>\n",
       "  <tbody>\n",
       "    <tr>\n",
       "      <th>0</th>\n",
       "      <td>biology</td>\n",
       "      <td>heres the images theyre the midslices but the ...</td>\n",
       "      <td>why does it seem like my venous sinuses are ve...</td>\n",
       "    </tr>\n",
       "    <tr>\n",
       "      <th>1</th>\n",
       "      <td>biology</td>\n",
       "      <td>hello i am looking for some adviceideas to fur...</td>\n",
       "      <td>bs in biology to a masters in what</td>\n",
       "    </tr>\n",
       "  </tbody>\n",
       "</table>\n",
       "</div>"
      ],
      "text/plain": [
       "  subreddit                                           selftext  \\\n",
       "0   biology  heres the images theyre the midslices but the ...   \n",
       "1   biology  hello i am looking for some adviceideas to fur...   \n",
       "\n",
       "                                               title  \n",
       "0  why does it seem like my venous sinuses are ve...  \n",
       "1                 bs in biology to a masters in what  "
      ]
     },
     "execution_count": 50,
     "metadata": {},
     "output_type": "execute_result"
    }
   ],
   "source": [
    "#final data frame for submissions\n",
    "final_sub.head(2)"
   ]
  },
  {
   "cell_type": "code",
   "execution_count": 52,
   "metadata": {},
   "outputs": [
    {
     "name": "stdout",
     "output_type": "stream",
     "text": [
      "<class 'pandas.core.frame.DataFrame'>\n",
      "Int64Index: 11007 entries, 0 to 6228\n",
      "Data columns (total 3 columns):\n",
      " #   Column     Non-Null Count  Dtype \n",
      "---  ------     --------------  ----- \n",
      " 0   subreddit  11007 non-null  object\n",
      " 1   selftext   11007 non-null  object\n",
      " 2   title      11007 non-null  object\n",
      "dtypes: object(3)\n",
      "memory usage: 344.0+ KB\n"
     ]
    }
   ],
   "source": [
    "#getting the info from the final_sub csv\n",
    "final_sub.info()"
   ]
  },
  {
   "cell_type": "code",
   "execution_count": 53,
   "metadata": {},
   "outputs": [],
   "source": [
    "#create a column of only selftext\n",
    "selftxt = final_sub[['subreddit','selftext']]\n",
    "selftxt.columns = ['subreddit','text']"
   ]
  },
  {
   "cell_type": "code",
   "execution_count": 54,
   "metadata": {},
   "outputs": [],
   "source": [
    "#create a column of only title text\n",
    "titletxt = final_sub[['subreddit','title']]\n",
    "titletxt.columns =['subreddit','text']"
   ]
  },
  {
   "cell_type": "code",
   "execution_count": 55,
   "metadata": {},
   "outputs": [],
   "source": [
    "#creat dataframe of combined title text and selftext\n",
    "self_title_combined = pd.concat([selftxt,titletxt],ignore_index=True)"
   ]
  },
  {
   "cell_type": "code",
   "execution_count": 56,
   "metadata": {},
   "outputs": [
    {
     "data": {
      "text/plain": [
       "(22014, 2)"
      ]
     },
     "execution_count": 56,
     "metadata": {},
     "output_type": "execute_result"
    }
   ],
   "source": [
    "#checking the final shape of the combined dataframe\n",
    "self_title_combined.shape"
   ]
  },
  {
   "cell_type": "code",
   "execution_count": 58,
   "metadata": {},
   "outputs": [
    {
     "data": {
      "text/plain": [
       "Biochemistry    0.565913\n",
       "biology         0.434087\n",
       "Name: subreddit, dtype: float64"
      ]
     },
     "execution_count": 58,
     "metadata": {},
     "output_type": "execute_result"
    }
   ],
   "source": [
    "#getting the value counts of the subreddits\n",
    "self_title_combined['subreddit'].value_counts(normalize=True)"
   ]
  },
  {
   "cell_type": "markdown",
   "metadata": {},
   "source": [
    "#### Final Subreddit Counts\n",
    "\n",
    "Within the final rows of data for the final_sub dataframe, in which both selftext and title have there own columns, there is are more biochemistry subreddit posts. In total, there are 56.6% r/biochemistry posts and 43.4% r/biology posts. This will frame the baseline model."
   ]
  },
  {
   "cell_type": "code",
   "execution_count": 59,
   "metadata": {},
   "outputs": [],
   "source": [
    "#save this dataframe into the datasets folder\n",
    "self_title_combined.to_csv('datasets/combined_title_self.csv')"
   ]
  },
  {
   "cell_type": "markdown",
   "metadata": {},
   "source": [
    "#### Discussion of the Data\n",
    "\n",
    "Observing the data it looks like there might be a considerable amount of noise for the algorithms during modeling to try and maneuver around. There is a considerable number of posts within the subreddits which ask for advice on career paths of different univeristies to study at. A title taken from a post above contains the following \"bs in biology to a masters in what\" - this is not the scientific terminology I am looking for during modeling. While I think I will be able to get a model above the baseline with the number of desired posts, I think accuracy will be hindered by the noise of the generic lifestyle posts."
   ]
  }
 ],
 "metadata": {
  "kernelspec": {
   "display_name": "Python 3",
   "language": "python",
   "name": "python3"
  },
  "language_info": {
   "codemirror_mode": {
    "name": "ipython",
    "version": 3
   },
   "file_extension": ".py",
   "mimetype": "text/x-python",
   "name": "python",
   "nbconvert_exporter": "python",
   "pygments_lexer": "ipython3",
   "version": "3.8.5"
  }
 },
 "nbformat": 4,
 "nbformat_minor": 4
}
