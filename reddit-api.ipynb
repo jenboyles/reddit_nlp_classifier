{
 "cells": [
  {
   "cell_type": "markdown",
   "metadata": {},
   "source": [
    "## Project 3 - NLP Binary Classification of Subreddits\n",
    "\n",
    "### Subreddits Used: r/biology & r/biochemistry"
   ]
  },
  {
   "cell_type": "markdown",
   "metadata": {},
   "source": [
    "#### Function to Pull Submission Data"
   ]
  },
  {
   "cell_type": "code",
   "execution_count": 1,
   "metadata": {},
   "outputs": [],
   "source": [
    "#import library\n",
    "import requests\n",
    "import pandas as pd\n",
    "import numpy as np"
   ]
  },
  {
   "cell_type": "code",
   "execution_count": 2,
   "metadata": {},
   "outputs": [],
   "source": [
    "#the url for pulling submissions\n",
    "url_submission = 'https://api.pushshift.io/reddit/search/submission'"
   ]
  },
  {
   "cell_type": "code",
   "execution_count": 3,
   "metadata": {},
   "outputs": [],
   "source": [
    "#maps to the params of pushshift api\n",
    "params = {\n",
    "    'subreddit': 'biology',\n",
    "    'size': 2, \n",
    "}"
   ]
  },
  {
   "cell_type": "code",
   "execution_count": 167,
   "metadata": {},
   "outputs": [],
   "source": [
    "#use the params in the get method\n",
    "req = requests.get(url_submission,params)"
   ]
  },
  {
   "cell_type": "code",
   "execution_count": 168,
   "metadata": {},
   "outputs": [
    {
     "data": {
      "text/plain": [
       "200"
      ]
     },
     "execution_count": 168,
     "metadata": {},
     "output_type": "execute_result"
    }
   ],
   "source": [
    "#shows correct pull of data\n",
    "req.status_code"
   ]
  },
  {
   "cell_type": "code",
   "execution_count": 169,
   "metadata": {},
   "outputs": [],
   "source": [
    "#read in the data as a json file\n",
    "data = req.json()"
   ]
  },
  {
   "cell_type": "code",
   "execution_count": 173,
   "metadata": {},
   "outputs": [],
   "source": [
    "#create first part of bio df\n",
    "bio_posts = data['data']"
   ]
  },
  {
   "cell_type": "code",
   "execution_count": 174,
   "metadata": {},
   "outputs": [
    {
     "data": {
      "text/plain": [
       "2"
      ]
     },
     "execution_count": 174,
     "metadata": {},
     "output_type": "execute_result"
    }
   ],
   "source": [
    "#by default getting 25 posts back from the pushshift api\n",
    "#largest size you can pull is 100\n",
    "len(bio_posts)"
   ]
  },
  {
   "cell_type": "code",
   "execution_count": 175,
   "metadata": {},
   "outputs": [
    {
     "data": {
      "text/plain": [
       "1610905071"
      ]
     },
     "execution_count": 175,
     "metadata": {},
     "output_type": "execute_result"
    }
   ],
   "source": [
    "#this shows the code to grab the utc from each row\n",
    "bio_posts[1]['created_utc']"
   ]
  },
  {
   "cell_type": "code",
   "execution_count": 176,
   "metadata": {},
   "outputs": [
    {
     "data": {
      "text/html": [
       "<div>\n",
       "<style scoped>\n",
       "    .dataframe tbody tr th:only-of-type {\n",
       "        vertical-align: middle;\n",
       "    }\n",
       "\n",
       "    .dataframe tbody tr th {\n",
       "        vertical-align: top;\n",
       "    }\n",
       "\n",
       "    .dataframe thead th {\n",
       "        text-align: right;\n",
       "    }\n",
       "</style>\n",
       "<table border=\"1\" class=\"dataframe\">\n",
       "  <thead>\n",
       "    <tr style=\"text-align: right;\">\n",
       "      <th></th>\n",
       "      <th>all_awardings</th>\n",
       "      <th>allow_live_comments</th>\n",
       "      <th>author</th>\n",
       "      <th>author_flair_css_class</th>\n",
       "      <th>author_flair_richtext</th>\n",
       "      <th>author_flair_text</th>\n",
       "      <th>author_flair_type</th>\n",
       "      <th>author_fullname</th>\n",
       "      <th>author_patreon_flair</th>\n",
       "      <th>author_premium</th>\n",
       "      <th>...</th>\n",
       "      <th>subreddit_subscribers</th>\n",
       "      <th>subreddit_type</th>\n",
       "      <th>thumbnail</th>\n",
       "      <th>title</th>\n",
       "      <th>total_awards_received</th>\n",
       "      <th>treatment_tags</th>\n",
       "      <th>upvote_ratio</th>\n",
       "      <th>url</th>\n",
       "      <th>whitelist_status</th>\n",
       "      <th>wls</th>\n",
       "    </tr>\n",
       "  </thead>\n",
       "  <tbody>\n",
       "    <tr>\n",
       "      <th>0</th>\n",
       "      <td>[]</td>\n",
       "      <td>False</td>\n",
       "      <td>Hjecom</td>\n",
       "      <td>None</td>\n",
       "      <td>[]</td>\n",
       "      <td>None</td>\n",
       "      <td>text</td>\n",
       "      <td>t2_9sv5rfl9</td>\n",
       "      <td>False</td>\n",
       "      <td>False</td>\n",
       "      <td>...</td>\n",
       "      <td>2186774</td>\n",
       "      <td>public</td>\n",
       "      <td>self</td>\n",
       "      <td>Question about basic genetics</td>\n",
       "      <td>0</td>\n",
       "      <td>[]</td>\n",
       "      <td>1.0</td>\n",
       "      <td>https://www.reddit.com/r/biology/comments/kzb0...</td>\n",
       "      <td>all_ads</td>\n",
       "      <td>6</td>\n",
       "    </tr>\n",
       "    <tr>\n",
       "      <th>1</th>\n",
       "      <td>[]</td>\n",
       "      <td>False</td>\n",
       "      <td>SureInstruction5625</td>\n",
       "      <td>None</td>\n",
       "      <td>[]</td>\n",
       "      <td>None</td>\n",
       "      <td>text</td>\n",
       "      <td>t2_91upnx5c</td>\n",
       "      <td>False</td>\n",
       "      <td>False</td>\n",
       "      <td>...</td>\n",
       "      <td>2186764</td>\n",
       "      <td>public</td>\n",
       "      <td>self</td>\n",
       "      <td>high school science online journal club</td>\n",
       "      <td>0</td>\n",
       "      <td>[]</td>\n",
       "      <td>1.0</td>\n",
       "      <td>https://www.reddit.com/r/biology/comments/kzat...</td>\n",
       "      <td>all_ads</td>\n",
       "      <td>6</td>\n",
       "    </tr>\n",
       "  </tbody>\n",
       "</table>\n",
       "<p>2 rows × 61 columns</p>\n",
       "</div>"
      ],
      "text/plain": [
       "  all_awardings  allow_live_comments               author  \\\n",
       "0            []                False               Hjecom   \n",
       "1            []                False  SureInstruction5625   \n",
       "\n",
       "  author_flair_css_class author_flair_richtext author_flair_text  \\\n",
       "0                   None                    []              None   \n",
       "1                   None                    []              None   \n",
       "\n",
       "  author_flair_type author_fullname  author_patreon_flair  author_premium  \\\n",
       "0              text     t2_9sv5rfl9                 False           False   \n",
       "1              text     t2_91upnx5c                 False           False   \n",
       "\n",
       "   ... subreddit_subscribers  subreddit_type  thumbnail  \\\n",
       "0  ...               2186774          public       self   \n",
       "1  ...               2186764          public       self   \n",
       "\n",
       "                                     title total_awards_received  \\\n",
       "0            Question about basic genetics                     0   \n",
       "1  high school science online journal club                     0   \n",
       "\n",
       "  treatment_tags upvote_ratio  \\\n",
       "0             []          1.0   \n",
       "1             []          1.0   \n",
       "\n",
       "                                                 url  whitelist_status  wls  \n",
       "0  https://www.reddit.com/r/biology/comments/kzb0...           all_ads    6  \n",
       "1  https://www.reddit.com/r/biology/comments/kzat...           all_ads    6  \n",
       "\n",
       "[2 rows x 61 columns]"
      ]
     },
     "execution_count": 176,
     "metadata": {},
     "output_type": "execute_result"
    }
   ],
   "source": [
    "#if you have a list of dictionaries you have a pandas dataframe\n",
    "bio_df = pd.DataFrame(bio_posts)\n",
    "bio_df"
   ]
  },
  {
   "cell_type": "code",
   "execution_count": 4,
   "metadata": {},
   "outputs": [],
   "source": [
    "def subreddit_pull(df,subreddit):\n",
    "    \n",
    "    '''\n",
    "    Arguments: take in starting df, and subreddit name as a string\n",
    "    Output: returns a dataframe of submission data from the subreddit\n",
    "    URL: contains url for pulling submission data\n",
    "    '''\n",
    "    while len(df) < 10_000:\n",
    "        url = 'https://api.pushshift.io/reddit/search/submission'\n",
    "        \n",
    "        utc = df['created_utc'].min()\n",
    "        params = {\n",
    "        'subreddit': subreddit,\n",
    "        'size': 100,\n",
    "        'before': utc\n",
    "        }\n",
    "    \n",
    "        req = requests.get(url,params)\n",
    "        \n",
    "        if req.status_code == 200 or req.status_code==300:\n",
    "            data = req.json()\n",
    "            new_posts = data['data']\n",
    "            new_df = pd.DataFrame(new_posts)\n",
    "            \n",
    "            #cleaning: remove rows with [deleted] or [removed] selftext/titles\n",
    "            #replace removed or deleted posts with np.nan\n",
    "            new_df.replace('[removed]',np.nan,inplace=True)\n",
    "            new_df.replace('[deleted]',np.nan,inplace=True)\n",
    "            \n",
    "            #drop rows from the selftext and title columns that are null\n",
    "            if new_df['title'].isna().sum() > 0:\n",
    "                new_df.dropna(axis=0,how='any',subset=['title'],inplace=True)\n",
    "                    \n",
    "            df = pd.concat([df,new_df],ignore_index=True,axis=0)\n",
    "        else:\n",
    "            continue\n",
    "        \n",
    "    return df"
   ]
  },
  {
   "cell_type": "markdown",
   "metadata": {},
   "source": [
    "#### subreddit_pull Explained:\n",
    "\n",
    "The function subreddit_pull is used to pull more data from the designated subreddit and concatenate it onto an existing dataframe. It will ignore request status codes that 'error', do not get a successive request of 200 or 300. The function will also filter rows that have been deleted or removed, pre-cleaning, to take in as much useful data as possible. It will return the dataframe, when the number of rows breaks 10,000. The r/biology subreddit did not throw any errors, or get stuck within an infinite loop. This function, howver, did not work when pulling from the r/biochemistry subreddit."
   ]
  },
  {
   "cell_type": "code",
   "execution_count": 5,
   "metadata": {},
   "outputs": [],
   "source": [
    "def subreddit_pull_biochem(df,subreddit):\n",
    "    fail_req = 0\n",
    "    '''\n",
    "    Arguments: take in starting df, and subreddit name as a string\n",
    "    Output: returns a dataframe of submission data from the subreddit\n",
    "    URL: contains url for pulling submission data\n",
    "    '''\n",
    "    while len(df) < 10_000:\n",
    "        url = 'https://api.pushshift.io/reddit/search/submission'\n",
    "        \n",
    "        utc = df['created_utc'].min()\n",
    "        params = {\n",
    "        'subreddit': subreddit,\n",
    "        'size': 100,\n",
    "        'before': utc\n",
    "        }\n",
    "    \n",
    "        req = requests.get(url,params)\n",
    "        \n",
    "        if req.status_code == 200:\n",
    "            data = req.json()\n",
    "            new_posts = data['data']\n",
    "            new_df = pd.DataFrame(new_posts)      \n",
    "            df = pd.concat([df,new_df],ignore_index=True,axis=0)\n",
    "        else:\n",
    "            fail_req += 1\n",
    "            continue\n",
    "        #making function more robust to errors on requests\n",
    "        \n",
    "        if fail_req == 100:\n",
    "            return df\n",
    "    \n",
    "    return df"
   ]
  },
  {
   "cell_type": "markdown",
   "metadata": {},
   "source": [
    "#### subreddit_pull_biochem Explained\n",
    "\n",
    "The above function I used on the biochemistry subreddit. The subreddit_pull_biochem function required a more robust capturing of the failed requests. This subreddit was prone to failed requests and would become stuck within an infinite loop, if the failed requests were not used to break the loop."
   ]
  },
  {
   "cell_type": "markdown",
   "metadata": {},
   "source": [
    "## Pulling r/biology Submission Data"
   ]
  },
  {
   "cell_type": "code",
   "execution_count": 15,
   "metadata": {},
   "outputs": [],
   "source": [
    "#use function to pull 10_000 observations from the bio subreddit\n",
    "final_bio_df = subreddit_pull(bio_df,'biology')"
   ]
  },
  {
   "cell_type": "code",
   "execution_count": 46,
   "metadata": {},
   "outputs": [],
   "source": [
    "#important columns for the project\n",
    "final_bio_df = final_bio_df[['subreddit','selftext','title']]"
   ]
  },
  {
   "cell_type": "code",
   "execution_count": 78,
   "metadata": {},
   "outputs": [
    {
     "data": {
      "text/plain": [
       "selftext    0\n",
       "title       0\n",
       "dtype: int64"
      ]
     },
     "execution_count": 78,
     "metadata": {},
     "output_type": "execute_result"
    }
   ],
   "source": [
    "#cheking the null values of the dataframe\n",
    "final_bio_df[['selftext','title']].isna().sum()"
   ]
  },
  {
   "cell_type": "code",
   "execution_count": 49,
   "metadata": {},
   "outputs": [
    {
     "data": {
      "text/plain": [
       "                                                                                                                                                                                                                                                                                                                                                                                                                                                                                                                                                                                                                                                                                                                                                                                                                                                                                                                                                                                                                                                                                                                                                                                                                                                                                                                                                                                                                                                                                                                                                                                                                                                                                                                                                                                                                                                                                                                                                                                                                                                                                                                                                                                                                                                                                                                                                                                                                                                                                          5282\n",
       "[ANN] VAST improvement - (SEXY?? I tried retraining it but I have no idea if it had any effect haha) AI Dungeon 2! \\n It's a frighteningly dark infinite text adventure game. It learns how to get under your skin and test your paradigms. \\n Seriously, there are YouTubes upon youtubes on this. OG dev llives at github, in a user called aidungeon and repo of the same. \\n http://jare.cloud/ai-dungeon-2/ \\n Android AI Chat Apps! \\n(Android apps are LIVE, much less intrusive and resource intensive... DOWNLOAD NOW! \\nA streamlined, less heavy version of the banned books bot lives here:\\n https://play.google.com/store/apps/details?id=com.dcss.bannedbooks \\nand another way to see how kinky the computer can be lives here: https://play.google.com/store/apps/details?id=com.dcss.flirtbot \\n\\nI made a bunch of different AIs, but today I improved my strategy and built AIs that have context from your existing conversation and tries to communicate conversationally rather than as a question-asnwering type chat.\\n\\n\\nThe best news?\\n\\n\\nI built this particular one on The Ricky Gervais Show featuring Steve Merchant and Karl Pilkington - all the transcripts I could find ;)\\n\\n\\nhttp://jare.cloud/the-ricky-gervais-show-featuring-steve-merchant-and-karl-pilkington-chat-bot/\\n\\n\\nI built this one to flirt with you regardless of the time of day, or such stresses common folk have like headaches or being toooo tired...\\n\\n\\nhttp://jare.cloud/sexy-flirt-bot/\\n\\n\\nI built this one to reference only banned books by the likes of Chomsky or dozens of banned books on the occult or current situations....\\n\\n\\nhttp://jare.cloud/banned-books-bot/\\n\\n\\n(note that the last 2 are being re-trained from acting as question-answering bots to being more conversational bots that have context from the last messages as we speak :) be about 5 more hours before they're live-worthy....)\\n\\n\\nThis one simply draws it's wealth of knowledge from a subsection of reddit posts, and is probably the most likely to beat the Turing test of all of them:\\n\\n\\nhttp://jare.cloud/regular-ol-chat-bot/\\n\\n\\nIgnore the ads, or enjoy them if you want - PS what are you doing on the internet still viewing ads? Get a browser that protects you and your privacy, and has a built-in adblocker!: https://brave.com/jar850\\n\\n\\nNote that I'm pending some android apps with a fuller, more in-depth experience :) \\n\\n\\n + 4630-53892      11\n",
       "Hi, I’m a junior and I took AP Bio my sophomore year. I really liked this class. I did really well and would want to help incoming AP Bio students learn it easily. I can help you prepare throughout the summer and during the school year to get that 5 on the AP Bio exam. You can respond to me or comment if you want me to make another class to help you learn other topics in biology, such as skeletal system/neuroscience/muscular systems/anything you would be interested in. I’ll post videos, worksheets, quizzes/exercises that you can do if you would like, and we can even meet on zoom if you guys would want. Give it a shot and i’ll try my best to help. \\n\\nThe class code for the AP Bio class: rvugdta                                                                                                                                                                                                                                                                                                                                                                                                                                                                                                                                                                                                                                                                                                                                                                                                                                                                                                                                                                                                                                                                                                                                                                                                                                                                                                                                                                                                                                                                                                                                                                                                                                                                                                                                                              6\n",
       "Title                                                                                                                                                                                                                                                                                                                                                                                                                                                                                                                                                                                                                                                                                                                                                                                                                                                                                                                                                                                                                                                                                                                                                                                                                                                                                                                                                                                                                                                                                                                                                                                                                                                                                                                                                                                                                                                                                                                                                                                                                                                                                                                                                                                                                                                                                                                                                                                                                                                                                        4\n",
       "Hi guys, I’m trying to look for some paid science (mainly biology) writing gigs and wonder if any of you know of any avenues to follow? \\n\\nAny help is appreciated. \\n\\nMany thanks x                                                                                                                                                                                                                                                                                                                                                                                                                                                                                                                                                                                                                                                                                                                                                                                                                                                                                                                                                                                                                                                                                                                                                                                                                                                                                                                                                                                                                                                                                                                                                                                                                                                                                                                                                                                                                                                                                                                                                                                                                                                                                                                                                                                                                                                                                                       4\n",
       "                                                                                                                                                                                                                                                                                                                                                                                                                                                                                                                                                                                                                                                                                                                                                                                                                                                                                                                                                                                                                                                                                                                                                                                                                                                                                                                                                                                                                                                                                                                                                                                                                                                                                                                                                                                                                                                                                                                                                                                                                                                                                                                                                                                                                                                                                                                                                                                                                                                                                          ... \n",
       "when i sleep from 12am to 7am i can stay up all the way until 1-2am but when i flip my sleeping hours to 7am to 2pm i can only stay up to 8-13 hours before falling asleep so why does this happen.would like that 4 hours                                                                                                                                                                                                                                                                                                                                                                                                                                                                                                                                                                                                                                                                                                                                                                                                                                                                                                                                                                                                                                                                                                                                                                                                                                                                                                                                                                                                                                                                                                                                                                                                                                                                                                                                                                                                                                                                                                                                                                                                                                                                                                                                                                                                                                                                   1\n",
       "So, I was reheating ground beef and realized that the beef at the bottom of the container (that was still wet) was all covered in bacteria. The meat at the top of the container that was not touching it at all looks completely fine. \\n\\nI have never cooked beef before and would like to know anyone's opinion on this because i don't want to throw out my dish if i can avoid it. Sorry if this the wrong sub to post. Thank you.                                                                                                                                                                                                                                                                                                                                                                                                                                                                                                                                                                                                                                                                                                                                                                                                                                                                                                                                                                                                                                                                                                                                                                                                                                                                                                                                                                                                                                                                                                                                                                                                                                                                                                                                                                                                                                                                                                                                                                                                                                                     1\n",
       "\\nHey guys, just looking for some advice. Currently, I’m a sophomore bio major w/ a plant and soil science minor. I’m mainly interested in pursuing a career related to plant science, agronomy, etc or soil conservation but I’m not closed off to other opportunities that may arise. Would it be beneficial to add an environmental science minor career wise? I’m really interested in the classes that satisfy that minor at my uni and extra time or money isn’t really a factor. Any thoughts, anecdotes, pros/cons welcome.\\n\\nThanks in advance :)                                                                                                                                                                                                                                                                                                                                                                                                                                                                                                                                                                                                                                                                                                                                                                                                                                                                                                                                                                                                                                                                                                                                                                                                                                                                                                                                                                                                                                                                                                                                                                                                                                                                                                                                                                                                                                                                                                                                  1\n",
       "Im 15 and haven’t really taken biology yet, but can anyone tell me where ions traveling down a neuron go when they reach another type of cell, for example a skin cell.                                                                                                                                                                                                                                                                                                                                                                                                                                                                                                                                                                                                                                                                                                                                                                                                                                                                                                                                                                                                                                                                                                                                                                                                                                                                                                                                                                                                                                                                                                                                                                                                                                                                                                                                                                                                                                                                                                                                                                                                                                                                                                                                                                                                                                                                                                                      1\n",
       "I didn't realize how significant knowledge of immunology is and didn't even think to take a course until  half way through my final quarter of college. I have decide to try to learn on my own since I have entirely too much free time and think it would be really helpful. Anyway, does anyone know a good lecture series on this? I looked a bit, but decided it make more sense to ask before digging through videos for hours. Any info is helpful.                                                                                                                                                                                                                                                                                                                                                                                                                                                                                                                                                                                                                                                                                                                                                                                                                                                                                                                                                                                                                                                                                                                                                                                                                                                                                                                                                                                                                                                                                                                                                                                                                                                                                                                                                                                                                                                                                                                                                                                                                                   1\n",
       "Name: selftext, Length: 4736, dtype: int64"
      ]
     },
     "execution_count": 49,
     "metadata": {},
     "output_type": "execute_result"
    }
   ],
   "source": [
    "#checking out initial value counts of the biology dataframe\n",
    "final_bio_df['selftext'].value_counts()"
   ]
  },
  {
   "cell_type": "code",
   "execution_count": 50,
   "metadata": {},
   "outputs": [],
   "source": [
    "#drop rows from the selftext and title columns that are null\n",
    "final_bio_df.dropna(axis=0,how='any',subset=['selftext','title'],inplace=True)"
   ]
  },
  {
   "cell_type": "code",
   "execution_count": 53,
   "metadata": {},
   "outputs": [
    {
     "data": {
      "text/plain": [
       "Repetitive negative thinking is associated with amyloid, tau, and cognitive decline                                                                                                                                                                                                               13\n",
       "AIs from AI Dungeon 2 to sexy to funny and one based wholly on Reddit!                                                                                                                                                                                                                            11\n",
       "Question                                                                                                                                                                                                                                                                                          10\n",
       "Where Jaguars Are Killed, New Common Factor Emerges: Chinese Investment                                                                                                                                                                                                                            9\n",
       "Being a \"hugger\" might be hereditary. Those genetically predisposed to being more affectionate may especially be struggling with \"skin hunger\" amid COVID-19 physical distancing. A new study of twins finds that genetics play a significant role in how affectionate women are, but not men.     9\n",
       "                                                                                                                                                                                                                                                                                                  ..\n",
       "Replication                                                                                                                                                                                                                                                                                        1\n",
       "Trevor &amp; Nagini                                                                                                                                                                                                                                                                                1\n",
       "Biology vs BioMed                                                                                                                                                                                                                                                                                  1\n",
       "DNA Fingerprinting in Hindi | DNA Test in Hindi | Biotechnology in Hindi...                                                                                                                                                                                                                        1\n",
       "Tried to visualize how US public science funding breaks down within the overall federal budget                                                                                                                                                                                                     1\n",
       "Name: title, Length: 9651, dtype: int64"
      ]
     },
     "execution_count": 53,
     "metadata": {},
     "output_type": "execute_result"
    }
   ],
   "source": [
    "#checking out the title value counts from the biology dataframe\n",
    "final_bio_df['title'].value_counts()"
   ]
  },
  {
   "cell_type": "code",
   "execution_count": 54,
   "metadata": {},
   "outputs": [
    {
     "data": {
      "text/plain": [
       "(10072, 3)"
      ]
     },
     "execution_count": 54,
     "metadata": {},
     "output_type": "execute_result"
    }
   ],
   "source": [
    "#cataloging the final number of observations of the biology submissions dataframe\n",
    "#this final dataframe will next go to cleaning\n",
    "final_bio_df.shape"
   ]
  },
  {
   "cell_type": "code",
   "execution_count": 56,
   "metadata": {},
   "outputs": [],
   "source": [
    "#save the bio submissions df to csv file\n",
    "final_bio_df.to_csv('datasets/bio-submissions.csv',index=False)"
   ]
  },
  {
   "cell_type": "markdown",
   "metadata": {},
   "source": [
    "## Pulling r/biochemistry Submission Data"
   ]
  },
  {
   "cell_type": "code",
   "execution_count": 6,
   "metadata": {},
   "outputs": [],
   "source": [
    "#the url for pulling submissions\n",
    "url_submission = 'https://api.pushshift.io/reddit/search/submission'"
   ]
  },
  {
   "cell_type": "code",
   "execution_count": 7,
   "metadata": {},
   "outputs": [],
   "source": [
    "#create biochemistry params for requesting\n",
    "params = {\n",
    "    'subreddit': 'Biochemistry',\n",
    "    'size':2,\n",
    "}"
   ]
  },
  {
   "cell_type": "code",
   "execution_count": 8,
   "metadata": {},
   "outputs": [],
   "source": [
    "#use req to pull api\n",
    "#use the params in the get method\n",
    "req = requests.get(url_submission,params)"
   ]
  },
  {
   "cell_type": "code",
   "execution_count": 9,
   "metadata": {},
   "outputs": [
    {
     "data": {
      "text/plain": [
       "200"
      ]
     },
     "execution_count": 9,
     "metadata": {},
     "output_type": "execute_result"
    }
   ],
   "source": [
    "#status of the request\n",
    "req.status_code"
   ]
  },
  {
   "cell_type": "code",
   "execution_count": 10,
   "metadata": {},
   "outputs": [],
   "source": [
    "#read in the data as a json\n",
    "data_biochem = req.json()"
   ]
  },
  {
   "cell_type": "code",
   "execution_count": 11,
   "metadata": {},
   "outputs": [
    {
     "data": {
      "text/html": [
       "<div>\n",
       "<style scoped>\n",
       "    .dataframe tbody tr th:only-of-type {\n",
       "        vertical-align: middle;\n",
       "    }\n",
       "\n",
       "    .dataframe tbody tr th {\n",
       "        vertical-align: top;\n",
       "    }\n",
       "\n",
       "    .dataframe thead th {\n",
       "        text-align: right;\n",
       "    }\n",
       "</style>\n",
       "<table border=\"1\" class=\"dataframe\">\n",
       "  <thead>\n",
       "    <tr style=\"text-align: right;\">\n",
       "      <th></th>\n",
       "      <th>all_awardings</th>\n",
       "      <th>allow_live_comments</th>\n",
       "      <th>author</th>\n",
       "      <th>author_flair_css_class</th>\n",
       "      <th>author_flair_richtext</th>\n",
       "      <th>author_flair_text</th>\n",
       "      <th>author_flair_type</th>\n",
       "      <th>author_fullname</th>\n",
       "      <th>author_patreon_flair</th>\n",
       "      <th>author_premium</th>\n",
       "      <th>...</th>\n",
       "      <th>thumbnail</th>\n",
       "      <th>title</th>\n",
       "      <th>total_awards_received</th>\n",
       "      <th>treatment_tags</th>\n",
       "      <th>upvote_ratio</th>\n",
       "      <th>url</th>\n",
       "      <th>whitelist_status</th>\n",
       "      <th>wls</th>\n",
       "      <th>thumbnail_height</th>\n",
       "      <th>thumbnail_width</th>\n",
       "    </tr>\n",
       "  </thead>\n",
       "  <tbody>\n",
       "    <tr>\n",
       "      <th>0</th>\n",
       "      <td>[]</td>\n",
       "      <td>False</td>\n",
       "      <td>yeager00</td>\n",
       "      <td>None</td>\n",
       "      <td>[]</td>\n",
       "      <td>None</td>\n",
       "      <td>text</td>\n",
       "      <td>t2_6qe2u10t</td>\n",
       "      <td>False</td>\n",
       "      <td>False</td>\n",
       "      <td>...</td>\n",
       "      <td>self</td>\n",
       "      <td>What i must know to learn Biochemestry from 0?</td>\n",
       "      <td>0</td>\n",
       "      <td>[]</td>\n",
       "      <td>1.0</td>\n",
       "      <td>https://www.reddit.com/r/Biochemistry/comments...</td>\n",
       "      <td>all_ads</td>\n",
       "      <td>6</td>\n",
       "      <td>NaN</td>\n",
       "      <td>NaN</td>\n",
       "    </tr>\n",
       "    <tr>\n",
       "      <th>1</th>\n",
       "      <td>[]</td>\n",
       "      <td>False</td>\n",
       "      <td>SamSam3107</td>\n",
       "      <td>None</td>\n",
       "      <td>[]</td>\n",
       "      <td>None</td>\n",
       "      <td>text</td>\n",
       "      <td>t2_7c0j5nm6</td>\n",
       "      <td>False</td>\n",
       "      <td>False</td>\n",
       "      <td>...</td>\n",
       "      <td>https://a.thumbs.redditmedia.com/_-Mu-BX2ynr-j...</td>\n",
       "      <td>Problems in binding kinetic analysis in SPR</td>\n",
       "      <td>0</td>\n",
       "      <td>[]</td>\n",
       "      <td>1.0</td>\n",
       "      <td>https://www.reddit.com/r/Biochemistry/comments...</td>\n",
       "      <td>all_ads</td>\n",
       "      <td>6</td>\n",
       "      <td>61.0</td>\n",
       "      <td>140.0</td>\n",
       "    </tr>\n",
       "  </tbody>\n",
       "</table>\n",
       "<p>2 rows × 63 columns</p>\n",
       "</div>"
      ],
      "text/plain": [
       "  all_awardings  allow_live_comments      author author_flair_css_class  \\\n",
       "0            []                False    yeager00                   None   \n",
       "1            []                False  SamSam3107                   None   \n",
       "\n",
       "  author_flair_richtext author_flair_text author_flair_type author_fullname  \\\n",
       "0                    []              None              text     t2_6qe2u10t   \n",
       "1                    []              None              text     t2_7c0j5nm6   \n",
       "\n",
       "   author_patreon_flair  author_premium  ...  \\\n",
       "0                 False           False  ...   \n",
       "1                 False           False  ...   \n",
       "\n",
       "                                           thumbnail  \\\n",
       "0                                               self   \n",
       "1  https://a.thumbs.redditmedia.com/_-Mu-BX2ynr-j...   \n",
       "\n",
       "                                            title  total_awards_received  \\\n",
       "0  What i must know to learn Biochemestry from 0?                      0   \n",
       "1     Problems in binding kinetic analysis in SPR                      0   \n",
       "\n",
       "   treatment_tags upvote_ratio  \\\n",
       "0              []          1.0   \n",
       "1              []          1.0   \n",
       "\n",
       "                                                 url whitelist_status wls  \\\n",
       "0  https://www.reddit.com/r/Biochemistry/comments...          all_ads   6   \n",
       "1  https://www.reddit.com/r/Biochemistry/comments...          all_ads   6   \n",
       "\n",
       "   thumbnail_height  thumbnail_width  \n",
       "0               NaN              NaN  \n",
       "1              61.0            140.0  \n",
       "\n",
       "[2 rows x 63 columns]"
      ]
     },
     "execution_count": 11,
     "metadata": {},
     "output_type": "execute_result"
    }
   ],
   "source": [
    "#create first part of chem df\n",
    "biochem_posts = data_biochem['data']\n",
    "biochem_df = pd.DataFrame(biochem_posts)\n",
    "biochem_df"
   ]
  },
  {
   "cell_type": "code",
   "execution_count": 12,
   "metadata": {},
   "outputs": [],
   "source": [
    "#use subreddit_pull to create biochem_df\n",
    "final_biochem_df = subreddit_pull_biochem(biochem_df,'Biochemistry')"
   ]
  },
  {
   "cell_type": "code",
   "execution_count": 13,
   "metadata": {},
   "outputs": [
    {
     "data": {
      "text/plain": [
       "(10098, 97)"
      ]
     },
     "execution_count": 13,
     "metadata": {},
     "output_type": "execute_result"
    }
   ],
   "source": [
    "#the initial shape of the dataframe\n",
    "final_biochem_df.shape"
   ]
  },
  {
   "cell_type": "code",
   "execution_count": 14,
   "metadata": {},
   "outputs": [],
   "source": [
    "#replace removed or deleted posts with np.nan\n",
    "final_biochem_df.replace('[removed]',np.nan,inplace=True)\n",
    "final_biochem_df.replace('[deleted]',np.nan,inplace=True)\n",
    "\n",
    "#drop rows from the selftext and title columns that are null\n",
    "final_biochem_df.dropna(axis=0,how='any',subset=['selftext','title'],inplace=True)"
   ]
  },
  {
   "cell_type": "code",
   "execution_count": 16,
   "metadata": {},
   "outputs": [
    {
     "data": {
      "text/plain": [
       "(9069, 97)"
      ]
     },
     "execution_count": 16,
     "metadata": {},
     "output_type": "execute_result"
    }
   ],
   "source": [
    "#the shape after dropping the null rows for removed and deleted\n",
    "final_biochem_df.shape"
   ]
  },
  {
   "cell_type": "code",
   "execution_count": 25,
   "metadata": {},
   "outputs": [
    {
     "data": {
      "text/plain": [
       "                                                                                                                                                                                                                                                                                                                                                                                                                                                                                                                                                                                                                                                                                                                                                                                                                                                                         2840\n",
       "Hey guys I wanted to know how many ATP is produced by fructose in the liver??                                                                                                                                                                                                                                                                                                                                                                                                                                                                                                                                                                                                                                                                                                                                                                                               5\n",
       "It was GroES misconduct.                                                                                                                                                                                                                                                                                                                                                                                                                                                                                                                                                                                                                                                                                                                                                                                                                                                    2\n",
       "Could someone give the definitions with examples?\\n\\nMany different scientific articles study the effects of exercise interventions on different proteins in rat muscles and they use those terms quite often.\\n\\nAlso, if possible, please provide any good publications that discuss those terms.                                                                                                                                                                                                                                                                                                                                                                                                                                                                                                                                                                         2\n",
       "Hello all,\\n\\n\\nI'm a college sophomore thinking about changing my majors (biology and biological anthropology double major) to biochemistry. How are the job prospects for someone with a biochemistry degree? I'd imagine pursuing a PhD is the eventual path most people take. But I'd like to hear about what all of you do for a living! I know research in industry is popular-- what forms can that take? Could I pursue food science, medical research, etc.?\\n\\nThanks!                                                                                                                                                                                                                                                                                                                                                                                            2\n",
       "                                                                                                                                                                                                                                                                                                                                                                                                                                                                                                                                                                                                                                                                                                                                                                                                                                                                         ... \n",
       "Hey , so , I'm a med student that already failed biochem once , and I can't afford failing again, what book should I buy to review?\\n\\nLippincott's or lehninger?\\n\\nI must say that I have no previous background in Chemistry.\\n                                                                                                                                                                                                                                                                                                                                                                                                                                                                                                                                                                                                                                          1\n",
       "I'm sorry if this is the wrong sub to ask this question, I guess I just wanted to filter out answers that doesn't answer the question at all, if you know what I mean. \\n\\nIt's perplexing. I've just learned about the various factors that push proteins to take the shape they do, that they tend to take the shape that has the least free energy. \\n\\nBut I'm confused--why does it do this, why does it battle entropy and create order? I'm familiar with the processes but not a master on them so feel free to talk to me like a wee baby. If you have anything you recommend me to read please link me. The textbook I'm using is Lehninger's btw. \\n\\nThanks.                                                                                                                                                                                                    1\n",
       "It's fun to hear what everyone is passionate about. If a favorite small molecule does't come to mind then try to think of a structural motif or enzymatic mechanism that tickles your fancy. \\n\\nMy answer: I love all of the crazy implications different RNA tertiary structures can have on biological functions. I am biased because I work with telomerase, which has a badass RNA component called TR. TR acts as both a template for the reverse transcriptase component of the telomerase enzyme andddd as an important structural feature of the holoenzyme. But, I am also extremely intrigued by the translational regulation that IRES's (internal ribosome entry sites) seem to accomplish. I am excited to see how we can learn from IRES's and maybe use them in order to promote the expression of \"good\" proteins for therapeutic use.\\n\\nYour turn!       1\n",
       "If so, do you have any tips? I can't get full coverage and am unable to use supplemental activation.                                                                                                                                                                                                                                                                                                                                                                                                                                                                                                                                                                                                                                                                                                                                                                        1\n",
       "So I've been writing a lot of undergrad research papers on this topic and my conclusion is that there's maybe not actually that much use for metabolomics assisted selection. I've been arguing for it for months with points like cost and secondary metabolite selection and what not, but it just seems useless when compared to genomics selection. Does anyone have any reason/ scenario in which metabolomics assisted selection is better than gene assisted selection?                                                                                                                                                                                                                                                                                                                                                                                              1\n",
       "Name: selftext, Length: 6222, dtype: int64"
      ]
     },
     "execution_count": 25,
     "metadata": {},
     "output_type": "execute_result"
    }
   ],
   "source": [
    "#seeing the value counts of the selftext biochem dataframe\n",
    "final_biochem_df['selftext'].value_counts()"
   ]
  },
  {
   "cell_type": "code",
   "execution_count": 28,
   "metadata": {},
   "outputs": [],
   "source": [
    "#removing posts from the biochem df that are empty strings in the selftext column\n",
    "final_biochem_df = final_biochem_df[final_biochem_df['selftext'] != '']"
   ]
  },
  {
   "cell_type": "code",
   "execution_count": 35,
   "metadata": {},
   "outputs": [
    {
     "data": {
      "text/plain": [
       "(6229, 97)"
      ]
     },
     "execution_count": 35,
     "metadata": {},
     "output_type": "execute_result"
    }
   ],
   "source": [
    "#finding the final shape of the biochem dataframe after initial cleaning\n",
    "final_biochem_df.shape"
   ]
  },
  {
   "cell_type": "code",
   "execution_count": 38,
   "metadata": {},
   "outputs": [],
   "source": [
    "#creating the dataframe with the desired columns\n",
    "#the dataframe will next go to cleaning\n",
    "final_biochem_df = final_biochem_df[['subreddit','selftext','title']]"
   ]
  },
  {
   "cell_type": "code",
   "execution_count": 42,
   "metadata": {},
   "outputs": [],
   "source": [
    "#save the chem submissions df to csv file\n",
    "final_biochem_df.to_csv('datasets/biochem-submissions.csv',index=False)"
   ]
  }
 ],
 "metadata": {
  "kernelspec": {
   "display_name": "Python 3",
   "language": "python",
   "name": "python3"
  },
  "language_info": {
   "codemirror_mode": {
    "name": "ipython",
    "version": 3
   },
   "file_extension": ".py",
   "mimetype": "text/x-python",
   "name": "python",
   "nbconvert_exporter": "python",
   "pygments_lexer": "ipython3",
   "version": "3.8.5"
  }
 },
 "nbformat": 4,
 "nbformat_minor": 4
}
